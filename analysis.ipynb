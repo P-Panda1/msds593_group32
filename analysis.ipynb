{
 "cells": [
  {
   "cell_type": "code",
   "execution_count": 2,
   "metadata": {},
   "outputs": [],
   "source": [
    "import numpy as np\n",
    "import pandas as pd\n",
    "import matplotlib.pyplot as plt"
   ]
  },
  {
   "cell_type": "code",
   "execution_count": 3,
   "metadata": {},
   "outputs": [
    {
     "name": "stdout",
     "output_type": "stream",
     "text": [
      "Current Working Directory: /Users/shruti/MSDS593/EDA-project/msds593_group32\n"
     ]
    }
   ],
   "source": [
    "import os\n",
    "file_path = 'data/netflix_titles_Modified.csv'\n",
    "file_path2 = 'data/hulu_titles_modified.csv'\n",
    "print(\"Current Working Directory:\", os.getcwd())"
   ]
  },
  {
   "cell_type": "code",
   "execution_count": 4,
   "metadata": {},
   "outputs": [
    {
     "name": "stdout",
     "output_type": "stream",
     "text": [
      "CSV file loaded successfully.\n"
     ]
    }
   ],
   "source": [
    "try:\n",
    "    dfNetflix = pd.read_csv(file_path, encoding='ISO-8859-1')\n",
    "    dfHulu = pd.read_csv(file_path2, encoding='ISO-8859-1')\n",
    "    print(\"CSV file loaded successfully.\")\n",
    "except UnicodeDecodeError as e:\n",
    "    print(\"UnicodeDecodeError:\", e)\n",
    "    dfNetflix = pd.read_csv(file_path, encoding='utf-8', errors='replace')\n",
    "    dfHulu = pd.read_csv(file_path2, encoding='ISO-8859-1')\n",
    "    print(\"CSV file loaded with 'replace' option for errors.\")"
   ]
  },
  {
   "cell_type": "code",
   "execution_count": 5,
   "metadata": {},
   "outputs": [
    {
     "name": "stdout",
     "output_type": "stream",
     "text": [
      "<class 'pandas.core.frame.DataFrame'>\n",
      "RangeIndex: 8807 entries, 0 to 8806\n",
      "Data columns (total 14 columns):\n",
      " #   Column        Non-Null Count  Dtype  \n",
      "---  ------        --------------  -----  \n",
      " 0   show_id       8807 non-null   object \n",
      " 1   type          8807 non-null   object \n",
      " 2   title         8807 non-null   object \n",
      " 3   director      6173 non-null   object \n",
      " 4   cast          7982 non-null   object \n",
      " 5   country       7976 non-null   object \n",
      " 6   date_added    8797 non-null   object \n",
      " 7   release_year  8807 non-null   int64  \n",
      " 8   rating        8803 non-null   object \n",
      " 9   duration      8804 non-null   object \n",
      " 10  listed_in     8807 non-null   object \n",
      " 11  description   8807 non-null   object \n",
      " 12  Index         8807 non-null   int64  \n",
      " 13  IMDB_Rating   8425 non-null   float64\n",
      "dtypes: float64(1), int64(2), object(11)\n",
      "memory usage: 963.4+ KB\n"
     ]
    }
   ],
   "source": [
    "dfNetflix.info()"
   ]
  },
  {
   "cell_type": "code",
   "execution_count": 6,
   "metadata": {},
   "outputs": [
    {
     "data": {
      "text/html": [
       "<div>\n",
       "<style scoped>\n",
       "    .dataframe tbody tr th:only-of-type {\n",
       "        vertical-align: middle;\n",
       "    }\n",
       "\n",
       "    .dataframe tbody tr th {\n",
       "        vertical-align: top;\n",
       "    }\n",
       "\n",
       "    .dataframe thead th {\n",
       "        text-align: right;\n",
       "    }\n",
       "</style>\n",
       "<table border=\"1\" class=\"dataframe\">\n",
       "  <thead>\n",
       "    <tr style=\"text-align: right;\">\n",
       "      <th></th>\n",
       "      <th>show_id</th>\n",
       "      <th>type</th>\n",
       "      <th>title</th>\n",
       "      <th>director</th>\n",
       "      <th>cast</th>\n",
       "      <th>country</th>\n",
       "      <th>date_added</th>\n",
       "      <th>release_year</th>\n",
       "      <th>rating</th>\n",
       "      <th>duration</th>\n",
       "      <th>listed_in</th>\n",
       "      <th>description</th>\n",
       "      <th>Index</th>\n",
       "      <th>IMDB_Rating</th>\n",
       "    </tr>\n",
       "  </thead>\n",
       "  <tbody>\n",
       "    <tr>\n",
       "      <th>0</th>\n",
       "      <td>s1</td>\n",
       "      <td>Movie</td>\n",
       "      <td>Dick Johnson Is Dead</td>\n",
       "      <td>Kirsten Johnson</td>\n",
       "      <td>NaN</td>\n",
       "      <td>United States</td>\n",
       "      <td>September 25, 2021</td>\n",
       "      <td>2020</td>\n",
       "      <td>PG-13</td>\n",
       "      <td>90 min</td>\n",
       "      <td>Documentaries</td>\n",
       "      <td>As her father nears the end of his life, filmm...</td>\n",
       "      <td>0</td>\n",
       "      <td>7.4</td>\n",
       "    </tr>\n",
       "    <tr>\n",
       "      <th>1</th>\n",
       "      <td>s2</td>\n",
       "      <td>TV Show</td>\n",
       "      <td>Blood &amp; Water</td>\n",
       "      <td>NaN</td>\n",
       "      <td>Ama Qamata, Khosi Ngema, Gail Mabalane, Thaban...</td>\n",
       "      <td>South Africa</td>\n",
       "      <td>September 24, 2021</td>\n",
       "      <td>2021</td>\n",
       "      <td>TV-MA</td>\n",
       "      <td>2 Seasons</td>\n",
       "      <td>International TV Shows, TV Dramas, TV Mysteries</td>\n",
       "      <td>After crossing paths at a party, a Cape Town t...</td>\n",
       "      <td>1</td>\n",
       "      <td>6.7</td>\n",
       "    </tr>\n",
       "    <tr>\n",
       "      <th>2</th>\n",
       "      <td>s3</td>\n",
       "      <td>TV Show</td>\n",
       "      <td>Ganglands</td>\n",
       "      <td>Julien Leclercq</td>\n",
       "      <td>Sami Bouajila, Tracy Gotoas, Samuel Jouy, Nabi...</td>\n",
       "      <td>NaN</td>\n",
       "      <td>September 24, 2021</td>\n",
       "      <td>2021</td>\n",
       "      <td>TV-MA</td>\n",
       "      <td>1 Season</td>\n",
       "      <td>Crime TV Shows, International TV Shows, TV Act...</td>\n",
       "      <td>To protect his family from a powerful drug lor...</td>\n",
       "      <td>2</td>\n",
       "      <td>7.2</td>\n",
       "    </tr>\n",
       "    <tr>\n",
       "      <th>3</th>\n",
       "      <td>s4</td>\n",
       "      <td>TV Show</td>\n",
       "      <td>Jailbirds New Orleans</td>\n",
       "      <td>NaN</td>\n",
       "      <td>NaN</td>\n",
       "      <td>NaN</td>\n",
       "      <td>September 24, 2021</td>\n",
       "      <td>2021</td>\n",
       "      <td>TV-MA</td>\n",
       "      <td>1 Season</td>\n",
       "      <td>Docuseries, Reality TV</td>\n",
       "      <td>Feuds, flirtations and toilet talk go down amo...</td>\n",
       "      <td>3</td>\n",
       "      <td>6.5</td>\n",
       "    </tr>\n",
       "    <tr>\n",
       "      <th>4</th>\n",
       "      <td>s5</td>\n",
       "      <td>TV Show</td>\n",
       "      <td>Kota Factory</td>\n",
       "      <td>NaN</td>\n",
       "      <td>Mayur More, Jitendra Kumar, Ranjan Raj, Alam K...</td>\n",
       "      <td>India</td>\n",
       "      <td>September 24, 2021</td>\n",
       "      <td>2021</td>\n",
       "      <td>TV-MA</td>\n",
       "      <td>2 Seasons</td>\n",
       "      <td>International TV Shows, Romantic TV Shows, TV ...</td>\n",
       "      <td>In a city of coaching centers known to train I...</td>\n",
       "      <td>4</td>\n",
       "      <td>9.0</td>\n",
       "    </tr>\n",
       "    <tr>\n",
       "      <th>5</th>\n",
       "      <td>s6</td>\n",
       "      <td>TV Show</td>\n",
       "      <td>Midnight Mass</td>\n",
       "      <td>Mike Flanagan</td>\n",
       "      <td>Kate Siegel, Zach Gilford, Hamish Linklater, H...</td>\n",
       "      <td>NaN</td>\n",
       "      <td>September 24, 2021</td>\n",
       "      <td>2021</td>\n",
       "      <td>TV-MA</td>\n",
       "      <td>1 Season</td>\n",
       "      <td>TV Dramas, TV Horror, TV Mysteries</td>\n",
       "      <td>The arrival of a charismatic young priest brin...</td>\n",
       "      <td>5</td>\n",
       "      <td>7.7</td>\n",
       "    </tr>\n",
       "    <tr>\n",
       "      <th>6</th>\n",
       "      <td>s7</td>\n",
       "      <td>Movie</td>\n",
       "      <td>My Little Pony: A New Generation</td>\n",
       "      <td>Robert Cullen, JosÃ© Luis Ucha</td>\n",
       "      <td>Vanessa Hudgens, Kimiko Glenn, James Marsden, ...</td>\n",
       "      <td>NaN</td>\n",
       "      <td>September 24, 2021</td>\n",
       "      <td>2021</td>\n",
       "      <td>PG</td>\n",
       "      <td>91 min</td>\n",
       "      <td>Children &amp; Family Movies</td>\n",
       "      <td>Equestria's divided. But a bright-eyed hero be...</td>\n",
       "      <td>6</td>\n",
       "      <td>6.8</td>\n",
       "    </tr>\n",
       "    <tr>\n",
       "      <th>7</th>\n",
       "      <td>s8</td>\n",
       "      <td>Movie</td>\n",
       "      <td>Sankofa</td>\n",
       "      <td>Haile Gerima</td>\n",
       "      <td>Kofi Ghanaba, Oyafunmike Ogunlano, Alexandra D...</td>\n",
       "      <td>United States, Ghana, Burkina Faso, United Kin...</td>\n",
       "      <td>September 24, 2021</td>\n",
       "      <td>1993</td>\n",
       "      <td>TV-MA</td>\n",
       "      <td>125 min</td>\n",
       "      <td>Dramas, Independent Movies, International Movies</td>\n",
       "      <td>On a photo shoot in Ghana, an American model s...</td>\n",
       "      <td>7</td>\n",
       "      <td>7.0</td>\n",
       "    </tr>\n",
       "    <tr>\n",
       "      <th>8</th>\n",
       "      <td>s9</td>\n",
       "      <td>TV Show</td>\n",
       "      <td>The Great British Baking Show</td>\n",
       "      <td>Andy Devonshire</td>\n",
       "      <td>Mel Giedroyc, Sue Perkins, Mary Berry, Paul Ho...</td>\n",
       "      <td>United Kingdom</td>\n",
       "      <td>September 24, 2021</td>\n",
       "      <td>2021</td>\n",
       "      <td>TV-14</td>\n",
       "      <td>9 Seasons</td>\n",
       "      <td>British TV Shows, Reality TV</td>\n",
       "      <td>A talented batch of amateur bakers face off in...</td>\n",
       "      <td>8</td>\n",
       "      <td>8.1</td>\n",
       "    </tr>\n",
       "    <tr>\n",
       "      <th>9</th>\n",
       "      <td>s10</td>\n",
       "      <td>Movie</td>\n",
       "      <td>The Starling</td>\n",
       "      <td>Theodore Melfi</td>\n",
       "      <td>Melissa McCarthy, Chris O'Dowd, Kevin Kline, T...</td>\n",
       "      <td>United States</td>\n",
       "      <td>September 24, 2021</td>\n",
       "      <td>2021</td>\n",
       "      <td>PG-13</td>\n",
       "      <td>104 min</td>\n",
       "      <td>Comedies, Dramas</td>\n",
       "      <td>A woman adjusting to life after a loss contend...</td>\n",
       "      <td>9</td>\n",
       "      <td>6.4</td>\n",
       "    </tr>\n",
       "  </tbody>\n",
       "</table>\n",
       "</div>"
      ],
      "text/plain": [
       "  show_id     type                             title  \\\n",
       "0      s1    Movie              Dick Johnson Is Dead   \n",
       "1      s2  TV Show                     Blood & Water   \n",
       "2      s3  TV Show                         Ganglands   \n",
       "3      s4  TV Show             Jailbirds New Orleans   \n",
       "4      s5  TV Show                      Kota Factory   \n",
       "5      s6  TV Show                     Midnight Mass   \n",
       "6      s7    Movie  My Little Pony: A New Generation   \n",
       "7      s8    Movie                           Sankofa   \n",
       "8      s9  TV Show     The Great British Baking Show   \n",
       "9     s10    Movie                      The Starling   \n",
       "\n",
       "                         director  \\\n",
       "0                 Kirsten Johnson   \n",
       "1                             NaN   \n",
       "2                 Julien Leclercq   \n",
       "3                             NaN   \n",
       "4                             NaN   \n",
       "5                   Mike Flanagan   \n",
       "6  Robert Cullen, JosÃ© Luis Ucha   \n",
       "7                    Haile Gerima   \n",
       "8                 Andy Devonshire   \n",
       "9                  Theodore Melfi   \n",
       "\n",
       "                                                cast  \\\n",
       "0                                                NaN   \n",
       "1  Ama Qamata, Khosi Ngema, Gail Mabalane, Thaban...   \n",
       "2  Sami Bouajila, Tracy Gotoas, Samuel Jouy, Nabi...   \n",
       "3                                                NaN   \n",
       "4  Mayur More, Jitendra Kumar, Ranjan Raj, Alam K...   \n",
       "5  Kate Siegel, Zach Gilford, Hamish Linklater, H...   \n",
       "6  Vanessa Hudgens, Kimiko Glenn, James Marsden, ...   \n",
       "7  Kofi Ghanaba, Oyafunmike Ogunlano, Alexandra D...   \n",
       "8  Mel Giedroyc, Sue Perkins, Mary Berry, Paul Ho...   \n",
       "9  Melissa McCarthy, Chris O'Dowd, Kevin Kline, T...   \n",
       "\n",
       "                                             country          date_added  \\\n",
       "0                                      United States  September 25, 2021   \n",
       "1                                       South Africa  September 24, 2021   \n",
       "2                                                NaN  September 24, 2021   \n",
       "3                                                NaN  September 24, 2021   \n",
       "4                                              India  September 24, 2021   \n",
       "5                                                NaN  September 24, 2021   \n",
       "6                                                NaN  September 24, 2021   \n",
       "7  United States, Ghana, Burkina Faso, United Kin...  September 24, 2021   \n",
       "8                                     United Kingdom  September 24, 2021   \n",
       "9                                      United States  September 24, 2021   \n",
       "\n",
       "   release_year rating   duration  \\\n",
       "0          2020  PG-13     90 min   \n",
       "1          2021  TV-MA  2 Seasons   \n",
       "2          2021  TV-MA   1 Season   \n",
       "3          2021  TV-MA   1 Season   \n",
       "4          2021  TV-MA  2 Seasons   \n",
       "5          2021  TV-MA   1 Season   \n",
       "6          2021     PG     91 min   \n",
       "7          1993  TV-MA    125 min   \n",
       "8          2021  TV-14  9 Seasons   \n",
       "9          2021  PG-13    104 min   \n",
       "\n",
       "                                           listed_in  \\\n",
       "0                                      Documentaries   \n",
       "1    International TV Shows, TV Dramas, TV Mysteries   \n",
       "2  Crime TV Shows, International TV Shows, TV Act...   \n",
       "3                             Docuseries, Reality TV   \n",
       "4  International TV Shows, Romantic TV Shows, TV ...   \n",
       "5                 TV Dramas, TV Horror, TV Mysteries   \n",
       "6                           Children & Family Movies   \n",
       "7   Dramas, Independent Movies, International Movies   \n",
       "8                       British TV Shows, Reality TV   \n",
       "9                                   Comedies, Dramas   \n",
       "\n",
       "                                         description  Index  IMDB_Rating  \n",
       "0  As her father nears the end of his life, filmm...      0          7.4  \n",
       "1  After crossing paths at a party, a Cape Town t...      1          6.7  \n",
       "2  To protect his family from a powerful drug lor...      2          7.2  \n",
       "3  Feuds, flirtations and toilet talk go down amo...      3          6.5  \n",
       "4  In a city of coaching centers known to train I...      4          9.0  \n",
       "5  The arrival of a charismatic young priest brin...      5          7.7  \n",
       "6  Equestria's divided. But a bright-eyed hero be...      6          6.8  \n",
       "7  On a photo shoot in Ghana, an American model s...      7          7.0  \n",
       "8  A talented batch of amateur bakers face off in...      8          8.1  \n",
       "9  A woman adjusting to life after a loss contend...      9          6.4  "
      ]
     },
     "execution_count": 6,
     "metadata": {},
     "output_type": "execute_result"
    }
   ],
   "source": [
    "dfNetflix.head(10)"
   ]
  },
  {
   "cell_type": "code",
   "execution_count": 7,
   "metadata": {},
   "outputs": [
    {
     "name": "stdout",
     "output_type": "stream",
     "text": [
      "<class 'pandas.core.frame.DataFrame'>\n",
      "Index: 8415 entries, 0 to 8806\n",
      "Data columns (total 14 columns):\n",
      " #   Column        Non-Null Count  Dtype  \n",
      "---  ------        --------------  -----  \n",
      " 0   show_id       8415 non-null   object \n",
      " 1   type          8415 non-null   object \n",
      " 2   title         8415 non-null   object \n",
      " 3   director      5926 non-null   object \n",
      " 4   cast          7649 non-null   object \n",
      " 5   country       7735 non-null   object \n",
      " 6   date_added    8415 non-null   object \n",
      " 7   release_year  8415 non-null   int64  \n",
      " 8   rating        8411 non-null   object \n",
      " 9   duration      8412 non-null   object \n",
      " 10  listed_in     8415 non-null   object \n",
      " 11  description   8415 non-null   object \n",
      " 12  Index         8415 non-null   int64  \n",
      " 13  IMDB_Rating   8415 non-null   float64\n",
      "dtypes: float64(1), int64(2), object(11)\n",
      "memory usage: 986.1+ KB\n"
     ]
    },
    {
     "data": {
      "text/plain": [
       "(8415, 14)"
      ]
     },
     "execution_count": 7,
     "metadata": {},
     "output_type": "execute_result"
    }
   ],
   "source": [
    "# Filter rows where 'date_added' is not NaN\n",
    "dfNetflixClean = dfNetflix[dfNetflix['date_added'].notna()].copy()\n",
    "dfNetflixClean = dfNetflixClean[dfNetflixClean['IMDB_Rating'].notna()].copy()\n",
    "dfNetflixClean.info()\n",
    "dfNetflixClean.shape"
   ]
  },
  {
   "cell_type": "code",
   "execution_count": 8,
   "metadata": {},
   "outputs": [
    {
     "data": {
      "text/plain": [
       "array(['September 25, 2021', 'September 24, 2021', 'September 23, 2021',\n",
       "       ..., 'December 6, 2018', 'March 9, 2016', 'January 11, 2020'],\n",
       "      dtype=object)"
      ]
     },
     "execution_count": 8,
     "metadata": {},
     "output_type": "execute_result"
    }
   ],
   "source": [
    "dfNetflixClean['date_added'].unique()"
   ]
  },
  {
   "cell_type": "code",
   "execution_count": 9,
   "metadata": {},
   "outputs": [
    {
     "data": {
      "text/plain": [
       "release_year\n",
       "2018    1094\n",
       "2017     979\n",
       "2019     968\n",
       "2020     912\n",
       "2016     856\n",
       "        ... \n",
       "1942       2\n",
       "1964       2\n",
       "1966       1\n",
       "1961       1\n",
       "1947       1\n",
       "Name: count, Length: 72, dtype: int64"
      ]
     },
     "execution_count": 9,
     "metadata": {},
     "output_type": "execute_result"
    }
   ],
   "source": [
    "dfNetflixClean['release_year'].value_counts()"
   ]
  },
  {
   "cell_type": "code",
   "execution_count": 10,
   "metadata": {},
   "outputs": [],
   "source": [
    "dfNetflixClean['date_added'] = pd.to_datetime(dfNetflixClean['date_added'], errors='coerce') \n",
    "dfNetflixClean['release_year'] = pd.to_datetime(dfNetflixClean['release_year'], errors='coerce', format='%Y') "
   ]
  },
  {
   "cell_type": "code",
   "execution_count": 11,
   "metadata": {},
   "outputs": [],
   "source": [
    "# Extract the year from 'date_added' and 'release_year' columns\n",
    "dfNetflixClean['year_added'] = dfNetflixClean['date_added'].dt.year\n",
    "dfNetflixClean['release_year'] = dfNetflixClean['release_year'].dt.year"
   ]
  },
  {
   "cell_type": "code",
   "execution_count": 12,
   "metadata": {},
   "outputs": [
    {
     "name": "stdout",
     "output_type": "stream",
     "text": [
      "<class 'pandas.core.frame.DataFrame'>\n",
      "Index: 8415 entries, 0 to 8806\n",
      "Data columns (total 15 columns):\n",
      " #   Column        Non-Null Count  Dtype         \n",
      "---  ------        --------------  -----         \n",
      " 0   show_id       8415 non-null   object        \n",
      " 1   type          8415 non-null   object        \n",
      " 2   title         8415 non-null   object        \n",
      " 3   director      5926 non-null   object        \n",
      " 4   cast          7649 non-null   object        \n",
      " 5   country       7735 non-null   object        \n",
      " 6   date_added    8329 non-null   datetime64[ns]\n",
      " 7   release_year  8415 non-null   int32         \n",
      " 8   rating        8411 non-null   object        \n",
      " 9   duration      8412 non-null   object        \n",
      " 10  listed_in     8415 non-null   object        \n",
      " 11  description   8415 non-null   object        \n",
      " 12  Index         8415 non-null   int64         \n",
      " 13  IMDB_Rating   8415 non-null   float64       \n",
      " 14  year_added    8329 non-null   float64       \n",
      "dtypes: datetime64[ns](1), float64(2), int32(1), int64(1), object(10)\n",
      "memory usage: 1019.0+ KB\n"
     ]
    }
   ],
   "source": [
    "dfNetflixClean.info()"
   ]
  },
  {
   "cell_type": "code",
   "execution_count": 13,
   "metadata": {},
   "outputs": [
    {
     "data": {
      "text/plain": [
       "[np.int32(2001),\n",
       " np.int32(2002),\n",
       " np.int32(2003),\n",
       " np.int32(2004),\n",
       " np.int32(2005),\n",
       " np.int32(2006),\n",
       " np.int32(2007),\n",
       " np.int32(2008),\n",
       " np.int32(2009),\n",
       " np.int32(2010),\n",
       " np.int32(2011),\n",
       " np.int32(2012),\n",
       " np.int32(2013),\n",
       " np.int32(2014),\n",
       " np.int32(2015),\n",
       " np.int32(2016),\n",
       " np.int32(2017),\n",
       " np.int32(2018),\n",
       " np.int32(2019),\n",
       " np.int32(2020),\n",
       " np.int32(2021)]"
      ]
     },
     "execution_count": 13,
     "metadata": {},
     "output_type": "execute_result"
    }
   ],
   "source": [
    "sorted([i for i in dfNetflixClean['release_year'].unique() if i > 2000])"
   ]
  },
  {
   "cell_type": "code",
   "execution_count": 14,
   "metadata": {},
   "outputs": [
    {
     "data": {
      "text/plain": [
       "array([2021., 2020., 2019., 2018., 2017., 2016., 2015., 2014., 2013.,\n",
       "       2012., 2011., 2009., 2008.,   nan, 2010.])"
      ]
     },
     "execution_count": 14,
     "metadata": {},
     "output_type": "execute_result"
    }
   ],
   "source": [
    "dfNetflixClean['year_added'].unique()"
   ]
  },
  {
   "cell_type": "code",
   "execution_count": 15,
   "metadata": {},
   "outputs": [
    {
     "name": "stdout",
     "output_type": "stream",
     "text": [
      "<class 'pandas.core.frame.DataFrame'>\n",
      "RangeIndex: 3073 entries, 0 to 3072\n",
      "Data columns (total 13 columns):\n",
      " #   Column        Non-Null Count  Dtype  \n",
      "---  ------        --------------  -----  \n",
      " 0   show_id       3073 non-null   object \n",
      " 1   type          3073 non-null   object \n",
      " 2   title         3073 non-null   object \n",
      " 3   director      3 non-null      object \n",
      " 4   cast          0 non-null      float64\n",
      " 5   country       1620 non-null   object \n",
      " 6   date_added    3045 non-null   object \n",
      " 7   release_year  3073 non-null   int64  \n",
      " 8   rating        2553 non-null   object \n",
      " 9   duration      2594 non-null   object \n",
      " 10  listed_in     3073 non-null   object \n",
      " 11  description   3069 non-null   object \n",
      " 12  IMDB_Rating   2799 non-null   float64\n",
      "dtypes: float64(2), int64(1), object(10)\n",
      "memory usage: 312.2+ KB\n"
     ]
    }
   ],
   "source": [
    "dfHulu.info()"
   ]
  },
  {
   "cell_type": "code",
   "execution_count": 16,
   "metadata": {},
   "outputs": [
    {
     "name": "stdout",
     "output_type": "stream",
     "text": [
      "<class 'pandas.core.frame.DataFrame'>\n",
      "Index: 2771 entries, 0 to 3044\n",
      "Data columns (total 13 columns):\n",
      " #   Column        Non-Null Count  Dtype  \n",
      "---  ------        --------------  -----  \n",
      " 0   show_id       2771 non-null   object \n",
      " 1   type          2771 non-null   object \n",
      " 2   title         2771 non-null   object \n",
      " 3   director      2 non-null      object \n",
      " 4   cast          0 non-null      float64\n",
      " 5   country       1556 non-null   object \n",
      " 6   date_added    2771 non-null   object \n",
      " 7   release_year  2771 non-null   int64  \n",
      " 8   rating        2399 non-null   object \n",
      " 9   duration      2387 non-null   object \n",
      " 10  listed_in     2771 non-null   object \n",
      " 11  description   2770 non-null   object \n",
      " 12  IMDB_Rating   2771 non-null   float64\n",
      "dtypes: float64(2), int64(1), object(10)\n",
      "memory usage: 303.1+ KB\n"
     ]
    },
    {
     "data": {
      "text/plain": [
       "(2771, 13)"
      ]
     },
     "execution_count": 16,
     "metadata": {},
     "output_type": "execute_result"
    }
   ],
   "source": [
    "# Filter rows where 'date_added' is not NaN\n",
    "dfHuluClean = dfHulu[dfHulu['date_added'].notna()].copy()\n",
    "dfHuluClean = dfHuluClean[dfHuluClean['IMDB_Rating'].notna()].copy()\n",
    "dfHuluClean.info()\n",
    "dfHuluClean.shape"
   ]
  },
  {
   "cell_type": "code",
   "execution_count": 17,
   "metadata": {},
   "outputs": [],
   "source": [
    "dfHuluClean['date_added'] = pd.to_datetime(dfHuluClean['date_added'], errors='coerce') \n",
    "dfHuluClean['release_year'] = pd.to_datetime(dfHuluClean['release_year'], errors='coerce', format='%Y') \n",
    "# Extract the year from 'date_added' and 'release_year' columns\n",
    "dfHuluClean['year_added'] = dfHuluClean['date_added'].dt.year\n",
    "dfHuluClean['release_year'] = dfHuluClean['release_year'].dt.year"
   ]
  },
  {
   "cell_type": "code",
   "execution_count": 18,
   "metadata": {},
   "outputs": [
    {
     "data": {
      "text/plain": [
       "(1624, 14)"
      ]
     },
     "execution_count": 18,
     "metadata": {},
     "output_type": "execute_result"
    }
   ],
   "source": [
    "dfNetflixClean[dfNetflixClean['release_year'] >2014].shape\n",
    "dfHuluClean[dfHuluClean['release_year'] >2014].shape"
   ]
  },
  {
   "cell_type": "code",
   "execution_count": null,
   "metadata": {},
   "outputs": [],
   "source": []
  },
  {
   "cell_type": "code",
   "execution_count": null,
   "metadata": {},
   "outputs": [],
   "source": []
  },
  {
   "cell_type": "code",
   "execution_count": 19,
   "metadata": {},
   "outputs": [
    {
     "name": "stdout",
     "output_type": "stream",
     "text": [
      "<class 'pandas.core.frame.DataFrame'>\n",
      "RangeIndex: 3073 entries, 0 to 3072\n",
      "Data columns (total 13 columns):\n",
      " #   Column        Non-Null Count  Dtype  \n",
      "---  ------        --------------  -----  \n",
      " 0   show_id       3073 non-null   object \n",
      " 1   type          3073 non-null   object \n",
      " 2   title         3073 non-null   object \n",
      " 3   director      3 non-null      object \n",
      " 4   cast          0 non-null      float64\n",
      " 5   country       1620 non-null   object \n",
      " 6   date_added    3045 non-null   object \n",
      " 7   release_year  3073 non-null   int64  \n",
      " 8   rating        2553 non-null   object \n",
      " 9   duration      2594 non-null   object \n",
      " 10  listed_in     3073 non-null   object \n",
      " 11  description   3069 non-null   object \n",
      " 12  IMDB_Rating   2799 non-null   float64\n",
      "dtypes: float64(2), int64(1), object(10)\n",
      "memory usage: 312.2+ KB\n"
     ]
    }
   ],
   "source": [
    "dfHulu.info()"
   ]
  },
  {
   "cell_type": "code",
   "execution_count": 20,
   "metadata": {},
   "outputs": [
    {
     "name": "stdout",
     "output_type": "stream",
     "text": [
      "2006-07-14 00:00:00\n"
     ]
    }
   ],
   "source": [
    "sorted([i for i in dfHuluClean['release_year'].unique()])\n",
    "print(min([i for i in dfHuluClean['date_added'].unique()]))"
   ]
  },
  {
   "cell_type": "code",
   "execution_count": 21,
   "metadata": {},
   "outputs": [
    {
     "data": {
      "text/plain": [
       "array(['90 min', '2 Seasons', '1 Season', '91 min', '125 min',\n",
       "       '9 Seasons', '104 min', '127 min', '4 Seasons', '67 min', '94 min',\n",
       "       '5 Seasons', '161 min', '61 min', '166 min', '147 min', '103 min',\n",
       "       '97 min', '106 min', '111 min', '3 Seasons', '110 min', '105 min',\n",
       "       '96 min', '124 min', '116 min', '98 min', '23 min', '115 min',\n",
       "       '122 min', '99 min', '88 min', '100 min', '6 Seasons', '102 min',\n",
       "       '93 min', '95 min', '85 min', '83 min', '113 min', '13 min',\n",
       "       '182 min', '48 min', '145 min', '87 min', '92 min', '80 min',\n",
       "       '117 min', '128 min', '119 min', '143 min', '114 min', '118 min',\n",
       "       '108 min', '63 min', '121 min', '142 min', '154 min', '120 min',\n",
       "       '82 min', '109 min', '101 min', '86 min', '229 min', '76 min',\n",
       "       '89 min', '156 min', '112 min', '107 min', '129 min', '135 min',\n",
       "       '136 min', '165 min', '150 min', '133 min', '70 min', '84 min',\n",
       "       '140 min', '7 Seasons', '64 min', '59 min', '139 min', '69 min',\n",
       "       '148 min', '189 min', '141 min', '130 min', '138 min', '81 min',\n",
       "       '132 min', '10 Seasons', '123 min', '65 min', '68 min', '66 min',\n",
       "       '62 min', '74 min', '131 min', '46 min', '38 min', '8 Seasons',\n",
       "       '17 Seasons', '126 min', '39 min', '155 min', '159 min', '12 min',\n",
       "       '273 min', '34 min', '36 min', '77 min', '60 min', '49 min',\n",
       "       '58 min', '72 min', '204 min', '212 min', '25 min', '73 min',\n",
       "       '29 min', '32 min', '35 min', '78 min', '71 min', '149 min',\n",
       "       '33 min', '54 min', '224 min', '162 min', '37 min', '137 min',\n",
       "       '75 min', '79 min', '55 min', '158 min', '164 min', '173 min',\n",
       "       '181 min', '185 min', '21 min', '24 min', '151 min', '42 min',\n",
       "       '22 min', '134 min', '177 min', '13 Seasons', '14 min', '53 min',\n",
       "       '8 min', '57 min', '28 min', '50 min', '26 min', '45 min',\n",
       "       '171 min', '15 min', '27 min', '51 min', '47 min', '44 min',\n",
       "       '146 min', '20 min', '157 min', '17 min', '203 min', '41 min',\n",
       "       '30 min', '52 min', '194 min', '15 Seasons', '233 min', '237 min',\n",
       "       '230 min', '195 min', '253 min', '152 min', '190 min', '160 min',\n",
       "       '208 min', '180 min', '144 min', '5 min', '174 min', '170 min',\n",
       "       '192 min', '209 min', '187 min', '172 min', '16 min', '193 min',\n",
       "       '176 min', '56 min', '169 min', '40 min', '10 min', '3 min',\n",
       "       '168 min', '312 min', '153 min', '214 min', '31 min', '163 min',\n",
       "       '19 min', '12 Seasons', nan, '179 min', '11 Seasons', '43 min',\n",
       "       '200 min', '196 min', '167 min', '178 min', '228 min', '18 min',\n",
       "       '205 min', '201 min', '191 min'], dtype=object)"
      ]
     },
     "execution_count": 21,
     "metadata": {},
     "output_type": "execute_result"
    }
   ],
   "source": [
    "dfNetflixClean['duration'].unique()"
   ]
  },
  {
   "cell_type": "code",
   "execution_count": 22,
   "metadata": {},
   "outputs": [
    {
     "data": {
      "text/plain": [
       "0.00    2008.0\n",
       "0.25    2018.0\n",
       "0.50    2019.0\n",
       "0.75    2020.0\n",
       "1.00    2021.0\n",
       "Name: year_added, dtype: float64"
      ]
     },
     "execution_count": 22,
     "metadata": {},
     "output_type": "execute_result"
    }
   ],
   "source": [
    "dfNetflixClean['year_added'].quantile([.0, 0.25, .5, 0.75,  1])"
   ]
  },
  {
   "cell_type": "code",
   "execution_count": 23,
   "metadata": {},
   "outputs": [
    {
     "data": {
      "text/html": [
       "<div>\n",
       "<style scoped>\n",
       "    .dataframe tbody tr th:only-of-type {\n",
       "        vertical-align: middle;\n",
       "    }\n",
       "\n",
       "    .dataframe tbody tr th {\n",
       "        vertical-align: top;\n",
       "    }\n",
       "\n",
       "    .dataframe thead th {\n",
       "        text-align: right;\n",
       "    }\n",
       "</style>\n",
       "<table border=\"1\" class=\"dataframe\">\n",
       "  <thead>\n",
       "    <tr style=\"text-align: right;\">\n",
       "      <th></th>\n",
       "      <th>show_id</th>\n",
       "      <th>title</th>\n",
       "      <th>director</th>\n",
       "      <th>cast</th>\n",
       "      <th>country</th>\n",
       "      <th>date_added</th>\n",
       "      <th>release_year</th>\n",
       "      <th>rating</th>\n",
       "      <th>duration</th>\n",
       "      <th>listed_in</th>\n",
       "      <th>description</th>\n",
       "      <th>Index</th>\n",
       "      <th>IMDB_Rating</th>\n",
       "      <th>year_added</th>\n",
       "    </tr>\n",
       "    <tr>\n",
       "      <th>type</th>\n",
       "      <th></th>\n",
       "      <th></th>\n",
       "      <th></th>\n",
       "      <th></th>\n",
       "      <th></th>\n",
       "      <th></th>\n",
       "      <th></th>\n",
       "      <th></th>\n",
       "      <th></th>\n",
       "      <th></th>\n",
       "      <th></th>\n",
       "      <th></th>\n",
       "      <th></th>\n",
       "      <th></th>\n",
       "    </tr>\n",
       "  </thead>\n",
       "  <tbody>\n",
       "    <tr>\n",
       "      <th>Movie</th>\n",
       "      <td>5861</td>\n",
       "      <td>5861</td>\n",
       "      <td>5706</td>\n",
       "      <td>5428</td>\n",
       "      <td>5510</td>\n",
       "      <td>5861</td>\n",
       "      <td>5861</td>\n",
       "      <td>5859</td>\n",
       "      <td>5858</td>\n",
       "      <td>5861</td>\n",
       "      <td>5861</td>\n",
       "      <td>5861</td>\n",
       "      <td>5861</td>\n",
       "      <td>5861</td>\n",
       "    </tr>\n",
       "    <tr>\n",
       "      <th>TV Show</th>\n",
       "      <td>2554</td>\n",
       "      <td>2554</td>\n",
       "      <td>220</td>\n",
       "      <td>2221</td>\n",
       "      <td>2225</td>\n",
       "      <td>2468</td>\n",
       "      <td>2554</td>\n",
       "      <td>2552</td>\n",
       "      <td>2554</td>\n",
       "      <td>2554</td>\n",
       "      <td>2554</td>\n",
       "      <td>2554</td>\n",
       "      <td>2554</td>\n",
       "      <td>2468</td>\n",
       "    </tr>\n",
       "  </tbody>\n",
       "</table>\n",
       "</div>"
      ],
      "text/plain": [
       "         show_id  title  director  cast  country  date_added  release_year  \\\n",
       "type                                                                         \n",
       "Movie       5861   5861      5706  5428     5510        5861          5861   \n",
       "TV Show     2554   2554       220  2221     2225        2468          2554   \n",
       "\n",
       "         rating  duration  listed_in  description  Index  IMDB_Rating  \\\n",
       "type                                                                    \n",
       "Movie      5859      5858       5861         5861   5861         5861   \n",
       "TV Show    2552      2554       2554         2554   2554         2554   \n",
       "\n",
       "         year_added  \n",
       "type                 \n",
       "Movie          5861  \n",
       "TV Show        2468  "
      ]
     },
     "execution_count": 23,
     "metadata": {},
     "output_type": "execute_result"
    }
   ],
   "source": [
    "dfNetflixClean.groupby('type').count()"
   ]
  },
  {
   "cell_type": "code",
   "execution_count": 24,
   "metadata": {},
   "outputs": [
    {
     "name": "stdout",
     "output_type": "stream",
     "text": [
      "3243\n"
     ]
    }
   ],
   "source": [
    "\n",
    "print(dfNetflixClean[dfNetflixClean['year_added'] >= 2020]['date_added'].count())"
   ]
  },
  {
   "cell_type": "code",
   "execution_count": 25,
   "metadata": {},
   "outputs": [
    {
     "data": {
      "text/html": [
       "<div>\n",
       "<style scoped>\n",
       "    .dataframe tbody tr th:only-of-type {\n",
       "        vertical-align: middle;\n",
       "    }\n",
       "\n",
       "    .dataframe tbody tr th {\n",
       "        vertical-align: top;\n",
       "    }\n",
       "\n",
       "    .dataframe thead th {\n",
       "        text-align: right;\n",
       "    }\n",
       "</style>\n",
       "<table border=\"1\" class=\"dataframe\">\n",
       "  <thead>\n",
       "    <tr style=\"text-align: right;\">\n",
       "      <th></th>\n",
       "      <th>show_id</th>\n",
       "      <th>title</th>\n",
       "      <th>director</th>\n",
       "      <th>cast</th>\n",
       "      <th>country</th>\n",
       "      <th>date_added</th>\n",
       "      <th>release_year</th>\n",
       "      <th>rating</th>\n",
       "      <th>duration</th>\n",
       "      <th>listed_in</th>\n",
       "      <th>description</th>\n",
       "      <th>IMDB_Rating</th>\n",
       "      <th>year_added</th>\n",
       "    </tr>\n",
       "    <tr>\n",
       "      <th>type</th>\n",
       "      <th></th>\n",
       "      <th></th>\n",
       "      <th></th>\n",
       "      <th></th>\n",
       "      <th></th>\n",
       "      <th></th>\n",
       "      <th></th>\n",
       "      <th></th>\n",
       "      <th></th>\n",
       "      <th></th>\n",
       "      <th></th>\n",
       "      <th></th>\n",
       "      <th></th>\n",
       "    </tr>\n",
       "  </thead>\n",
       "  <tbody>\n",
       "    <tr>\n",
       "      <th>Movie</th>\n",
       "      <td>1360</td>\n",
       "      <td>1360</td>\n",
       "      <td>2</td>\n",
       "      <td>0</td>\n",
       "      <td>653</td>\n",
       "      <td>1360</td>\n",
       "      <td>1360</td>\n",
       "      <td>1137</td>\n",
       "      <td>976</td>\n",
       "      <td>1360</td>\n",
       "      <td>1359</td>\n",
       "      <td>1360</td>\n",
       "      <td>1360</td>\n",
       "    </tr>\n",
       "    <tr>\n",
       "      <th>TV Show</th>\n",
       "      <td>1411</td>\n",
       "      <td>1411</td>\n",
       "      <td>0</td>\n",
       "      <td>0</td>\n",
       "      <td>903</td>\n",
       "      <td>1411</td>\n",
       "      <td>1411</td>\n",
       "      <td>1262</td>\n",
       "      <td>1411</td>\n",
       "      <td>1411</td>\n",
       "      <td>1411</td>\n",
       "      <td>1411</td>\n",
       "      <td>1411</td>\n",
       "    </tr>\n",
       "  </tbody>\n",
       "</table>\n",
       "</div>"
      ],
      "text/plain": [
       "         show_id  title  director  cast  country  date_added  release_year  \\\n",
       "type                                                                         \n",
       "Movie       1360   1360         2     0      653        1360          1360   \n",
       "TV Show     1411   1411         0     0      903        1411          1411   \n",
       "\n",
       "         rating  duration  listed_in  description  IMDB_Rating  year_added  \n",
       "type                                                                        \n",
       "Movie      1137       976       1360         1359         1360        1360  \n",
       "TV Show    1262      1411       1411         1411         1411        1411  "
      ]
     },
     "execution_count": 25,
     "metadata": {},
     "output_type": "execute_result"
    }
   ],
   "source": [
    "dfHuluClean.groupby('type').count()"
   ]
  },
  {
   "cell_type": "code",
   "execution_count": 26,
   "metadata": {},
   "outputs": [
    {
     "data": {
      "text/plain": [
       "0.00    2006.0\n",
       "0.25    2018.0\n",
       "0.50    2020.0\n",
       "0.75    2021.0\n",
       "1.00    2021.0\n",
       "Name: year_added, dtype: float64"
      ]
     },
     "execution_count": 26,
     "metadata": {},
     "output_type": "execute_result"
    }
   ],
   "source": [
    "dfHuluClean['year_added'].quantile([.0, 0.25, .5, 0.75,  1])"
   ]
  },
  {
   "cell_type": "code",
   "execution_count": 27,
   "metadata": {},
   "outputs": [
    {
     "name": "stdout",
     "output_type": "stream",
     "text": [
      "1714\n"
     ]
    }
   ],
   "source": [
    "print(dfHuluClean[dfHuluClean['year_added'] >= 2020]['date_added'].count())"
   ]
  },
  {
   "cell_type": "code",
   "execution_count": 28,
   "metadata": {},
   "outputs": [],
   "source": [
    "da1 =[dfNetflixClean[dfNetflixClean[\"IMDB_Rating\"]>7][\"IMDB_Rating\"].count(),\n",
    "dfNetflixClean[dfNetflixClean[\"IMDB_Rating\"]>8][\"IMDB_Rating\"].count(),\n",
    "dfNetflixClean[dfNetflixClean[\"IMDB_Rating\"]>9][\"IMDB_Rating\"].count(),\n",
    "dfHuluClean[dfHuluClean[\"IMDB_Rating\"]>7][\"IMDB_Rating\"].count(),\n",
    "dfHuluClean[dfHuluClean[\"IMDB_Rating\"]>8][\"IMDB_Rating\"].count(),\n",
    "dfHuluClean[dfHuluClean[\"IMDB_Rating\"]>9][\"IMDB_Rating\"].count(),\n",
    "]"
   ]
  },
  {
   "cell_type": "code",
   "execution_count": 29,
   "metadata": {},
   "outputs": [
    {
     "name": "stdout",
     "output_type": "stream",
     "text": [
      "[np.int64(3080), np.int64(736), np.int64(38), np.int64(1231), np.int64(342), np.int64(9)]\n"
     ]
    }
   ],
   "source": [
    "print(da1)"
   ]
  },
  {
   "cell_type": "code",
   "execution_count": 30,
   "metadata": {},
   "outputs": [],
   "source": [
    "netflixDocChecklist = [\"Documentaries\",\"Docuseries\"]\n",
    "huluDocChecklist = [\"Cooking & Food\",\"Documentaries\",\"Lifestyle & Culture\",\"History\"]"
   ]
  },
  {
   "cell_type": "code",
   "execution_count": 31,
   "metadata": {},
   "outputs": [],
   "source": [
    "def inCheck(checklist, lst):\n",
    "    if isinstance(lst, float):\n",
    "        return False\n",
    "    if isinstance(lst, type):\n",
    "        return False\n",
    "    for i in checklist:\n",
    "        if i in lst:\n",
    "            return True\n",
    "    return False"
   ]
  },
  {
   "cell_type": "code",
   "execution_count": 32,
   "metadata": {},
   "outputs": [
    {
     "data": {
      "text/plain": [
       "np.int64(1198)"
      ]
     },
     "execution_count": 32,
     "metadata": {},
     "output_type": "execute_result"
    }
   ],
   "source": [
    "dfHuluClean[[inCheck( huluDocChecklist, i) for i in dfHuluClean[\"listed_in\"]]][\"listed_in\"].count()\n",
    "dfNetflixClean[[inCheck( netflixDocChecklist, i) for i in dfNetflixClean[\"listed_in\"]]][\"listed_in\"].count()"
   ]
  },
  {
   "cell_type": "code",
   "execution_count": 33,
   "metadata": {},
   "outputs": [],
   "source": [
    "dfNetflix1500 =  dfNetflixClean.sort_values(by='date_added', ascending=False).head(1500).copy()\n"
   ]
  },
  {
   "cell_type": "code",
   "execution_count": 34,
   "metadata": {},
   "outputs": [],
   "source": [
    "# dfNetflix1500.head(15)"
   ]
  },
  {
   "cell_type": "code",
   "execution_count": 35,
   "metadata": {},
   "outputs": [
    {
     "data": {
      "text/html": [
       "<div>\n",
       "<style scoped>\n",
       "    .dataframe tbody tr th:only-of-type {\n",
       "        vertical-align: middle;\n",
       "    }\n",
       "\n",
       "    .dataframe tbody tr th {\n",
       "        vertical-align: top;\n",
       "    }\n",
       "\n",
       "    .dataframe thead th {\n",
       "        text-align: right;\n",
       "    }\n",
       "</style>\n",
       "<table border=\"1\" class=\"dataframe\">\n",
       "  <thead>\n",
       "    <tr style=\"text-align: right;\">\n",
       "      <th></th>\n",
       "      <th>show_id</th>\n",
       "      <th>type</th>\n",
       "      <th>title</th>\n",
       "      <th>director</th>\n",
       "      <th>cast</th>\n",
       "      <th>country</th>\n",
       "      <th>date_added</th>\n",
       "      <th>release_year</th>\n",
       "      <th>rating</th>\n",
       "      <th>duration</th>\n",
       "      <th>listed_in</th>\n",
       "      <th>description</th>\n",
       "      <th>Index</th>\n",
       "      <th>IMDB_Rating</th>\n",
       "      <th>year_added</th>\n",
       "    </tr>\n",
       "  </thead>\n",
       "  <tbody>\n",
       "    <tr>\n",
       "      <th>1528</th>\n",
       "      <td>s1529</td>\n",
       "      <td>TV Show</td>\n",
       "      <td>Run On</td>\n",
       "      <td>NaN</td>\n",
       "      <td>Yim Si-wan, Shin Sae-kyeong, Choi Soo-young, K...</td>\n",
       "      <td>South Korea</td>\n",
       "      <td>2020-12-17</td>\n",
       "      <td>2020</td>\n",
       "      <td>TV-MA</td>\n",
       "      <td>1 Season</td>\n",
       "      <td>International TV Shows, Romantic TV Shows, TV ...</td>\n",
       "      <td>Veering off course from his preset path, a tra...</td>\n",
       "      <td>1528</td>\n",
       "      <td>7.4</td>\n",
       "      <td>2020.0</td>\n",
       "    </tr>\n",
       "    <tr>\n",
       "      <th>1523</th>\n",
       "      <td>s1524</td>\n",
       "      <td>Movie</td>\n",
       "      <td>An Unremarkable Christmas</td>\n",
       "      <td>Juan Camilo Pinzon</td>\n",
       "      <td>Antonio Sanint, Luis Eduardo Arango, MarÃ­a Ce...</td>\n",
       "      <td>Colombia</td>\n",
       "      <td>2020-12-17</td>\n",
       "      <td>2020</td>\n",
       "      <td>TV-14</td>\n",
       "      <td>83 min</td>\n",
       "      <td>Comedies, Dramas, International Movies</td>\n",
       "      <td>An accountant and aspiring magician invites hi...</td>\n",
       "      <td>1523</td>\n",
       "      <td>3.3</td>\n",
       "      <td>2020.0</td>\n",
       "    </tr>\n",
       "    <tr>\n",
       "      <th>1524</th>\n",
       "      <td>s1525</td>\n",
       "      <td>Movie</td>\n",
       "      <td>Braven</td>\n",
       "      <td>Lin Oeding</td>\n",
       "      <td>Jason Momoa, Garret Dillahunt, Jill Wagner, St...</td>\n",
       "      <td>Canada</td>\n",
       "      <td>2020-12-17</td>\n",
       "      <td>2018</td>\n",
       "      <td>R</td>\n",
       "      <td>94 min</td>\n",
       "      <td>Action &amp; Adventure</td>\n",
       "      <td>A logger defends himself and his family from a...</td>\n",
       "      <td>1524</td>\n",
       "      <td>5.9</td>\n",
       "      <td>2020.0</td>\n",
       "    </tr>\n",
       "    <tr>\n",
       "      <th>1526</th>\n",
       "      <td>s1527</td>\n",
       "      <td>Movie</td>\n",
       "      <td>Love You to the Stars and Back</td>\n",
       "      <td>Antoinette Jadaone</td>\n",
       "      <td>Julia Barretto, Joshua Garcia, Carmina Villaro...</td>\n",
       "      <td>Philippines</td>\n",
       "      <td>2020-12-17</td>\n",
       "      <td>2017</td>\n",
       "      <td>TV-14</td>\n",
       "      <td>111 min</td>\n",
       "      <td>Comedies, International Movies, Romantic Movies</td>\n",
       "      <td>In search of aliens, a young woman's road trip...</td>\n",
       "      <td>1526</td>\n",
       "      <td>7.4</td>\n",
       "      <td>2020.0</td>\n",
       "    </tr>\n",
       "    <tr>\n",
       "      <th>1527</th>\n",
       "      <td>s1528</td>\n",
       "      <td>TV Show</td>\n",
       "      <td>Morphle</td>\n",
       "      <td>NaN</td>\n",
       "      <td>NaN</td>\n",
       "      <td>Netherlands</td>\n",
       "      <td>2020-12-17</td>\n",
       "      <td>2020</td>\n",
       "      <td>TV-Y</td>\n",
       "      <td>2 Seasons</td>\n",
       "      <td>British TV Shows, Kids' TV</td>\n",
       "      <td>Little Mila turns playtime into a series of fu...</td>\n",
       "      <td>1527</td>\n",
       "      <td>4.2</td>\n",
       "      <td>2020.0</td>\n",
       "    </tr>\n",
       "    <tr>\n",
       "      <th>1529</th>\n",
       "      <td>s1530</td>\n",
       "      <td>Movie</td>\n",
       "      <td>Sakaling Maging Tayo</td>\n",
       "      <td>JP Habac</td>\n",
       "      <td>McCoy De Leon, Elisse Joson, Bembol Roco, Chai...</td>\n",
       "      <td>Philippines</td>\n",
       "      <td>2020-12-17</td>\n",
       "      <td>2019</td>\n",
       "      <td>TV-14</td>\n",
       "      <td>90 min</td>\n",
       "      <td>International Movies, Romantic Movies</td>\n",
       "      <td>A college student seizes his chance with a cru...</td>\n",
       "      <td>1529</td>\n",
       "      <td>6.7</td>\n",
       "      <td>2020.0</td>\n",
       "    </tr>\n",
       "    <tr>\n",
       "      <th>1530</th>\n",
       "      <td>s1531</td>\n",
       "      <td>TV Show</td>\n",
       "      <td>Schulz Saves America</td>\n",
       "      <td>Alexx Media</td>\n",
       "      <td>Andrew Schulz</td>\n",
       "      <td>United States</td>\n",
       "      <td>2020-12-17</td>\n",
       "      <td>2020</td>\n",
       "      <td>TV-MA</td>\n",
       "      <td>1 Season</td>\n",
       "      <td>Stand-Up Comedy &amp; Talk Shows, TV Comedies</td>\n",
       "      <td>Comedian Andrew Schulz takes on the year's mos...</td>\n",
       "      <td>1530</td>\n",
       "      <td>7.3</td>\n",
       "      <td>2020.0</td>\n",
       "    </tr>\n",
       "    <tr>\n",
       "      <th>1531</th>\n",
       "      <td>s1532</td>\n",
       "      <td>Movie</td>\n",
       "      <td>The Wedding Shaman</td>\n",
       "      <td>Farishad I. Latjuba</td>\n",
       "      <td>Atiqah Hasiholan, Tutie Kirana, Arifin Putra, ...</td>\n",
       "      <td>NaN</td>\n",
       "      <td>2020-12-17</td>\n",
       "      <td>2019</td>\n",
       "      <td>TV-PG</td>\n",
       "      <td>111 min</td>\n",
       "      <td>Dramas, International Movies, Romantic Movies</td>\n",
       "      <td>After a betrayal at work, a finance profession...</td>\n",
       "      <td>1531</td>\n",
       "      <td>7.1</td>\n",
       "      <td>2020.0</td>\n",
       "    </tr>\n",
       "    <tr>\n",
       "      <th>1536</th>\n",
       "      <td>s1537</td>\n",
       "      <td>Movie</td>\n",
       "      <td>Incarnate</td>\n",
       "      <td>Brad Peyton</td>\n",
       "      <td>Aaron Eckhart, Carice van Houten, Catalina San...</td>\n",
       "      <td>United States</td>\n",
       "      <td>2020-12-16</td>\n",
       "      <td>2016</td>\n",
       "      <td>PG-13</td>\n",
       "      <td>87 min</td>\n",
       "      <td>Horror Movies, Thrillers</td>\n",
       "      <td>An unconventional demon hunter faces his great...</td>\n",
       "      <td>1536</td>\n",
       "      <td>5.3</td>\n",
       "      <td>2020.0</td>\n",
       "    </tr>\n",
       "    <tr>\n",
       "      <th>1534</th>\n",
       "      <td>s1535</td>\n",
       "      <td>Movie</td>\n",
       "      <td>Bwakaw</td>\n",
       "      <td>Jun Lana</td>\n",
       "      <td>Eddie Garcia, Princess, Rez Cortez, Bibeth Ort...</td>\n",
       "      <td>Philippines, Canada, United Kingdom, United St...</td>\n",
       "      <td>2020-12-16</td>\n",
       "      <td>2012</td>\n",
       "      <td>TV-MA</td>\n",
       "      <td>110 min</td>\n",
       "      <td>Dramas, International Movies, LGBTQ Movies</td>\n",
       "      <td>Gruff and alone, retiree Rene rejects most hum...</td>\n",
       "      <td>1534</td>\n",
       "      <td>7.1</td>\n",
       "      <td>2020.0</td>\n",
       "    </tr>\n",
       "    <tr>\n",
       "      <th>1532</th>\n",
       "      <td>s1533</td>\n",
       "      <td>TV Show</td>\n",
       "      <td>Anitta: Made In HonÃ³rio</td>\n",
       "      <td>Andrucha Waddington, Pedro Waddington</td>\n",
       "      <td>Anitta</td>\n",
       "      <td>Brazil</td>\n",
       "      <td>2020-12-16</td>\n",
       "      <td>2020</td>\n",
       "      <td>TV-MA</td>\n",
       "      <td>1 Season</td>\n",
       "      <td>Docuseries, International TV Shows</td>\n",
       "      <td>In this intimate documentary, Brazilian pop qu...</td>\n",
       "      <td>1532</td>\n",
       "      <td>6.9</td>\n",
       "      <td>2020.0</td>\n",
       "    </tr>\n",
       "    <tr>\n",
       "      <th>1533</th>\n",
       "      <td>s1534</td>\n",
       "      <td>TV Show</td>\n",
       "      <td>BREAK IT ALL: The History of Rock in Latin Ame...</td>\n",
       "      <td>Picky Talarico</td>\n",
       "      <td>NaN</td>\n",
       "      <td>NaN</td>\n",
       "      <td>2020-12-16</td>\n",
       "      <td>2020</td>\n",
       "      <td>TV-MA</td>\n",
       "      <td>1 Season</td>\n",
       "      <td>Docuseries, Spanish-Language TV Shows</td>\n",
       "      <td>Soda Stereo, CafÃ© Tacvba, Aterciopelados and ...</td>\n",
       "      <td>1533</td>\n",
       "      <td>7.6</td>\n",
       "      <td>2020.0</td>\n",
       "    </tr>\n",
       "    <tr>\n",
       "      <th>1538</th>\n",
       "      <td>s1539</td>\n",
       "      <td>TV Show</td>\n",
       "      <td>Marvel Anime: Wolverine</td>\n",
       "      <td>NaN</td>\n",
       "      <td>Rikiya Koyama, Romi Park, Fumiko Orikasa, Hide...</td>\n",
       "      <td>United States, Japan</td>\n",
       "      <td>2020-12-16</td>\n",
       "      <td>2011</td>\n",
       "      <td>TV-14</td>\n",
       "      <td>1 Season</td>\n",
       "      <td>Anime Series, International TV Shows</td>\n",
       "      <td>Logan, aka mutant X-Man Wolverine, is on a que...</td>\n",
       "      <td>1538</td>\n",
       "      <td>6.2</td>\n",
       "      <td>2020.0</td>\n",
       "    </tr>\n",
       "    <tr>\n",
       "      <th>1539</th>\n",
       "      <td>s1540</td>\n",
       "      <td>TV Show</td>\n",
       "      <td>Marvel Anime: X-Men</td>\n",
       "      <td>NaN</td>\n",
       "      <td>Toshiyuki Morikawa, Rikiya Koyama, Katsunosuke...</td>\n",
       "      <td>Japan</td>\n",
       "      <td>2020-12-16</td>\n",
       "      <td>2011</td>\n",
       "      <td>TV-14</td>\n",
       "      <td>1 Season</td>\n",
       "      <td>Anime Series, International TV Shows</td>\n",
       "      <td>A year after their dissolution, the X-Men are ...</td>\n",
       "      <td>1539</td>\n",
       "      <td>6.8</td>\n",
       "      <td>2020.0</td>\n",
       "    </tr>\n",
       "    <tr>\n",
       "      <th>1540</th>\n",
       "      <td>s1541</td>\n",
       "      <td>Movie</td>\n",
       "      <td>Nocturnal Animals</td>\n",
       "      <td>Tom Ford</td>\n",
       "      <td>Amy Adams, Jake Gyllenhaal, Michael Shannon, A...</td>\n",
       "      <td>United States</td>\n",
       "      <td>2020-12-16</td>\n",
       "      <td>2016</td>\n",
       "      <td>R</td>\n",
       "      <td>117 min</td>\n",
       "      <td>Dramas, Thrillers</td>\n",
       "      <td>Reading her ex-husband's violent novel manuscr...</td>\n",
       "      <td>1540</td>\n",
       "      <td>7.5</td>\n",
       "      <td>2020.0</td>\n",
       "    </tr>\n",
       "  </tbody>\n",
       "</table>\n",
       "</div>"
      ],
      "text/plain": [
       "     show_id     type                                              title  \\\n",
       "1528   s1529  TV Show                                             Run On   \n",
       "1523   s1524    Movie                          An Unremarkable Christmas   \n",
       "1524   s1525    Movie                                             Braven   \n",
       "1526   s1527    Movie                     Love You to the Stars and Back   \n",
       "1527   s1528  TV Show                                            Morphle   \n",
       "1529   s1530    Movie                               Sakaling Maging Tayo   \n",
       "1530   s1531  TV Show                               Schulz Saves America   \n",
       "1531   s1532    Movie                                 The Wedding Shaman   \n",
       "1536   s1537    Movie                                          Incarnate   \n",
       "1534   s1535    Movie                                             Bwakaw   \n",
       "1532   s1533  TV Show                           Anitta: Made In HonÃ³rio   \n",
       "1533   s1534  TV Show  BREAK IT ALL: The History of Rock in Latin Ame...   \n",
       "1538   s1539  TV Show                            Marvel Anime: Wolverine   \n",
       "1539   s1540  TV Show                                Marvel Anime: X-Men   \n",
       "1540   s1541    Movie                                  Nocturnal Animals   \n",
       "\n",
       "                                   director  \\\n",
       "1528                                    NaN   \n",
       "1523                     Juan Camilo Pinzon   \n",
       "1524                             Lin Oeding   \n",
       "1526                     Antoinette Jadaone   \n",
       "1527                                    NaN   \n",
       "1529                               JP Habac   \n",
       "1530                            Alexx Media   \n",
       "1531                    Farishad I. Latjuba   \n",
       "1536                            Brad Peyton   \n",
       "1534                               Jun Lana   \n",
       "1532  Andrucha Waddington, Pedro Waddington   \n",
       "1533                         Picky Talarico   \n",
       "1538                                    NaN   \n",
       "1539                                    NaN   \n",
       "1540                               Tom Ford   \n",
       "\n",
       "                                                   cast  \\\n",
       "1528  Yim Si-wan, Shin Sae-kyeong, Choi Soo-young, K...   \n",
       "1523  Antonio Sanint, Luis Eduardo Arango, MarÃ­a Ce...   \n",
       "1524  Jason Momoa, Garret Dillahunt, Jill Wagner, St...   \n",
       "1526  Julia Barretto, Joshua Garcia, Carmina Villaro...   \n",
       "1527                                                NaN   \n",
       "1529  McCoy De Leon, Elisse Joson, Bembol Roco, Chai...   \n",
       "1530                                      Andrew Schulz   \n",
       "1531  Atiqah Hasiholan, Tutie Kirana, Arifin Putra, ...   \n",
       "1536  Aaron Eckhart, Carice van Houten, Catalina San...   \n",
       "1534  Eddie Garcia, Princess, Rez Cortez, Bibeth Ort...   \n",
       "1532                                             Anitta   \n",
       "1533                                                NaN   \n",
       "1538  Rikiya Koyama, Romi Park, Fumiko Orikasa, Hide...   \n",
       "1539  Toshiyuki Morikawa, Rikiya Koyama, Katsunosuke...   \n",
       "1540  Amy Adams, Jake Gyllenhaal, Michael Shannon, A...   \n",
       "\n",
       "                                                country date_added  \\\n",
       "1528                                        South Korea 2020-12-17   \n",
       "1523                                           Colombia 2020-12-17   \n",
       "1524                                             Canada 2020-12-17   \n",
       "1526                                        Philippines 2020-12-17   \n",
       "1527                                        Netherlands 2020-12-17   \n",
       "1529                                        Philippines 2020-12-17   \n",
       "1530                                      United States 2020-12-17   \n",
       "1531                                                NaN 2020-12-17   \n",
       "1536                                      United States 2020-12-16   \n",
       "1534  Philippines, Canada, United Kingdom, United St... 2020-12-16   \n",
       "1532                                             Brazil 2020-12-16   \n",
       "1533                                                NaN 2020-12-16   \n",
       "1538                               United States, Japan 2020-12-16   \n",
       "1539                                              Japan 2020-12-16   \n",
       "1540                                      United States 2020-12-16   \n",
       "\n",
       "      release_year rating   duration  \\\n",
       "1528          2020  TV-MA   1 Season   \n",
       "1523          2020  TV-14     83 min   \n",
       "1524          2018      R     94 min   \n",
       "1526          2017  TV-14    111 min   \n",
       "1527          2020   TV-Y  2 Seasons   \n",
       "1529          2019  TV-14     90 min   \n",
       "1530          2020  TV-MA   1 Season   \n",
       "1531          2019  TV-PG    111 min   \n",
       "1536          2016  PG-13     87 min   \n",
       "1534          2012  TV-MA    110 min   \n",
       "1532          2020  TV-MA   1 Season   \n",
       "1533          2020  TV-MA   1 Season   \n",
       "1538          2011  TV-14   1 Season   \n",
       "1539          2011  TV-14   1 Season   \n",
       "1540          2016      R    117 min   \n",
       "\n",
       "                                              listed_in  \\\n",
       "1528  International TV Shows, Romantic TV Shows, TV ...   \n",
       "1523             Comedies, Dramas, International Movies   \n",
       "1524                                 Action & Adventure   \n",
       "1526    Comedies, International Movies, Romantic Movies   \n",
       "1527                         British TV Shows, Kids' TV   \n",
       "1529              International Movies, Romantic Movies   \n",
       "1530          Stand-Up Comedy & Talk Shows, TV Comedies   \n",
       "1531      Dramas, International Movies, Romantic Movies   \n",
       "1536                           Horror Movies, Thrillers   \n",
       "1534         Dramas, International Movies, LGBTQ Movies   \n",
       "1532                 Docuseries, International TV Shows   \n",
       "1533              Docuseries, Spanish-Language TV Shows   \n",
       "1538               Anime Series, International TV Shows   \n",
       "1539               Anime Series, International TV Shows   \n",
       "1540                                  Dramas, Thrillers   \n",
       "\n",
       "                                            description  Index  IMDB_Rating  \\\n",
       "1528  Veering off course from his preset path, a tra...   1528          7.4   \n",
       "1523  An accountant and aspiring magician invites hi...   1523          3.3   \n",
       "1524  A logger defends himself and his family from a...   1524          5.9   \n",
       "1526  In search of aliens, a young woman's road trip...   1526          7.4   \n",
       "1527  Little Mila turns playtime into a series of fu...   1527          4.2   \n",
       "1529  A college student seizes his chance with a cru...   1529          6.7   \n",
       "1530  Comedian Andrew Schulz takes on the year's mos...   1530          7.3   \n",
       "1531  After a betrayal at work, a finance profession...   1531          7.1   \n",
       "1536  An unconventional demon hunter faces his great...   1536          5.3   \n",
       "1534  Gruff and alone, retiree Rene rejects most hum...   1534          7.1   \n",
       "1532  In this intimate documentary, Brazilian pop qu...   1532          6.9   \n",
       "1533  Soda Stereo, CafÃ© Tacvba, Aterciopelados and ...   1533          7.6   \n",
       "1538  Logan, aka mutant X-Man Wolverine, is on a que...   1538          6.2   \n",
       "1539  A year after their dissolution, the X-Men are ...   1539          6.8   \n",
       "1540  Reading her ex-husband's violent novel manuscr...   1540          7.5   \n",
       "\n",
       "      year_added  \n",
       "1528      2020.0  \n",
       "1523      2020.0  \n",
       "1524      2020.0  \n",
       "1526      2020.0  \n",
       "1527      2020.0  \n",
       "1529      2020.0  \n",
       "1530      2020.0  \n",
       "1531      2020.0  \n",
       "1536      2020.0  \n",
       "1534      2020.0  \n",
       "1532      2020.0  \n",
       "1533      2020.0  \n",
       "1538      2020.0  \n",
       "1539      2020.0  \n",
       "1540      2020.0  "
      ]
     },
     "execution_count": 35,
     "metadata": {},
     "output_type": "execute_result"
    }
   ],
   "source": [
    "dfNetflix1500.tail(15)"
   ]
  },
  {
   "cell_type": "code",
   "execution_count": 36,
   "metadata": {},
   "outputs": [],
   "source": [
    "dfHulu1500 =  dfHuluClean.sort_values(by='date_added', ascending=False).head(1500).copy()"
   ]
  },
  {
   "cell_type": "code",
   "execution_count": 37,
   "metadata": {},
   "outputs": [],
   "source": [
    "# dfHulu1500.head(15)"
   ]
  },
  {
   "cell_type": "code",
   "execution_count": 38,
   "metadata": {},
   "outputs": [
    {
     "data": {
      "text/html": [
       "<div>\n",
       "<style scoped>\n",
       "    .dataframe tbody tr th:only-of-type {\n",
       "        vertical-align: middle;\n",
       "    }\n",
       "\n",
       "    .dataframe tbody tr th {\n",
       "        vertical-align: top;\n",
       "    }\n",
       "\n",
       "    .dataframe thead th {\n",
       "        text-align: right;\n",
       "    }\n",
       "</style>\n",
       "<table border=\"1\" class=\"dataframe\">\n",
       "  <thead>\n",
       "    <tr style=\"text-align: right;\">\n",
       "      <th></th>\n",
       "      <th>show_id</th>\n",
       "      <th>type</th>\n",
       "      <th>title</th>\n",
       "      <th>director</th>\n",
       "      <th>cast</th>\n",
       "      <th>country</th>\n",
       "      <th>date_added</th>\n",
       "      <th>release_year</th>\n",
       "      <th>rating</th>\n",
       "      <th>duration</th>\n",
       "      <th>listed_in</th>\n",
       "      <th>description</th>\n",
       "      <th>IMDB_Rating</th>\n",
       "      <th>year_added</th>\n",
       "    </tr>\n",
       "  </thead>\n",
       "  <tbody>\n",
       "    <tr>\n",
       "      <th>1656</th>\n",
       "      <td>s1657</td>\n",
       "      <td>Movie</td>\n",
       "      <td>Top End Wedding</td>\n",
       "      <td>NaN</td>\n",
       "      <td>NaN</td>\n",
       "      <td>Australia</td>\n",
       "      <td>2020-05-22</td>\n",
       "      <td>2019</td>\n",
       "      <td>102 min</td>\n",
       "      <td>NaN</td>\n",
       "      <td>Comedy, Romance</td>\n",
       "      <td>Lauren and Ned are engaged, they are in love, ...</td>\n",
       "      <td>6.3</td>\n",
       "      <td>2020</td>\n",
       "    </tr>\n",
       "    <tr>\n",
       "      <th>1657</th>\n",
       "      <td>s1658</td>\n",
       "      <td>TV Show</td>\n",
       "      <td>K.C. Undercover</td>\n",
       "      <td>NaN</td>\n",
       "      <td>NaN</td>\n",
       "      <td>United States</td>\n",
       "      <td>2020-05-21</td>\n",
       "      <td>2015</td>\n",
       "      <td>TV-Y7</td>\n",
       "      <td>3 Seasons</td>\n",
       "      <td>Black Stories, Comedy, Family</td>\n",
       "      <td>High school student K.C. Cooper goes undercove...</td>\n",
       "      <td>6.5</td>\n",
       "      <td>2020</td>\n",
       "    </tr>\n",
       "    <tr>\n",
       "      <th>1658</th>\n",
       "      <td>s1659</td>\n",
       "      <td>Movie</td>\n",
       "      <td>Red Dog</td>\n",
       "      <td>NaN</td>\n",
       "      <td>NaN</td>\n",
       "      <td>United States, Costa Rica</td>\n",
       "      <td>2020-05-21</td>\n",
       "      <td>2019</td>\n",
       "      <td>102 min</td>\n",
       "      <td>NaN</td>\n",
       "      <td>Documentaries</td>\n",
       "      <td>Hit songwriter Luke Dick spent his childhood i...</td>\n",
       "      <td>7.3</td>\n",
       "      <td>2020</td>\n",
       "    </tr>\n",
       "    <tr>\n",
       "      <th>1664</th>\n",
       "      <td>s1665</td>\n",
       "      <td>Movie</td>\n",
       "      <td>Cosmos</td>\n",
       "      <td>NaN</td>\n",
       "      <td>NaN</td>\n",
       "      <td>United Kingdom</td>\n",
       "      <td>2020-05-20</td>\n",
       "      <td>2019</td>\n",
       "      <td>129 min</td>\n",
       "      <td>NaN</td>\n",
       "      <td>Action, Adventure, Drama</td>\n",
       "      <td>Three amateur astronomers accidentally interce...</td>\n",
       "      <td>9.2</td>\n",
       "      <td>2020</td>\n",
       "    </tr>\n",
       "    <tr>\n",
       "      <th>1669</th>\n",
       "      <td>s1670</td>\n",
       "      <td>Movie</td>\n",
       "      <td>The Mandela Effect</td>\n",
       "      <td>NaN</td>\n",
       "      <td>NaN</td>\n",
       "      <td>United States</td>\n",
       "      <td>2020-05-20</td>\n",
       "      <td>2019</td>\n",
       "      <td>80 min</td>\n",
       "      <td>NaN</td>\n",
       "      <td>Horror, Science Fiction, Thriller</td>\n",
       "      <td>A man becomes obsessed with facts and events t...</td>\n",
       "      <td>5.8</td>\n",
       "      <td>2020</td>\n",
       "    </tr>\n",
       "    <tr>\n",
       "      <th>1666</th>\n",
       "      <td>s1667</td>\n",
       "      <td>TV Show</td>\n",
       "      <td>Morphle</td>\n",
       "      <td>NaN</td>\n",
       "      <td>NaN</td>\n",
       "      <td>NaN</td>\n",
       "      <td>2020-05-20</td>\n",
       "      <td>2019</td>\n",
       "      <td>NaN</td>\n",
       "      <td>1 Season</td>\n",
       "      <td>Action, Adventure, Family</td>\n",
       "      <td>My Magic Pet Morphle' is an animated hit TV sh...</td>\n",
       "      <td>4.2</td>\n",
       "      <td>2020</td>\n",
       "    </tr>\n",
       "    <tr>\n",
       "      <th>1665</th>\n",
       "      <td>s1666</td>\n",
       "      <td>Movie</td>\n",
       "      <td>Da Sweet Blood of Jesus</td>\n",
       "      <td>NaN</td>\n",
       "      <td>NaN</td>\n",
       "      <td>NaN</td>\n",
       "      <td>2020-05-20</td>\n",
       "      <td>2015</td>\n",
       "      <td>NaN</td>\n",
       "      <td>124 min</td>\n",
       "      <td>Comedy, Horror, Thriller</td>\n",
       "      <td>In this stylized Spike Lee thriller, a man cur...</td>\n",
       "      <td>4.5</td>\n",
       "      <td>2020</td>\n",
       "    </tr>\n",
       "    <tr>\n",
       "      <th>1668</th>\n",
       "      <td>s1669</td>\n",
       "      <td>TV Show</td>\n",
       "      <td>Scandal</td>\n",
       "      <td>NaN</td>\n",
       "      <td>NaN</td>\n",
       "      <td>NaN</td>\n",
       "      <td>2020-05-20</td>\n",
       "      <td>2012</td>\n",
       "      <td>TV-14</td>\n",
       "      <td>7 Seasons</td>\n",
       "      <td>Black Stories, Drama</td>\n",
       "      <td>A former media relations consultant to the Pre...</td>\n",
       "      <td>7.7</td>\n",
       "      <td>2020</td>\n",
       "    </tr>\n",
       "    <tr>\n",
       "      <th>1663</th>\n",
       "      <td>s1664</td>\n",
       "      <td>Movie</td>\n",
       "      <td>Big Men</td>\n",
       "      <td>NaN</td>\n",
       "      <td>NaN</td>\n",
       "      <td>United Kingdom, Denmark, United States</td>\n",
       "      <td>2020-05-20</td>\n",
       "      <td>2013</td>\n",
       "      <td>100 min</td>\n",
       "      <td>NaN</td>\n",
       "      <td>Documentaries</td>\n",
       "      <td>Executive produced by Brad Pitt, Big Men is a ...</td>\n",
       "      <td>7.2</td>\n",
       "      <td>2020</td>\n",
       "    </tr>\n",
       "    <tr>\n",
       "      <th>1660</th>\n",
       "      <td>s1661</td>\n",
       "      <td>Movie</td>\n",
       "      <td>Above the Shadows</td>\n",
       "      <td>NaN</td>\n",
       "      <td>NaN</td>\n",
       "      <td>United States</td>\n",
       "      <td>2020-05-20</td>\n",
       "      <td>2019</td>\n",
       "      <td>111 min</td>\n",
       "      <td>NaN</td>\n",
       "      <td>Drama, Science Fiction</td>\n",
       "      <td>A supernatural tale starring Olivia Thirlby, A...</td>\n",
       "      <td>6.1</td>\n",
       "      <td>2020</td>\n",
       "    </tr>\n",
       "    <tr>\n",
       "      <th>1662</th>\n",
       "      <td>s1663</td>\n",
       "      <td>Movie</td>\n",
       "      <td>Autonomy</td>\n",
       "      <td>NaN</td>\n",
       "      <td>NaN</td>\n",
       "      <td>United States</td>\n",
       "      <td>2020-05-20</td>\n",
       "      <td>2019</td>\n",
       "      <td>80 min</td>\n",
       "      <td>NaN</td>\n",
       "      <td>Documentaries</td>\n",
       "      <td>Acclaimed author, Malcolm Gladwell, leads this...</td>\n",
       "      <td>6.4</td>\n",
       "      <td>2020</td>\n",
       "    </tr>\n",
       "    <tr>\n",
       "      <th>1659</th>\n",
       "      <td>s1660</td>\n",
       "      <td>Movie</td>\n",
       "      <td>2nd Date Sex</td>\n",
       "      <td>NaN</td>\n",
       "      <td>NaN</td>\n",
       "      <td>NaN</td>\n",
       "      <td>2020-05-20</td>\n",
       "      <td>2019</td>\n",
       "      <td>NaN</td>\n",
       "      <td>81 min</td>\n",
       "      <td>Comedy, Romance</td>\n",
       "      <td>How Bad can a second date get? Laura and Ryan ...</td>\n",
       "      <td>5.5</td>\n",
       "      <td>2020</td>\n",
       "    </tr>\n",
       "    <tr>\n",
       "      <th>1667</th>\n",
       "      <td>s1668</td>\n",
       "      <td>Movie</td>\n",
       "      <td>Saving Atlantis</td>\n",
       "      <td>NaN</td>\n",
       "      <td>NaN</td>\n",
       "      <td>United States, Australia, Colombia, French Pol...</td>\n",
       "      <td>2020-05-20</td>\n",
       "      <td>2018</td>\n",
       "      <td>NaN</td>\n",
       "      <td>75 min</td>\n",
       "      <td>Documentaries</td>\n",
       "      <td>Saving Atlantis focuses on the loss of coral r...</td>\n",
       "      <td>7.6</td>\n",
       "      <td>2020</td>\n",
       "    </tr>\n",
       "    <tr>\n",
       "      <th>1661</th>\n",
       "      <td>s1662</td>\n",
       "      <td>Movie</td>\n",
       "      <td>Already Tomorrow in Hong Kong</td>\n",
       "      <td>NaN</td>\n",
       "      <td>NaN</td>\n",
       "      <td>United States, Hong Kong</td>\n",
       "      <td>2020-05-20</td>\n",
       "      <td>2015</td>\n",
       "      <td>78 min</td>\n",
       "      <td>NaN</td>\n",
       "      <td>Comedy, Romance</td>\n",
       "      <td>Ruby and Josh spent an unforgettable night tog...</td>\n",
       "      <td>6.4</td>\n",
       "      <td>2020</td>\n",
       "    </tr>\n",
       "    <tr>\n",
       "      <th>1678</th>\n",
       "      <td>s1679</td>\n",
       "      <td>Movie</td>\n",
       "      <td>Saving Flora</td>\n",
       "      <td>NaN</td>\n",
       "      <td>NaN</td>\n",
       "      <td>NaN</td>\n",
       "      <td>2020-05-15</td>\n",
       "      <td>2018</td>\n",
       "      <td>TV-PG</td>\n",
       "      <td>96 min</td>\n",
       "      <td>Action, Adventure, Drama</td>\n",
       "      <td>After learning that an aging circus elephant i...</td>\n",
       "      <td>5.9</td>\n",
       "      <td>2020</td>\n",
       "    </tr>\n",
       "  </tbody>\n",
       "</table>\n",
       "</div>"
      ],
      "text/plain": [
       "     show_id     type                          title director  cast  \\\n",
       "1656   s1657    Movie                Top End Wedding      NaN   NaN   \n",
       "1657   s1658  TV Show                K.C. Undercover      NaN   NaN   \n",
       "1658   s1659    Movie                        Red Dog      NaN   NaN   \n",
       "1664   s1665    Movie                         Cosmos      NaN   NaN   \n",
       "1669   s1670    Movie             The Mandela Effect      NaN   NaN   \n",
       "1666   s1667  TV Show                        Morphle      NaN   NaN   \n",
       "1665   s1666    Movie        Da Sweet Blood of Jesus      NaN   NaN   \n",
       "1668   s1669  TV Show                        Scandal      NaN   NaN   \n",
       "1663   s1664    Movie                        Big Men      NaN   NaN   \n",
       "1660   s1661    Movie              Above the Shadows      NaN   NaN   \n",
       "1662   s1663    Movie                       Autonomy      NaN   NaN   \n",
       "1659   s1660    Movie                   2nd Date Sex      NaN   NaN   \n",
       "1667   s1668    Movie                Saving Atlantis      NaN   NaN   \n",
       "1661   s1662    Movie  Already Tomorrow in Hong Kong      NaN   NaN   \n",
       "1678   s1679    Movie                   Saving Flora      NaN   NaN   \n",
       "\n",
       "                                                country date_added  \\\n",
       "1656                                          Australia 2020-05-22   \n",
       "1657                                      United States 2020-05-21   \n",
       "1658                          United States, Costa Rica 2020-05-21   \n",
       "1664                                     United Kingdom 2020-05-20   \n",
       "1669                                      United States 2020-05-20   \n",
       "1666                                                NaN 2020-05-20   \n",
       "1665                                                NaN 2020-05-20   \n",
       "1668                                                NaN 2020-05-20   \n",
       "1663             United Kingdom, Denmark, United States 2020-05-20   \n",
       "1660                                      United States 2020-05-20   \n",
       "1662                                      United States 2020-05-20   \n",
       "1659                                                NaN 2020-05-20   \n",
       "1667  United States, Australia, Colombia, French Pol... 2020-05-20   \n",
       "1661                           United States, Hong Kong 2020-05-20   \n",
       "1678                                                NaN 2020-05-15   \n",
       "\n",
       "      release_year   rating   duration                          listed_in  \\\n",
       "1656          2019  102 min        NaN                    Comedy, Romance   \n",
       "1657          2015    TV-Y7  3 Seasons      Black Stories, Comedy, Family   \n",
       "1658          2019  102 min        NaN                      Documentaries   \n",
       "1664          2019  129 min        NaN           Action, Adventure, Drama   \n",
       "1669          2019   80 min        NaN  Horror, Science Fiction, Thriller   \n",
       "1666          2019      NaN   1 Season          Action, Adventure, Family   \n",
       "1665          2015      NaN    124 min           Comedy, Horror, Thriller   \n",
       "1668          2012    TV-14  7 Seasons               Black Stories, Drama   \n",
       "1663          2013  100 min        NaN                      Documentaries   \n",
       "1660          2019  111 min        NaN             Drama, Science Fiction   \n",
       "1662          2019   80 min        NaN                      Documentaries   \n",
       "1659          2019      NaN     81 min                    Comedy, Romance   \n",
       "1667          2018      NaN     75 min                      Documentaries   \n",
       "1661          2015   78 min        NaN                    Comedy, Romance   \n",
       "1678          2018    TV-PG     96 min           Action, Adventure, Drama   \n",
       "\n",
       "                                            description  IMDB_Rating  \\\n",
       "1656  Lauren and Ned are engaged, they are in love, ...          6.3   \n",
       "1657  High school student K.C. Cooper goes undercove...          6.5   \n",
       "1658  Hit songwriter Luke Dick spent his childhood i...          7.3   \n",
       "1664  Three amateur astronomers accidentally interce...          9.2   \n",
       "1669  A man becomes obsessed with facts and events t...          5.8   \n",
       "1666  My Magic Pet Morphle' is an animated hit TV sh...          4.2   \n",
       "1665  In this stylized Spike Lee thriller, a man cur...          4.5   \n",
       "1668  A former media relations consultant to the Pre...          7.7   \n",
       "1663  Executive produced by Brad Pitt, Big Men is a ...          7.2   \n",
       "1660  A supernatural tale starring Olivia Thirlby, A...          6.1   \n",
       "1662  Acclaimed author, Malcolm Gladwell, leads this...          6.4   \n",
       "1659  How Bad can a second date get? Laura and Ryan ...          5.5   \n",
       "1667  Saving Atlantis focuses on the loss of coral r...          7.6   \n",
       "1661  Ruby and Josh spent an unforgettable night tog...          6.4   \n",
       "1678  After learning that an aging circus elephant i...          5.9   \n",
       "\n",
       "      year_added  \n",
       "1656        2020  \n",
       "1657        2020  \n",
       "1658        2020  \n",
       "1664        2020  \n",
       "1669        2020  \n",
       "1666        2020  \n",
       "1665        2020  \n",
       "1668        2020  \n",
       "1663        2020  \n",
       "1660        2020  \n",
       "1662        2020  \n",
       "1659        2020  \n",
       "1667        2020  \n",
       "1661        2020  \n",
       "1678        2020  "
      ]
     },
     "execution_count": 38,
     "metadata": {},
     "output_type": "execute_result"
    }
   ],
   "source": [
    "dfHulu1500.tail(15)"
   ]
  },
  {
   "cell_type": "code",
   "execution_count": 39,
   "metadata": {},
   "outputs": [
    {
     "data": {
      "text/plain": [
       "np.int64(163)"
      ]
     },
     "execution_count": 39,
     "metadata": {},
     "output_type": "execute_result"
    }
   ],
   "source": [
    "dfHulu1500[[inCheck( huluDocChecklist, i) for i in dfHulu1500[\"listed_in\"]]][\"listed_in\"].count()\n",
    "dfNetflix1500[[inCheck( netflixDocChecklist, i) for i in dfNetflix1500[\"listed_in\"]]][\"listed_in\"].count()"
   ]
  },
  {
   "cell_type": "code",
   "execution_count": 40,
   "metadata": {},
   "outputs": [],
   "source": [
    "dfNetflixA2020 = dfNetflixClean[dfNetflixClean['year_added']>=2020]\n",
    "dfHuluA2020 = dfHuluClean[dfHuluClean['year_added']>=2020]"
   ]
  },
  {
   "cell_type": "code",
   "execution_count": 41,
   "metadata": {},
   "outputs": [
    {
     "name": "stdout",
     "output_type": "stream",
     "text": [
      "(1714, 14) (3243, 15)\n"
     ]
    }
   ],
   "source": [
    "print(dfHuluA2020.shape, dfNetflixA2020.shape)"
   ]
  },
  {
   "cell_type": "code",
   "execution_count": 42,
   "metadata": {},
   "outputs": [
    {
     "name": "stdout",
     "output_type": "stream",
     "text": [
      "441 348\n"
     ]
    }
   ],
   "source": [
    "print(dfHuluA2020[[inCheck( huluDocChecklist, i) for i in dfHuluA2020[\"listed_in\"]]][\"listed_in\"].count(),\n",
    "dfNetflixA2020[[inCheck( netflixDocChecklist, i) for i in dfNetflixA2020[\"listed_in\"]]][\"listed_in\"].count())"
   ]
  },
  {
   "cell_type": "code",
   "execution_count": 43,
   "metadata": {},
   "outputs": [
    {
     "name": "stdout",
     "output_type": "stream",
     "text": [
      "384 163\n"
     ]
    }
   ],
   "source": [
    "print(dfHulu1500[[inCheck( huluDocChecklist, i) for i in dfHulu1500[\"listed_in\"]]][\"listed_in\"].count(),\n",
    "dfNetflix1500[[inCheck( netflixDocChecklist, i) for i in dfNetflix1500[\"listed_in\"]]][\"listed_in\"].count())"
   ]
  },
  {
   "cell_type": "code",
   "execution_count": 44,
   "metadata": {},
   "outputs": [
    {
     "name": "stdout",
     "output_type": "stream",
     "text": [
      "626 1198\n"
     ]
    }
   ],
   "source": [
    "print(dfHuluClean[[inCheck( huluDocChecklist, i) for i in dfHuluClean[\"listed_in\"]]][\"listed_in\"].count(),\n",
    "dfNetflixClean[[inCheck( netflixDocChecklist, i) for i in dfNetflixClean[\"listed_in\"]]][\"listed_in\"].count())"
   ]
  },
  {
   "cell_type": "code",
   "execution_count": 45,
   "metadata": {},
   "outputs": [
    {
     "data": {
      "text/plain": [
       "country\n",
       ", France, Algeria                                  1\n",
       ", South Korea                                      1\n",
       "Argentina                                          8\n",
       "Argentina, Chile                                   1\n",
       "Argentina, Spain                                   1\n",
       "                                                  ..\n",
       "United States, United Kingdom, Germany, Hungary    1\n",
       "United States, United Kingdom, New Zealand         1\n",
       "Uruguay                                            1\n",
       "Uruguay, Germany                                   1\n",
       "Vietnam                                            2\n",
       "Name: count, Length: 195, dtype: int64"
      ]
     },
     "execution_count": 45,
     "metadata": {},
     "output_type": "execute_result"
    }
   ],
   "source": [
    "dfNetflix1500.groupby(\"country\")['country'].value_counts()"
   ]
  },
  {
   "cell_type": "code",
   "execution_count": 46,
   "metadata": {},
   "outputs": [],
   "source": [
    "def notInCheck(checklist, lst):\n",
    "    # Check if lst is not a float and is a list\n",
    "    # if not isinstance(lst, list):\n",
    "    #     return False\n",
    "    if isinstance(lst, float):\n",
    "        return False\n",
    "    \n",
    "    # Check if any element in checklist is not in lst\n",
    "    res= True\n",
    "    for i in checklist:\n",
    "        if i in lst:\n",
    "            res = False\n",
    "        else:\n",
    "            res = res & True\n",
    "    \n",
    "    return res\n"
   ]
  },
  {
   "cell_type": "code",
   "execution_count": 47,
   "metadata": {},
   "outputs": [
    {
     "name": "stdout",
     "output_type": "stream",
     "text": [
      "113 536\n"
     ]
    }
   ],
   "source": [
    "print(dfHulu1500[[notInCheck( ['United States'], i) for i in dfHulu1500[\"country\"]]][\"country\"].count(), \n",
    "dfNetflix1500[[notInCheck( ['United States'], i) for i in dfNetflix1500[\"country\"]]][\"country\"].count())"
   ]
  },
  {
   "cell_type": "code",
   "execution_count": 48,
   "metadata": {},
   "outputs": [
    {
     "name": "stdout",
     "output_type": "stream",
     "text": [
      "65 474\n"
     ]
    }
   ],
   "source": [
    "print(dfHulu1500[[notInCheck( ['United States', 'United Kingdom'], i) for i in dfHulu1500[\"country\"]]][\"country\"].count(),\n",
    "dfNetflix1500[[notInCheck( ['United States', 'United Kingdom'], i) for i in dfNetflix1500[\"country\"]]][\"country\"].count())"
   ]
  },
  {
   "cell_type": "code",
   "execution_count": 49,
   "metadata": {},
   "outputs": [
    {
     "name": "stdout",
     "output_type": "stream",
     "text": [
      "112 1268\n"
     ]
    }
   ],
   "source": [
    "print(dfHuluA2020[[notInCheck( ['United States', 'United Kingdom'], i) for i in dfHuluA2020[\"country\"]]][\"country\"].count(),\n",
    "dfNetflixA2020[[notInCheck( ['United States', 'United Kingdom'], i) for i in dfNetflixA2020[\"country\"]]][\"country\"].count())"
   ]
  },
  {
   "cell_type": "code",
   "execution_count": 50,
   "metadata": {},
   "outputs": [
    {
     "name": "stdout",
     "output_type": "stream",
     "text": [
      "167 1407\n"
     ]
    }
   ],
   "source": [
    "print(dfHuluA2020[[notInCheck( ['United States'], i) for i in dfHuluA2020[\"country\"]]][\"country\"].count(),\n",
    "dfNetflixA2020[[notInCheck( ['United States'], i) for i in dfNetflixA2020[\"country\"]]][\"country\"].count())"
   ]
  },
  {
   "cell_type": "code",
   "execution_count": 51,
   "metadata": {},
   "outputs": [
    {
     "name": "stdout",
     "output_type": "stream",
     "text": [
      "<class 'pandas.core.frame.DataFrame'>\n",
      "Index: 2771 entries, 0 to 3044\n",
      "Data columns (total 14 columns):\n",
      " #   Column        Non-Null Count  Dtype         \n",
      "---  ------        --------------  -----         \n",
      " 0   show_id       2771 non-null   object        \n",
      " 1   type          2771 non-null   object        \n",
      " 2   title         2771 non-null   object        \n",
      " 3   director      2 non-null      object        \n",
      " 4   cast          0 non-null      float64       \n",
      " 5   country       1556 non-null   object        \n",
      " 6   date_added    2771 non-null   datetime64[ns]\n",
      " 7   release_year  2771 non-null   int32         \n",
      " 8   rating        2399 non-null   object        \n",
      " 9   duration      2387 non-null   object        \n",
      " 10  listed_in     2771 non-null   object        \n",
      " 11  description   2770 non-null   object        \n",
      " 12  IMDB_Rating   2771 non-null   float64       \n",
      " 13  year_added    2771 non-null   int32         \n",
      "dtypes: datetime64[ns](1), float64(2), int32(2), object(9)\n",
      "memory usage: 303.1+ KB\n"
     ]
    }
   ],
   "source": [
    "dfHuluClean.info()"
   ]
  },
  {
   "cell_type": "code",
   "execution_count": 52,
   "metadata": {},
   "outputs": [
    {
     "name": "stderr",
     "output_type": "stream",
     "text": [
      "/var/folders/1g/bksky7bd2wb927qzgc2fqjhc0000gn/T/ipykernel_18858/2071685897.py:3: UserWarning: Boolean Series key will be reindexed to match DataFrame index.\n",
      "  dfNetflix1500[dfNetflixClean[\"IMDB_Rating\"]>9][\"IMDB_Rating\"].count(),\n"
     ]
    }
   ],
   "source": [
    "da2 =[dfNetflix1500[dfNetflix1500[\"IMDB_Rating\"]>7][\"IMDB_Rating\"].count(),\n",
    "dfNetflix1500[dfNetflix1500[\"IMDB_Rating\"]>8][\"IMDB_Rating\"].count(),\n",
    "dfNetflix1500[dfNetflixClean[\"IMDB_Rating\"]>9][\"IMDB_Rating\"].count(),\n",
    "dfHulu1500[dfHulu1500[\"IMDB_Rating\"]>7][\"IMDB_Rating\"].count(),\n",
    "dfHulu1500[dfHulu1500[\"IMDB_Rating\"]>8][\"IMDB_Rating\"].count(),\n",
    "dfHulu1500[dfHulu1500[\"IMDB_Rating\"]>9][\"IMDB_Rating\"].count(),\n",
    "]"
   ]
  },
  {
   "cell_type": "code",
   "execution_count": 53,
   "metadata": {},
   "outputs": [
    {
     "name": "stdout",
     "output_type": "stream",
     "text": [
      "[np.int64(518), np.int64(129), np.int64(8), np.int64(563), np.int64(147), np.int64(6)]\n"
     ]
    }
   ],
   "source": [
    "print(da2)"
   ]
  },
  {
   "cell_type": "code",
   "execution_count": null,
   "metadata": {},
   "outputs": [],
   "source": []
  },
  {
   "cell_type": "code",
   "execution_count": 54,
   "metadata": {},
   "outputs": [
    {
     "name": "stdout",
     "output_type": "stream",
     "text": [
      "384 163\n"
     ]
    }
   ],
   "source": [
    "print(dfHulu1500[[inCheck( huluDocChecklist, i) for i in dfHulu1500[\"listed_in\"]]][\"listed_in\"].count(),\n",
    "dfNetflix1500[[inCheck( netflixDocChecklist, i) for i in dfNetflix1500[\"listed_in\"]]][\"listed_in\"].count())"
   ]
  },
  {
   "cell_type": "code",
   "execution_count": 55,
   "metadata": {},
   "outputs": [
    {
     "data": {
      "text/plain": [
       "rating\n",
       "TV-MA    495\n",
       "TV-14    318\n",
       "R        195\n",
       "PG-13    148\n",
       "TV-PG     99\n",
       "TV-Y7     77\n",
       "TV-Y      61\n",
       "PG        59\n",
       "TV-G      44\n",
       "G          4\n",
       "Name: count, dtype: int64"
      ]
     },
     "execution_count": 55,
     "metadata": {},
     "output_type": "execute_result"
    }
   ],
   "source": [
    "dfNetflix1500[\"rating\"].value_counts()"
   ]
  },
  {
   "cell_type": "code",
   "execution_count": 56,
   "metadata": {},
   "outputs": [
    {
     "data": {
      "text/plain": [
       "rating\n",
       "TV-14        250\n",
       "R            247\n",
       "TV-PG        138\n",
       "PG-13        128\n",
       "TV-MA        119\n",
       "            ... \n",
       "121 min        1\n",
       "136 min        1\n",
       "4 Seasons      1\n",
       "NOT RATED      1\n",
       "129 min        1\n",
       "Name: count, Length: 66, dtype: int64"
      ]
     },
     "execution_count": 56,
     "metadata": {},
     "output_type": "execute_result"
    }
   ],
   "source": [
    "dfHulu1500[\"rating\"].value_counts()"
   ]
  },
  {
   "cell_type": "code",
   "execution_count": 57,
   "metadata": {},
   "outputs": [],
   "source": [
    "familyFriendlyChecklist = ['TV-Y', 'TV-Y7', 'TV-G','TV-PG', 'PG', 'PG-PG']"
   ]
  },
  {
   "cell_type": "code",
   "execution_count": 58,
   "metadata": {},
   "outputs": [
    {
     "name": "stdout",
     "output_type": "stream",
     "text": [
      "425 488\n"
     ]
    }
   ],
   "source": [
    "print(dfHulu1500[[inCheck( familyFriendlyChecklist, i) for i in dfHulu1500[\"rating\"]]][\"rating\"].count(),\n",
    "dfNetflix1500[[inCheck( familyFriendlyChecklist, i) for i in dfNetflix1500[\"rating\"]]][\"rating\"].count())"
   ]
  },
  {
   "cell_type": "code",
   "execution_count": 59,
   "metadata": {},
   "outputs": [
    {
     "name": "stdout",
     "output_type": "stream",
     "text": [
      "465 1010\n"
     ]
    }
   ],
   "source": [
    "print(dfHuluA2020[[inCheck( familyFriendlyChecklist, i) for i in dfHuluA2020[\"rating\"]]][\"rating\"].count(),\n",
    "dfNetflixA2020[[inCheck( familyFriendlyChecklist, i) for i in dfNetflixA2020[\"rating\"]]][\"rating\"].count())"
   ]
  },
  {
   "cell_type": "code",
   "execution_count": 60,
   "metadata": {},
   "outputs": [],
   "source": [
    "# dfHulu1500.to_csv('hulu_1500.csv', index=False)\n",
    "# dfNetflix1500.to_csv('netflix_1500.csv', index=False)"
   ]
  },
  {
   "cell_type": "code",
   "execution_count": 61,
   "metadata": {},
   "outputs": [],
   "source": [
    "# dfHuluA2020.to_csv('hulu_2020.csv', index=False)\n",
    "# dfNetflixA2020.to_csv('netflix_2020.csv', index=False)"
   ]
  },
  {
   "cell_type": "code",
   "execution_count": 62,
   "metadata": {},
   "outputs": [
    {
     "name": "stdout",
     "output_type": "stream",
     "text": [
      "<class 'pandas.core.frame.DataFrame'>\n",
      "RangeIndex: 3073 entries, 0 to 3072\n",
      "Data columns (total 13 columns):\n",
      " #   Column        Non-Null Count  Dtype  \n",
      "---  ------        --------------  -----  \n",
      " 0   show_id       3073 non-null   object \n",
      " 1   type          3073 non-null   object \n",
      " 2   title         3073 non-null   object \n",
      " 3   director      3 non-null      object \n",
      " 4   cast          0 non-null      float64\n",
      " 5   country       1620 non-null   object \n",
      " 6   date_added    3045 non-null   object \n",
      " 7   release_year  3073 non-null   int64  \n",
      " 8   rating        2553 non-null   object \n",
      " 9   duration      2594 non-null   object \n",
      " 10  listed_in     3073 non-null   object \n",
      " 11  description   3069 non-null   object \n",
      " 12  IMDB_Rating   2799 non-null   float64\n",
      "dtypes: float64(2), int64(1), object(10)\n",
      "memory usage: 312.2+ KB\n"
     ]
    }
   ],
   "source": [
    "dfHulu.info()"
   ]
  },
  {
   "cell_type": "code",
   "execution_count": 63,
   "metadata": {},
   "outputs": [
    {
     "name": "stdout",
     "output_type": "stream",
     "text": [
      "2006-07-14 00:00:00\n"
     ]
    }
   ],
   "source": [
    "sorted([i for i in dfHuluClean['release_year'].unique()])\n",
    "print(min([i for i in dfHuluClean['date_added'].unique()]))"
   ]
  },
  {
   "cell_type": "code",
   "execution_count": 64,
   "metadata": {},
   "outputs": [
    {
     "data": {
      "text/plain": [
       "array(['90 min', '2 Seasons', '1 Season', '91 min', '125 min',\n",
       "       '9 Seasons', '104 min', '127 min', '4 Seasons', '67 min', '94 min',\n",
       "       '5 Seasons', '161 min', '61 min', '166 min', '147 min', '103 min',\n",
       "       '97 min', '106 min', '111 min', '3 Seasons', '110 min', '105 min',\n",
       "       '96 min', '124 min', '116 min', '98 min', '23 min', '115 min',\n",
       "       '122 min', '99 min', '88 min', '100 min', '6 Seasons', '102 min',\n",
       "       '93 min', '95 min', '85 min', '83 min', '113 min', '13 min',\n",
       "       '182 min', '48 min', '145 min', '87 min', '92 min', '80 min',\n",
       "       '117 min', '128 min', '119 min', '143 min', '114 min', '118 min',\n",
       "       '108 min', '63 min', '121 min', '142 min', '154 min', '120 min',\n",
       "       '82 min', '109 min', '101 min', '86 min', '229 min', '76 min',\n",
       "       '89 min', '156 min', '112 min', '107 min', '129 min', '135 min',\n",
       "       '136 min', '165 min', '150 min', '133 min', '70 min', '84 min',\n",
       "       '140 min', '7 Seasons', '64 min', '59 min', '139 min', '69 min',\n",
       "       '148 min', '189 min', '141 min', '130 min', '138 min', '81 min',\n",
       "       '132 min', '10 Seasons', '123 min', '65 min', '68 min', '66 min',\n",
       "       '62 min', '74 min', '131 min', '46 min', '38 min', '8 Seasons',\n",
       "       '17 Seasons', '126 min', '39 min', '155 min', '159 min', '12 min',\n",
       "       '273 min', '34 min', '36 min', '77 min', '60 min', '49 min',\n",
       "       '58 min', '72 min', '204 min', '212 min', '25 min', '73 min',\n",
       "       '29 min', '32 min', '35 min', '78 min', '71 min', '149 min',\n",
       "       '33 min', '54 min', '224 min', '162 min', '37 min', '137 min',\n",
       "       '75 min', '79 min', '55 min', '158 min', '164 min', '173 min',\n",
       "       '181 min', '185 min', '21 min', '24 min', '151 min', '42 min',\n",
       "       '22 min', '134 min', '177 min', '13 Seasons', '14 min', '53 min',\n",
       "       '8 min', '57 min', '28 min', '50 min', '26 min', '45 min',\n",
       "       '171 min', '15 min', '27 min', '51 min', '47 min', '44 min',\n",
       "       '146 min', '20 min', '157 min', '17 min', '203 min', '41 min',\n",
       "       '30 min', '52 min', '194 min', '15 Seasons', '233 min', '237 min',\n",
       "       '230 min', '195 min', '253 min', '152 min', '190 min', '160 min',\n",
       "       '208 min', '180 min', '144 min', '5 min', '174 min', '170 min',\n",
       "       '192 min', '209 min', '187 min', '172 min', '16 min', '193 min',\n",
       "       '176 min', '56 min', '169 min', '40 min', '10 min', '3 min',\n",
       "       '168 min', '312 min', '153 min', '214 min', '31 min', '163 min',\n",
       "       '19 min', '12 Seasons', nan, '179 min', '11 Seasons', '43 min',\n",
       "       '200 min', '196 min', '167 min', '178 min', '228 min', '18 min',\n",
       "       '205 min', '201 min', '191 min'], dtype=object)"
      ]
     },
     "execution_count": 64,
     "metadata": {},
     "output_type": "execute_result"
    }
   ],
   "source": [
    "dfNetflixClean['duration'].unique()"
   ]
  },
  {
   "cell_type": "code",
   "execution_count": 65,
   "metadata": {},
   "outputs": [
    {
     "data": {
      "text/plain": [
       "type         \n",
       "Movie    0.00    1942.0\n",
       "         0.25    2012.0\n",
       "         0.50    2016.0\n",
       "         0.75    2018.0\n",
       "         1.00    2021.0\n",
       "TV Show  0.00    1945.0\n",
       "         0.25    2016.0\n",
       "         0.50    2018.0\n",
       "         0.75    2020.0\n",
       "         1.00    2021.0\n",
       "Name: release_year, dtype: float64"
      ]
     },
     "execution_count": 65,
     "metadata": {},
     "output_type": "execute_result"
    }
   ],
   "source": [
    "dfNetflixClean.groupby('type')['release_year'].quantile([.0, 0.25, .5, 0.75,  1])"
   ]
  },
  {
   "cell_type": "code",
   "execution_count": 66,
   "metadata": {},
   "outputs": [
    {
     "data": {
      "text/html": [
       "<div>\n",
       "<style scoped>\n",
       "    .dataframe tbody tr th:only-of-type {\n",
       "        vertical-align: middle;\n",
       "    }\n",
       "\n",
       "    .dataframe tbody tr th {\n",
       "        vertical-align: top;\n",
       "    }\n",
       "\n",
       "    .dataframe thead th {\n",
       "        text-align: right;\n",
       "    }\n",
       "</style>\n",
       "<table border=\"1\" class=\"dataframe\">\n",
       "  <thead>\n",
       "    <tr style=\"text-align: right;\">\n",
       "      <th></th>\n",
       "      <th>show_id</th>\n",
       "      <th>title</th>\n",
       "      <th>director</th>\n",
       "      <th>cast</th>\n",
       "      <th>country</th>\n",
       "      <th>date_added</th>\n",
       "      <th>release_year</th>\n",
       "      <th>rating</th>\n",
       "      <th>duration</th>\n",
       "      <th>listed_in</th>\n",
       "      <th>description</th>\n",
       "      <th>Index</th>\n",
       "      <th>IMDB_Rating</th>\n",
       "      <th>year_added</th>\n",
       "    </tr>\n",
       "    <tr>\n",
       "      <th>type</th>\n",
       "      <th></th>\n",
       "      <th></th>\n",
       "      <th></th>\n",
       "      <th></th>\n",
       "      <th></th>\n",
       "      <th></th>\n",
       "      <th></th>\n",
       "      <th></th>\n",
       "      <th></th>\n",
       "      <th></th>\n",
       "      <th></th>\n",
       "      <th></th>\n",
       "      <th></th>\n",
       "      <th></th>\n",
       "    </tr>\n",
       "  </thead>\n",
       "  <tbody>\n",
       "    <tr>\n",
       "      <th>Movie</th>\n",
       "      <td>5861</td>\n",
       "      <td>5861</td>\n",
       "      <td>5706</td>\n",
       "      <td>5428</td>\n",
       "      <td>5510</td>\n",
       "      <td>5861</td>\n",
       "      <td>5861</td>\n",
       "      <td>5859</td>\n",
       "      <td>5858</td>\n",
       "      <td>5861</td>\n",
       "      <td>5861</td>\n",
       "      <td>5861</td>\n",
       "      <td>5861</td>\n",
       "      <td>5861</td>\n",
       "    </tr>\n",
       "    <tr>\n",
       "      <th>TV Show</th>\n",
       "      <td>2554</td>\n",
       "      <td>2554</td>\n",
       "      <td>220</td>\n",
       "      <td>2221</td>\n",
       "      <td>2225</td>\n",
       "      <td>2468</td>\n",
       "      <td>2554</td>\n",
       "      <td>2552</td>\n",
       "      <td>2554</td>\n",
       "      <td>2554</td>\n",
       "      <td>2554</td>\n",
       "      <td>2554</td>\n",
       "      <td>2554</td>\n",
       "      <td>2468</td>\n",
       "    </tr>\n",
       "  </tbody>\n",
       "</table>\n",
       "</div>"
      ],
      "text/plain": [
       "         show_id  title  director  cast  country  date_added  release_year  \\\n",
       "type                                                                         \n",
       "Movie       5861   5861      5706  5428     5510        5861          5861   \n",
       "TV Show     2554   2554       220  2221     2225        2468          2554   \n",
       "\n",
       "         rating  duration  listed_in  description  Index  IMDB_Rating  \\\n",
       "type                                                                    \n",
       "Movie      5859      5858       5861         5861   5861         5861   \n",
       "TV Show    2552      2554       2554         2554   2554         2554   \n",
       "\n",
       "         year_added  \n",
       "type                 \n",
       "Movie          5861  \n",
       "TV Show        2468  "
      ]
     },
     "execution_count": 66,
     "metadata": {},
     "output_type": "execute_result"
    }
   ],
   "source": [
    "dfNetflixClean.groupby('type').count()"
   ]
  },
  {
   "cell_type": "code",
   "execution_count": 67,
   "metadata": {},
   "outputs": [
    {
     "data": {
      "text/html": [
       "<div>\n",
       "<style scoped>\n",
       "    .dataframe tbody tr th:only-of-type {\n",
       "        vertical-align: middle;\n",
       "    }\n",
       "\n",
       "    .dataframe tbody tr th {\n",
       "        vertical-align: top;\n",
       "    }\n",
       "\n",
       "    .dataframe thead th {\n",
       "        text-align: right;\n",
       "    }\n",
       "</style>\n",
       "<table border=\"1\" class=\"dataframe\">\n",
       "  <thead>\n",
       "    <tr style=\"text-align: right;\">\n",
       "      <th></th>\n",
       "      <th>show_id</th>\n",
       "      <th>title</th>\n",
       "      <th>director</th>\n",
       "      <th>cast</th>\n",
       "      <th>country</th>\n",
       "      <th>date_added</th>\n",
       "      <th>release_year</th>\n",
       "      <th>rating</th>\n",
       "      <th>duration</th>\n",
       "      <th>listed_in</th>\n",
       "      <th>description</th>\n",
       "      <th>IMDB_Rating</th>\n",
       "      <th>year_added</th>\n",
       "    </tr>\n",
       "    <tr>\n",
       "      <th>type</th>\n",
       "      <th></th>\n",
       "      <th></th>\n",
       "      <th></th>\n",
       "      <th></th>\n",
       "      <th></th>\n",
       "      <th></th>\n",
       "      <th></th>\n",
       "      <th></th>\n",
       "      <th></th>\n",
       "      <th></th>\n",
       "      <th></th>\n",
       "      <th></th>\n",
       "      <th></th>\n",
       "    </tr>\n",
       "  </thead>\n",
       "  <tbody>\n",
       "    <tr>\n",
       "      <th>Movie</th>\n",
       "      <td>1360</td>\n",
       "      <td>1360</td>\n",
       "      <td>2</td>\n",
       "      <td>0</td>\n",
       "      <td>653</td>\n",
       "      <td>1360</td>\n",
       "      <td>1360</td>\n",
       "      <td>1137</td>\n",
       "      <td>976</td>\n",
       "      <td>1360</td>\n",
       "      <td>1359</td>\n",
       "      <td>1360</td>\n",
       "      <td>1360</td>\n",
       "    </tr>\n",
       "    <tr>\n",
       "      <th>TV Show</th>\n",
       "      <td>1411</td>\n",
       "      <td>1411</td>\n",
       "      <td>0</td>\n",
       "      <td>0</td>\n",
       "      <td>903</td>\n",
       "      <td>1411</td>\n",
       "      <td>1411</td>\n",
       "      <td>1262</td>\n",
       "      <td>1411</td>\n",
       "      <td>1411</td>\n",
       "      <td>1411</td>\n",
       "      <td>1411</td>\n",
       "      <td>1411</td>\n",
       "    </tr>\n",
       "  </tbody>\n",
       "</table>\n",
       "</div>"
      ],
      "text/plain": [
       "         show_id  title  director  cast  country  date_added  release_year  \\\n",
       "type                                                                         \n",
       "Movie       1360   1360         2     0      653        1360          1360   \n",
       "TV Show     1411   1411         0     0      903        1411          1411   \n",
       "\n",
       "         rating  duration  listed_in  description  IMDB_Rating  year_added  \n",
       "type                                                                        \n",
       "Movie      1137       976       1360         1359         1360        1360  \n",
       "TV Show    1262      1411       1411         1411         1411        1411  "
      ]
     },
     "execution_count": 67,
     "metadata": {},
     "output_type": "execute_result"
    }
   ],
   "source": [
    "dfHuluClean.groupby('type').count()"
   ]
  },
  {
   "cell_type": "code",
   "execution_count": 68,
   "metadata": {},
   "outputs": [
    {
     "data": {
      "text/plain": [
       "type         \n",
       "Movie    0.00    1923.0\n",
       "         0.25    2012.0\n",
       "         0.50    2017.0\n",
       "         0.75    2019.0\n",
       "         1.00    2021.0\n",
       "TV Show  0.00    1933.0\n",
       "         0.25    2009.0\n",
       "         0.50    2015.0\n",
       "         0.75    2019.0\n",
       "         1.00    2021.0\n",
       "Name: release_year, dtype: float64"
      ]
     },
     "execution_count": 67,
     "metadata": {},
     "output_type": "execute_result"
    }
   ],
   "source": [
    "dfHuluClean.groupby('type')['release_year'].quantile([.0, 0.25, .5, 0.75,  1])"
   ]
  },
  {
   "cell_type": "code",
   "execution_count": 68,
   "metadata": {},
   "outputs": [
    {
     "data": {
      "text/plain": [
       "<bound method IndexOpsMixin.value_counts of 0                                                     NaN\n",
       "2                                                     NaN\n",
       "1                                                     NaN\n",
       "3                                                     NaN\n",
       "4                                                     NaN\n",
       "                              ...                        \n",
       "1662                                        United States\n",
       "1659                                                  NaN\n",
       "1667    United States, Australia, Colombia, French Pol...\n",
       "1661                             United States, Hong Kong\n",
       "1678                                                  NaN\n",
       "Name: country, Length: 1500, dtype: object>"
      ]
     },
     "execution_count": 68,
     "metadata": {},
     "output_type": "execute_result"
    }
   ],
   "source": [
    "dfHulu1500[\"country\"].value_counts"
   ]
  },
  {
   "cell_type": "code",
   "execution_count": 69,
   "metadata": {},
   "outputs": [
    {
     "data": {
      "text/plain": [
       "False"
      ]
     },
     "execution_count": 69,
     "metadata": {},
     "output_type": "execute_result"
    }
   ],
   "source": [
    "dfHulu1500[\"country\"].__contains__(\"United States\")"
   ]
  },
  {
   "cell_type": "markdown",
   "metadata": {},
   "source": [
    "#### EDA - NETFLIX AND HULU"
   ]
  },
  {
   "cell_type": "markdown",
   "metadata": {},
   "source": [
    "Performing EDA after Peeyush merged IMDb data and cleaned the dataset to two major subsets - DfClean and Df1500 for both Netflix and Hulu"
   ]
  },
  {
   "cell_type": "code",
   "execution_count": 70,
   "metadata": {},
   "outputs": [
    {
     "data": {
      "text/html": [
       "<div>\n",
       "<style scoped>\n",
       "    .dataframe tbody tr th:only-of-type {\n",
       "        vertical-align: middle;\n",
       "    }\n",
       "\n",
       "    .dataframe tbody tr th {\n",
       "        vertical-align: top;\n",
       "    }\n",
       "\n",
       "    .dataframe thead th {\n",
       "        text-align: right;\n",
       "    }\n",
       "</style>\n",
       "<table border=\"1\" class=\"dataframe\">\n",
       "  <thead>\n",
       "    <tr style=\"text-align: right;\">\n",
       "      <th></th>\n",
       "      <th>show_id</th>\n",
       "      <th>type</th>\n",
       "      <th>title</th>\n",
       "      <th>director</th>\n",
       "      <th>cast</th>\n",
       "      <th>country</th>\n",
       "      <th>date_added</th>\n",
       "      <th>release_year</th>\n",
       "      <th>rating</th>\n",
       "      <th>duration</th>\n",
       "      <th>listed_in</th>\n",
       "      <th>description</th>\n",
       "      <th>Index</th>\n",
       "      <th>IMDB_Rating</th>\n",
       "      <th>year_added</th>\n",
       "    </tr>\n",
       "  </thead>\n",
       "  <tbody>\n",
       "    <tr>\n",
       "      <th>0</th>\n",
       "      <td>s1</td>\n",
       "      <td>Movie</td>\n",
       "      <td>Dick Johnson Is Dead</td>\n",
       "      <td>Kirsten Johnson</td>\n",
       "      <td>NaN</td>\n",
       "      <td>United States</td>\n",
       "      <td>2021-09-25</td>\n",
       "      <td>2020</td>\n",
       "      <td>PG-13</td>\n",
       "      <td>90 min</td>\n",
       "      <td>Documentaries</td>\n",
       "      <td>As her father nears the end of his life, filmm...</td>\n",
       "      <td>0</td>\n",
       "      <td>7.4</td>\n",
       "      <td>2021.0</td>\n",
       "    </tr>\n",
       "    <tr>\n",
       "      <th>1</th>\n",
       "      <td>s2</td>\n",
       "      <td>TV Show</td>\n",
       "      <td>Blood &amp; Water</td>\n",
       "      <td>NaN</td>\n",
       "      <td>Ama Qamata, Khosi Ngema, Gail Mabalane, Thaban...</td>\n",
       "      <td>South Africa</td>\n",
       "      <td>2021-09-24</td>\n",
       "      <td>2021</td>\n",
       "      <td>TV-MA</td>\n",
       "      <td>2 Seasons</td>\n",
       "      <td>International TV Shows, TV Dramas, TV Mysteries</td>\n",
       "      <td>After crossing paths at a party, a Cape Town t...</td>\n",
       "      <td>1</td>\n",
       "      <td>6.7</td>\n",
       "      <td>2021.0</td>\n",
       "    </tr>\n",
       "    <tr>\n",
       "      <th>2</th>\n",
       "      <td>s3</td>\n",
       "      <td>TV Show</td>\n",
       "      <td>Ganglands</td>\n",
       "      <td>Julien Leclercq</td>\n",
       "      <td>Sami Bouajila, Tracy Gotoas, Samuel Jouy, Nabi...</td>\n",
       "      <td>NaN</td>\n",
       "      <td>2021-09-24</td>\n",
       "      <td>2021</td>\n",
       "      <td>TV-MA</td>\n",
       "      <td>1 Season</td>\n",
       "      <td>Crime TV Shows, International TV Shows, TV Act...</td>\n",
       "      <td>To protect his family from a powerful drug lor...</td>\n",
       "      <td>2</td>\n",
       "      <td>7.2</td>\n",
       "      <td>2021.0</td>\n",
       "    </tr>\n",
       "  </tbody>\n",
       "</table>\n",
       "</div>"
      ],
      "text/plain": [
       "  show_id     type                 title         director  \\\n",
       "0      s1    Movie  Dick Johnson Is Dead  Kirsten Johnson   \n",
       "1      s2  TV Show         Blood & Water              NaN   \n",
       "2      s3  TV Show             Ganglands  Julien Leclercq   \n",
       "\n",
       "                                                cast        country  \\\n",
       "0                                                NaN  United States   \n",
       "1  Ama Qamata, Khosi Ngema, Gail Mabalane, Thaban...   South Africa   \n",
       "2  Sami Bouajila, Tracy Gotoas, Samuel Jouy, Nabi...            NaN   \n",
       "\n",
       "  date_added  release_year rating   duration  \\\n",
       "0 2021-09-25          2020  PG-13     90 min   \n",
       "1 2021-09-24          2021  TV-MA  2 Seasons   \n",
       "2 2021-09-24          2021  TV-MA   1 Season   \n",
       "\n",
       "                                           listed_in  \\\n",
       "0                                      Documentaries   \n",
       "1    International TV Shows, TV Dramas, TV Mysteries   \n",
       "2  Crime TV Shows, International TV Shows, TV Act...   \n",
       "\n",
       "                                         description  Index  IMDB_Rating  \\\n",
       "0  As her father nears the end of his life, filmm...      0          7.4   \n",
       "1  After crossing paths at a party, a Cape Town t...      1          6.7   \n",
       "2  To protect his family from a powerful drug lor...      2          7.2   \n",
       "\n",
       "   year_added  \n",
       "0      2021.0  \n",
       "1      2021.0  \n",
       "2      2021.0  "
      ]
     },
     "execution_count": 70,
     "metadata": {},
     "output_type": "execute_result"
    }
   ],
   "source": [
    "dfNetflixClean.head(3)"
   ]
  },
  {
   "cell_type": "code",
   "execution_count": 71,
   "metadata": {},
   "outputs": [
    {
     "data": {
      "text/plain": [
       "(8415, 15)"
      ]
     },
     "execution_count": 71,
     "metadata": {},
     "output_type": "execute_result"
    }
   ],
   "source": [
    "dfNetflixClean.shape #8415 rows, 15 columns "
   ]
  },
  {
   "cell_type": "code",
   "execution_count": 72,
   "metadata": {},
   "outputs": [
    {
     "name": "stdout",
     "output_type": "stream",
     "text": [
      "<class 'pandas.core.frame.DataFrame'>\n",
      "Index: 8415 entries, 0 to 8806\n",
      "Data columns (total 15 columns):\n",
      " #   Column        Non-Null Count  Dtype         \n",
      "---  ------        --------------  -----         \n",
      " 0   show_id       8415 non-null   object        \n",
      " 1   type          8415 non-null   object        \n",
      " 2   title         8415 non-null   object        \n",
      " 3   director      5926 non-null   object        \n",
      " 4   cast          7649 non-null   object        \n",
      " 5   country       7735 non-null   object        \n",
      " 6   date_added    8329 non-null   datetime64[ns]\n",
      " 7   release_year  8415 non-null   int32         \n",
      " 8   rating        8411 non-null   object        \n",
      " 9   duration      8412 non-null   object        \n",
      " 10  listed_in     8415 non-null   object        \n",
      " 11  description   8415 non-null   object        \n",
      " 12  Index         8415 non-null   int64         \n",
      " 13  IMDB_Rating   8415 non-null   float64       \n",
      " 14  year_added    8329 non-null   float64       \n",
      "dtypes: datetime64[ns](1), float64(2), int32(1), int64(1), object(10)\n",
      "memory usage: 1.2+ MB\n"
     ]
    }
   ],
   "source": [
    "dfNetflixClean.info() #director and cast not relevant \n",
    "#680 null values ---country\n",
    "#86 null values ---date_added, year_added"
   ]
  },
  {
   "cell_type": "code",
   "execution_count": 73,
   "metadata": {},
   "outputs": [],
   "source": [
    "#correcting data types\n",
    "dfNetflixClean[\"year_added\"] = pd.to_datetime(dfNetflixClean[\"year_added\"])\n",
    "dfNetflixClean[\"rating\"] = dfNetflixClean[\"rating\"].astype(\"category\")\n",
    "dfNetflixClean[\"type\"] = dfNetflixClean[\"type\"].astype(\"category\")"
   ]
  },
  {
   "cell_type": "code",
   "execution_count": 74,
   "metadata": {},
   "outputs": [],
   "source": [
    "dfNetflixClean[\"year_added\"] = dfNetflixClean[\"year_added\"].dt.year"
   ]
  },
  {
   "cell_type": "code",
   "execution_count": 75,
   "metadata": {},
   "outputs": [
    {
     "data": {
      "text/html": [
       "<div>\n",
       "<style scoped>\n",
       "    .dataframe tbody tr th:only-of-type {\n",
       "        vertical-align: middle;\n",
       "    }\n",
       "\n",
       "    .dataframe tbody tr th {\n",
       "        vertical-align: top;\n",
       "    }\n",
       "\n",
       "    .dataframe thead th {\n",
       "        text-align: right;\n",
       "    }\n",
       "</style>\n",
       "<table border=\"1\" class=\"dataframe\">\n",
       "  <thead>\n",
       "    <tr style=\"text-align: right;\">\n",
       "      <th></th>\n",
       "      <th>show_id</th>\n",
       "      <th>type</th>\n",
       "      <th>title</th>\n",
       "      <th>director</th>\n",
       "      <th>cast</th>\n",
       "      <th>country</th>\n",
       "      <th>date_added</th>\n",
       "      <th>release_year</th>\n",
       "      <th>rating</th>\n",
       "      <th>duration</th>\n",
       "      <th>listed_in</th>\n",
       "      <th>description</th>\n",
       "      <th>IMDB_Rating</th>\n",
       "      <th>year_added</th>\n",
       "    </tr>\n",
       "  </thead>\n",
       "  <tbody>\n",
       "    <tr>\n",
       "      <th>0</th>\n",
       "      <td>s1</td>\n",
       "      <td>Movie</td>\n",
       "      <td>Ricky Velez: Here's Everything</td>\n",
       "      <td>NaN</td>\n",
       "      <td>NaN</td>\n",
       "      <td>NaN</td>\n",
       "      <td>2021-10-24</td>\n",
       "      <td>2021</td>\n",
       "      <td>TV-MA</td>\n",
       "      <td>NaN</td>\n",
       "      <td>Comedy, Stand Up</td>\n",
       "      <td>âComedian Ricky Velez bares it all with his ...</td>\n",
       "      <td>6.5</td>\n",
       "      <td>2021</td>\n",
       "    </tr>\n",
       "    <tr>\n",
       "      <th>1</th>\n",
       "      <td>s2</td>\n",
       "      <td>Movie</td>\n",
       "      <td>Silent Night</td>\n",
       "      <td>NaN</td>\n",
       "      <td>NaN</td>\n",
       "      <td>NaN</td>\n",
       "      <td>2021-10-23</td>\n",
       "      <td>2020</td>\n",
       "      <td>NaN</td>\n",
       "      <td>94 min</td>\n",
       "      <td>Crime, Drama, Thriller</td>\n",
       "      <td>Mark, a low end South London hitman recently r...</td>\n",
       "      <td>5.3</td>\n",
       "      <td>2021</td>\n",
       "    </tr>\n",
       "    <tr>\n",
       "      <th>2</th>\n",
       "      <td>s3</td>\n",
       "      <td>Movie</td>\n",
       "      <td>The Marksman</td>\n",
       "      <td>NaN</td>\n",
       "      <td>NaN</td>\n",
       "      <td>NaN</td>\n",
       "      <td>2021-10-23</td>\n",
       "      <td>2021</td>\n",
       "      <td>PG-13</td>\n",
       "      <td>108 min</td>\n",
       "      <td>Action, Thriller</td>\n",
       "      <td>A hardened Arizona rancher tries to protect an...</td>\n",
       "      <td>5.7</td>\n",
       "      <td>2021</td>\n",
       "    </tr>\n",
       "  </tbody>\n",
       "</table>\n",
       "</div>"
      ],
      "text/plain": [
       "  show_id   type                           title director  cast country  \\\n",
       "0      s1  Movie  Ricky Velez: Here's Everything      NaN   NaN     NaN   \n",
       "1      s2  Movie                    Silent Night      NaN   NaN     NaN   \n",
       "2      s3  Movie                    The Marksman      NaN   NaN     NaN   \n",
       "\n",
       "  date_added  release_year rating duration               listed_in  \\\n",
       "0 2021-10-24          2021  TV-MA      NaN        Comedy, Stand Up   \n",
       "1 2021-10-23          2020    NaN   94 min  Crime, Drama, Thriller   \n",
       "2 2021-10-23          2021  PG-13  108 min        Action, Thriller   \n",
       "\n",
       "                                         description  IMDB_Rating  year_added  \n",
       "0  âComedian Ricky Velez bares it all with his ...          6.5        2021  \n",
       "1  Mark, a low end South London hitman recently r...          5.3        2021  \n",
       "2  A hardened Arizona rancher tries to protect an...          5.7        2021  "
      ]
     },
     "execution_count": 75,
     "metadata": {},
     "output_type": "execute_result"
    }
   ],
   "source": [
    "dfHuluClean.head(3)"
   ]
  },
  {
   "cell_type": "code",
   "execution_count": 76,
   "metadata": {},
   "outputs": [
    {
     "data": {
      "text/plain": [
       "(2771, 14)"
      ]
     },
     "execution_count": 76,
     "metadata": {},
     "output_type": "execute_result"
    }
   ],
   "source": [
    "dfHuluClean.shape #three times SMALLER than Netflix dataset"
   ]
  },
  {
   "cell_type": "code",
   "execution_count": 77,
   "metadata": {},
   "outputs": [
    {
     "name": "stdout",
     "output_type": "stream",
     "text": [
      "<class 'pandas.core.frame.DataFrame'>\n",
      "Index: 2771 entries, 0 to 3044\n",
      "Data columns (total 14 columns):\n",
      " #   Column        Non-Null Count  Dtype         \n",
      "---  ------        --------------  -----         \n",
      " 0   show_id       2771 non-null   object        \n",
      " 1   type          2771 non-null   object        \n",
      " 2   title         2771 non-null   object        \n",
      " 3   director      2 non-null      object        \n",
      " 4   cast          0 non-null      float64       \n",
      " 5   country       1556 non-null   object        \n",
      " 6   date_added    2771 non-null   datetime64[ns]\n",
      " 7   release_year  2771 non-null   int32         \n",
      " 8   rating        2399 non-null   object        \n",
      " 9   duration      2387 non-null   object        \n",
      " 10  listed_in     2771 non-null   object        \n",
      " 11  description   2770 non-null   object        \n",
      " 12  IMDB_Rating   2771 non-null   float64       \n",
      " 13  year_added    2771 non-null   int32         \n",
      "dtypes: datetime64[ns](1), float64(2), int32(2), object(9)\n",
      "memory usage: 303.1+ KB\n"
     ]
    }
   ],
   "source": [
    "dfHuluClean.info() \n",
    "#cast and director have barely any non-null values - we will not be using these columns for analysis\n",
    "#1215 null values --- country\n",
    "#372 null values --- rating\n",
    "#384 null values --- duration\n",
    "#1 null value --- description"
   ]
  },
  {
   "cell_type": "code",
   "execution_count": 78,
   "metadata": {},
   "outputs": [],
   "source": [
    "#correcting data types \n",
    "dfHuluClean[\"type\"] = dfHuluClean[\"type\"].astype(\"category\")\n",
    "dfHuluClean[\"rating\"] = dfHuluClean[\"rating\"].astype(\"category\")\n",
    "dfHuluClean[\"year_added\"] = pd.to_datetime(dfHuluClean[\"year_added\"])"
   ]
  },
  {
   "cell_type": "code",
   "execution_count": 79,
   "metadata": {},
   "outputs": [
    {
     "data": {
      "image/png": "[encoded data removed]",
      "text/plain": [
       "<Figure size 1200x500 with 2 Axes>"
      ]
     },
     "metadata": {},
     "output_type": "display_data"
    }
   ],
   "source": [
    "#using variables with NO NULL VALUES --- titles and IMDb \n",
    "fig, ax = plt.subplots(nrows = 1,ncols=2,figsize = (12,5))\n",
    "ax[0].hist(dfNetflixClean[\"IMDB_Rating\"], bins = 20, color = \"#e50914\")\n",
    "ax[1].hist(dfHuluClean[\"IMDB_Rating\"], bins = 20, color = \"#1DB954\")\n",
    "\n",
    "ax[0].vlines(dfNetflixClean[\"IMDB_Rating\"].mean(),0,1300, colors=\"white\", linestyles=\"dashed\")\n",
    "ax[1].vlines(dfHuluClean[\"IMDB_Rating\"].mean(),0,1300, colors=\"white\", linestyles=\"dashed\")\n",
    "\n",
    "\n",
    "#HIGHLIGHT - NETFLIX and HULU\n",
    "highlight_min1 = dfNetflixClean[dfNetflixClean[\"IMDB_Rating\"] > 7][\"IMDB_Rating\"].min()\n",
    "highlight_max1 = dfNetflixClean[dfNetflixClean[\"IMDB_Rating\"] > 7][\"IMDB_Rating\"].max()\n",
    "ax[0].axvspan(highlight_min1, highlight_max1, color=\"#f7b512\", alpha=0.5)\n",
    "\n",
    "highlight_min2 = dfHuluClean[dfHuluClean[\"IMDB_Rating\"] > 7][\"IMDB_Rating\"].min()\n",
    "highlight_max2 = dfHuluClean[dfHuluClean[\"IMDB_Rating\"] > 7][\"IMDB_Rating\"].max()\n",
    "ax[1].axvspan(highlight_min2, highlight_max2, color=\"#f7b512\", alpha=0.5)\n",
    "\n",
    "#IMDb counts \n",
    "n_imdb = len(dfNetflixClean[dfNetflixClean[\"IMDB_Rating\"]>7])\n",
    "h_imdb = len(dfHuluClean[dfHuluClean[\"IMDB_Rating\"]>7])\n",
    "\n",
    "#FLUFF\n",
    "ax[0].set_title(\"Netflix\", color = \"white\", weight = \"bold\", font = \"serif\", size = 16)\n",
    "ax[0].set_xlabel(\"IMDb Rating\",color = \"white\", weight = \"bold\",font = \"serif\")\n",
    "ax[0].set_ylabel(\"Number of titles\",color = \"white\", weight = \"bold\", font = \"serif\")\n",
    "ax[0].tick_params(axis='x', colors='white')  # Set color for x-tick labels\n",
    "ax[0].tick_params(axis='y', colors='white')\n",
    "ax[0].set_ylim(0,1300)\n",
    "\n",
    "ax[0].annotate(\"IMDb > 7\",(7.2,400), color = \"white\",font = \"serif\")\n",
    "ax[0].annotate(f\"{n_imdb} titles\" ,(7.2,330), color = \"white\",font = \"serif\")\n",
    "\n",
    "\n",
    "ax[0].spines[\"top\"].set_visible(False)\n",
    "ax[0].spines[\"right\"].set_visible(False)\n",
    "ax[0].spines[\"bottom\"].set_color(\"white\")\n",
    "ax[0].spines[\"left\"].set_color(\"white\")\n",
    "\n",
    "ax[1].set_title(\"Hulu\", color = \"white\", weight = \"bold\",font = \"serif\",size = 16)\n",
    "ax[1].set_xlabel(\"IMDb Rating\",color = \"white\", weight = \"bold\",font = \"serif\")\n",
    "ax[1].set_ylabel(\"Number of titles\",color = \"white\", weight = \"bold\",font = \"serif\")\n",
    "ax[1].tick_params(axis='x', colors='white')  # Set color for x-tick labels\n",
    "ax[1].tick_params(axis='y', colors='white')\n",
    "ax[1].set_xlim(0-.1,10+.1)\n",
    "ax[1].set_ylim(0,1300)\n",
    "\n",
    "ax[1].annotate(\"IMDb > 7\",(7.2,410), color = \"white\", font = \"serif\")\n",
    "ax[1].annotate(f\"{h_imdb} titles\",(7.2,340), color = \"white\", font = \"serif\")\n",
    "\n",
    "ax[1].spines[\"top\"].set_visible(False)\n",
    "ax[1].spines[\"right\"].set_visible(False)\n",
    "ax[1].spines[\"bottom\"].set_color(\"white\")\n",
    "ax[1].spines[\"left\"].set_color(\"white\")\n",
    "\n",
    "\n",
    "\n",
    "ax[0].set_facecolor(\"#205c40\")\n",
    "fig.patch.set_facecolor(\"#205c40\")\n",
    "\n",
    "ax[1].set_facecolor(\"#205c40\")\n",
    "fig.patch.set_facecolor(\"#205c40\")"
   ]
  },
  {
   "cell_type": "code",
   "execution_count": 80,
   "metadata": {},
   "outputs": [
    {
     "name": "stdout",
     "output_type": "stream",
     "text": [
      "netflix = (1500, 15), hulu = (1500, 14)\n"
     ]
    }
   ],
   "source": [
    "print(f\"netflix = {dfNetflix1500.shape}, hulu = {dfHulu1500.shape}\")"
   ]
  },
  {
   "cell_type": "code",
   "execution_count": 81,
   "metadata": {},
   "outputs": [
    {
     "name": "stdout",
     "output_type": "stream",
     "text": [
      "<class 'pandas.core.frame.DataFrame'>\n",
      "Index: 1500 entries, 0 to 1540\n",
      "Data columns (total 15 columns):\n",
      " #   Column        Non-Null Count  Dtype         \n",
      "---  ------        --------------  -----         \n",
      " 0   show_id       1500 non-null   object        \n",
      " 1   type          1500 non-null   object        \n",
      " 2   title         1500 non-null   object        \n",
      " 3   director      1027 non-null   object        \n",
      " 4   cast          1359 non-null   object        \n",
      " 5   country       1184 non-null   object        \n",
      " 6   date_added    1500 non-null   datetime64[ns]\n",
      " 7   release_year  1500 non-null   int32         \n",
      " 8   rating        1500 non-null   object        \n",
      " 9   duration      1500 non-null   object        \n",
      " 10  listed_in     1500 non-null   object        \n",
      " 11  description   1500 non-null   object        \n",
      " 12  Index         1500 non-null   int64         \n",
      " 13  IMDB_Rating   1500 non-null   float64       \n",
      " 14  year_added    1500 non-null   float64       \n",
      "dtypes: datetime64[ns](1), float64(2), int32(1), int64(1), object(10)\n",
      "memory usage: 181.6+ KB\n"
     ]
    }
   ],
   "source": [
    "dfNetflix1500.info()\n",
    "#not considering director or cast \n",
    "#316 null values --- country"
   ]
  },
  {
   "cell_type": "code",
   "execution_count": 82,
   "metadata": {},
   "outputs": [],
   "source": [
    "#correcting data types\n",
    "dfNetflix1500[\"year_added\"] = pd.to_datetime(dfNetflix1500[\"year_added\"])\n",
    "dfNetflix1500[\"rating\"] = dfNetflix1500[\"rating\"].astype(\"category\")\n",
    "dfNetflix1500[\"type\"] = dfNetflix1500[\"type\"].astype(\"category\")"
   ]
  },
  {
   "cell_type": "code",
   "execution_count": 83,
   "metadata": {},
   "outputs": [
    {
     "name": "stdout",
     "output_type": "stream",
     "text": [
      "<class 'pandas.core.frame.DataFrame'>\n",
      "Index: 1500 entries, 0 to 1678\n",
      "Data columns (total 14 columns):\n",
      " #   Column        Non-Null Count  Dtype         \n",
      "---  ------        --------------  -----         \n",
      " 0   show_id       1500 non-null   object        \n",
      " 1   type          1500 non-null   object        \n",
      " 2   title         1500 non-null   object        \n",
      " 3   director      0 non-null      object        \n",
      " 4   cast          0 non-null      float64       \n",
      " 5   country       587 non-null    object        \n",
      " 6   date_added    1500 non-null   datetime64[ns]\n",
      " 7   release_year  1500 non-null   int32         \n",
      " 8   rating        1192 non-null   object        \n",
      " 9   duration      1288 non-null   object        \n",
      " 10  listed_in     1500 non-null   object        \n",
      " 11  description   1499 non-null   object        \n",
      " 12  IMDB_Rating   1500 non-null   float64       \n",
      " 13  year_added    1500 non-null   int32         \n",
      "dtypes: datetime64[ns](1), float64(2), int32(2), object(9)\n",
      "memory usage: 164.1+ KB\n"
     ]
    }
   ],
   "source": [
    "dfHulu1500.info()\n",
    "#not considering director or cast \n",
    "#913 null values --- country\n",
    "#308 null values --- rating \n",
    "#212 null values --- duration \n",
    "#1 null value --- description "
   ]
  },
  {
   "cell_type": "code",
   "execution_count": 84,
   "metadata": {},
   "outputs": [],
   "source": [
    "#correcting data types\n",
    "dfHulu1500[\"year_added\"] = pd.to_datetime(dfHulu1500[\"year_added\"])\n",
    "dfHulu1500[\"rating\"] = dfHulu1500[\"rating\"].astype(\"category\")\n",
    "dfHulu1500[\"type\"] = dfHulu1500[\"type\"].astype(\"category\")"
   ]
  },
  {
   "cell_type": "code",
   "execution_count": 182,
   "metadata": {},
   "outputs": [
    {
     "data": {
      "image/png": "[encoded data removed]",
      "text/plain": [
       "<Figure size 1200x500 with 2 Axes>"
      ]
     },
     "metadata": {},
     "output_type": "display_data"
    }
   ],
   "source": [
    "#using variables with NO NULL VALUES --- titles and IMDb \n",
    "# col = np.where((dfNetflix1500[\"IMDB_Rating\"]>=7) , '#e50914','#f7b512') doesn't work \n",
    "fig, ax = plt.subplots(nrows = 1,ncols=2,figsize = (12,5))\n",
    "ax[0].hist(dfNetflix1500[\"IMDB_Rating\"], bins = 20, color = \"#e50914\")\n",
    "ax[1].hist(dfHulu1500[\"IMDB_Rating\"], bins = 20, color = \"#1DB954\")\n",
    "\n",
    "\n",
    "ax[0].vlines(dfNetflix1500[\"IMDB_Rating\"].mean(),0,1300, colors=\"white\", linestyles=\"dashed\")\n",
    "ax[1].vlines(dfHulu1500[\"IMDB_Rating\"].mean(),0,500, colors=\"white\", linestyles=\"dashed\")\n",
    "\n",
    "\n",
    "#HIGHLIGHT - NETFLIX and HULU\n",
    "highlight_min1 = dfNetflix1500[dfNetflix1500[\"IMDB_Rating\"] > 7][\"IMDB_Rating\"].min()\n",
    "highlight_max1 = dfNetflix1500[dfNetflix1500[\"IMDB_Rating\"] > 7][\"IMDB_Rating\"].max()\n",
    "ax[0].axvspan(highlight_min1, highlight_max1, color=\"#f7b512\", alpha=0.5)\n",
    "\n",
    "highlight_min2 = dfHulu1500[dfHulu1500[\"IMDB_Rating\"] > 7][\"IMDB_Rating\"].min()\n",
    "highlight_max2 = dfHulu1500[dfHulu1500[\"IMDB_Rating\"] > 7][\"IMDB_Rating\"].max()\n",
    "ax[1].axvspan(highlight_min2, highlight_max2, color=\"#f7b512\", alpha=0.5)\n",
    "\n",
    "#IMDb counts \n",
    "n_imdb = len(dfNetflix1500[dfNetflix1500[\"IMDB_Rating\"]>7])\n",
    "h_imdb = len(dfHulu1500[dfHulu1500[\"IMDB_Rating\"]>7])\n",
    "\n",
    "#FLUFF\n",
    "ax[0].set_title(\"Netflix\", color = \"white\", weight = \"bold\", font = \"serif\", size = 16)\n",
    "ax[0].set_xlabel(\"IMDb Rating\",color = \"white\", weight = \"bold\",font = \"serif\", size = 12)\n",
    "ax[0].set_ylabel(\"Number of titles\",color = \"white\", weight = \"bold\",font = \"serif\", size = 12)\n",
    "ax[0].tick_params(axis='x', colors='white')  # Set color for x-tick labels\n",
    "ax[0].tick_params(axis='y', colors='white')\n",
    "ax[0].set_xlim(0-.1,10+.1)\n",
    "ax[0].set_ylim(0,300)\n",
    "\n",
    "ax[0].annotate(\"IMDb > 7\",(7.2,100), color = \"white\",font = \"serif\")\n",
    "ax[0].annotate(f\"{n_imdb} titles\" ,(7.2,85), color = \"white\",font = \"serif\")\n",
    "\n",
    "\n",
    "ax[0].spines[\"top\"].set_visible(False)\n",
    "ax[0].spines[\"right\"].set_visible(False)\n",
    "ax[0].spines[\"bottom\"].set_color(\"white\")\n",
    "ax[0].spines[\"left\"].set_color(\"white\")\n",
    "\n",
    "ax[1].set_title(\"Hulu\", color = \"white\", weight = \"bold\",font = \"serif\", size = 16)\n",
    "ax[1].set_xlabel(\"IMDb Rating\",color = \"white\", weight = \"bold\",font = \"serif\", size = 12)\n",
    "ax[1].set_ylabel(\"Number of titles\",color = \"white\", weight = \"bold\",font = \"serif\", size = 12)\n",
    "ax[1].tick_params(axis='x', colors='white')  # Set color for x-tick labels\n",
    "ax[1].tick_params(axis='y', colors='white')\n",
    "ax[1].set_xlim(0-.1,10+.1)\n",
    "ax[1].set_ylim(0,300)\n",
    "\n",
    "ax[1].annotate(\"IMDb > 7\",(7.2,100), color = \"white\", font = \"serif\")\n",
    "ax[1].annotate(f\"{h_imdb} titles\",(7.2,85), color = \"white\", font = \"serif\")\n",
    "\n",
    "ax[1].spines[\"top\"].set_visible(False)\n",
    "ax[1].spines[\"right\"].set_visible(False)\n",
    "ax[1].spines[\"bottom\"].set_color(\"white\")\n",
    "ax[1].spines[\"left\"].set_color(\"white\")\n",
    "\n",
    "\n",
    "\n",
    "ax[0].set_facecolor(\"#205c40\")\n",
    "fig.patch.set_facecolor(\"#205c40\")\n",
    "\n",
    "ax[1].set_facecolor(\"#205c40\")\n",
    "fig.patch.set_facecolor(\"#205c40\")"
   ]
  },
  {
   "cell_type": "markdown",
   "metadata": {},
   "source": [
    "Tackling Null Values"
   ]
  },
  {
   "cell_type": "code",
   "execution_count": 86,
   "metadata": {},
   "outputs": [],
   "source": [
    "#From earlier:\n",
    "\n",
    "#dfNetflix1500.info()\n",
    "#not considering director or cast \n",
    "#316 null values --- country\n",
    "\n",
    "#dfHulu1500.info()\n",
    "#not considering director or cast \n",
    "#913 null values --- country\n",
    "#308 null values --- rating \n",
    "#212 null values --- duration \n",
    "#1 null value --- description "
   ]
  },
  {
   "cell_type": "code",
   "execution_count": 87,
   "metadata": {},
   "outputs": [
    {
     "data": {
      "text/plain": [
       "array(['United States', nan, 'United Kingdom',\n",
       "       'United States, Ghana, Burkina Faso, United Kingdom, Germany, Ethiopia',\n",
       "       'South Africa', 'India', 'Germany, Czech Republic', 'Turkey',\n",
       "       'Mexico', 'Australia', 'United States, India, France',\n",
       "       'South Africa, United States, Japan', 'Finland',\n",
       "       'China, Canada, United States', 'Japan', 'Nigeria',\n",
       "       'Spain, United States', 'France', 'Belgium',\n",
       "       'United Kingdom, United States', 'United States, United Kingdom',\n",
       "       'France, United States', 'South Korea', 'Spain',\n",
       "       'United States, Singapore',\n",
       "       'United Kingdom, Australia, France, United States',\n",
       "       'United Kingdom, Australia, France', 'United States, Canada',\n",
       "       'Italy, United States', 'United States, China, Hong Kong',\n",
       "       'Canada', 'United States, Germany', 'Russia',\n",
       "       'Germany, United States', 'South Africa, United States',\n",
       "       'United States, Mexico', 'United States, Italy, France, Japan',\n",
       "       'United States, Italy, Romania, United Kingdom',\n",
       "       'Australia, United States', 'Argentina, Venezuela',\n",
       "       'United States, United Kingdom, Canada', 'China, Hong Kong',\n",
       "       'United Kingdom, Canada, United States', 'Ireland',\n",
       "       ', South Korea', 'India, Nepal',\n",
       "       'New Zealand, Australia, France, United States', 'Italy',\n",
       "       'Argentina', 'Italy, Brazil, Greece', 'Jordan', 'Colombia',\n",
       "       'United States, Japan', 'Belgium, United Kingdom',\n",
       "       'Switzerland, United Kingdom, Australia', 'Canada, United States',\n",
       "       'Israel, United States', 'Brazil', 'Argentina, Spain', 'Taiwan',\n",
       "       'United States, Nigeria', 'United States, China',\n",
       "       'Spain, United Kingdom, United States', 'United States, France',\n",
       "       'Spain, France, United Kingdom, United States',\n",
       "       'Bulgaria, United States', ', France, Algeria', 'Poland',\n",
       "       'France, Israel, Germany, United States, United Kingdom',\n",
       "       'Germany', 'New Zealand', 'Saudi Arabia', 'Thailand',\n",
       "       'Egypt, Denmark, Germany', 'Indonesia',\n",
       "       'United States, Switzerland', 'Hong Kong, Canada, United States',\n",
       "       'Kuwait, United States', 'France, Canada, United States, Spain',\n",
       "       'France, Netherlands, Singapore',\n",
       "       'Ireland, United States, United Kingdom', 'Malaysia', 'Israel',\n",
       "       'Australia, New Zealand', 'United Kingdom, Germany',\n",
       "       'Belgium, Netherlands', 'France, Belgium',\n",
       "       'South Korea, Czech Republic',\n",
       "       'United Kingdom, Germany, Spain, United States',\n",
       "       'United Kingdom, United States, France, Italy',\n",
       "       'United States, France, Italy, United Kingdom',\n",
       "       'United States, United Kingdom, Germany, Hungary',\n",
       "       'United States, New Zealand', 'Sweden',\n",
       "       'United States, Germany, Canada', 'Australia, Germany', 'Vietnam',\n",
       "       'United Kingdom, Belgium', 'France, Japan, United States',\n",
       "       'United Kingdom, Australia, United States', 'China', 'Lebanon',\n",
       "       'Romania', 'Finland, Germany', 'Philippines', 'Iceland',\n",
       "       'Lebanon, Syria', 'Denmark', 'United States, India',\n",
       "       'Philippines, Singapore, Indonesia',\n",
       "       'China, United States, Canada', 'Canada, United States, Denmark',\n",
       "       'United Arab Emirates', 'Lebanon, United Arab Emirates',\n",
       "       'Mexico, France, Colombia', 'Netherlands',\n",
       "       'United States, Bulgaria', 'Germany, United States, France',\n",
       "       'United Kingdom, France, Germany, United States',\n",
       "       'Norway, Denmark', 'Egypt', 'Austria', 'Canada, South Africa',\n",
       "       'Mauritius', 'United States, Czech Republic', 'Mexico, Brazil',\n",
       "       'Germany, France', 'Mexico, United States',\n",
       "       'United States, Russia', 'United States, United Kingdom, France',\n",
       "       'United States, United Kingdom, New Zealand',\n",
       "       'United States, Australia',\n",
       "       'United Kingdom, France, Spain, United States',\n",
       "       'Australia, United Kingdom', 'Canada, Nigeria, United States',\n",
       "       'France, United Kingdom',\n",
       "       'France, United States, United Kingdom, Canada',\n",
       "       'India, United Kingdom',\n",
       "       'Czech Republic, United Kingdom, United States',\n",
       "       'United Kingdom, Germany, United States',\n",
       "       'Canada, United States, Mexico', 'China, United Kingdom',\n",
       "       'China, Taiwan', 'Italy, United Kingdom',\n",
       "       'United States, Brazil, Japan, Spain, India',\n",
       "       'United States, China, United Kingdom', 'Cameroon',\n",
       "       'Egypt, Saudi Arabia',\n",
       "       'United Kingdom, France, Poland, Germany, United States',\n",
       "       'Japan, United States', 'Lebanon, Palestine, Denmark, Qatar',\n",
       "       'Uruguay, Germany',\n",
       "       'Ireland, Switzerland, United Kingdom, France, United States',\n",
       "       'United Kingdom, South Africa, France',\n",
       "       'Ireland, United Kingdom, France, Germany',\n",
       "       'Russia, United States', 'United Kingdom, United States, France',\n",
       "       'United Kingdom,', 'United States, India, United Kingdom', 'Kenya',\n",
       "       'Spain, Argentina', 'India, United Kingdom, France, Qatar',\n",
       "       'Belgium, France', 'Argentina, Chile', 'United States, Thailand',\n",
       "       'Chile, Brazil', 'United States, Colombia',\n",
       "       'Canada, United States, United Kingdom', 'Uruguay', 'Luxembourg',\n",
       "       'United States, Cambodia, Romania', 'Bangladesh',\n",
       "       'Spain, Belgium, United States', 'Canada, United States, France',\n",
       "       'United Kingdom, United States, Australia',\n",
       "       'Portugal, United States', 'Portugal, Spain',\n",
       "       'India, United States', 'United Kingdom, Spain, United States',\n",
       "       'United States, South Korea', 'Hungary, United States',\n",
       "       'Canada, United States, Cayman Islands', 'France, Canada',\n",
       "       'Canada, Hungary, United States', 'United States, Sweden, Norway',\n",
       "       'Norway', 'United States, Hong Kong',\n",
       "       'United States, Germany, United Kingdom, Australia',\n",
       "       'United States, France, Canada, Spain', 'Hong Kong, United States',\n",
       "       'Canada, United Kingdom, United States', 'Denmark, United States',\n",
       "       'Senegal', 'France, Algeria',\n",
       "       'United Kingdom, Finland, Germany, United States, Australia, Japan, France, Ireland',\n",
       "       'Philippines, Canada, United Kingdom, United States'], dtype=object)"
      ]
     },
     "execution_count": 87,
     "metadata": {},
     "output_type": "execute_result"
    }
   ],
   "source": [
    "dfNetflix1500[\"country\"].unique()"
   ]
  },
  {
   "cell_type": "code",
   "execution_count": 88,
   "metadata": {},
   "outputs": [
    {
     "data": {
      "text/html": [
       "<div>\n",
       "<style scoped>\n",
       "    .dataframe tbody tr th:only-of-type {\n",
       "        vertical-align: middle;\n",
       "    }\n",
       "\n",
       "    .dataframe tbody tr th {\n",
       "        vertical-align: top;\n",
       "    }\n",
       "\n",
       "    .dataframe thead th {\n",
       "        text-align: right;\n",
       "    }\n",
       "</style>\n",
       "<table border=\"1\" class=\"dataframe\">\n",
       "  <thead>\n",
       "    <tr style=\"text-align: right;\">\n",
       "      <th></th>\n",
       "      <th>show_id</th>\n",
       "      <th>type</th>\n",
       "      <th>title</th>\n",
       "      <th>director</th>\n",
       "      <th>cast</th>\n",
       "      <th>country</th>\n",
       "      <th>date_added</th>\n",
       "      <th>release_year</th>\n",
       "      <th>rating</th>\n",
       "      <th>duration</th>\n",
       "      <th>listed_in</th>\n",
       "      <th>description</th>\n",
       "      <th>IMDB_Rating</th>\n",
       "      <th>year_added</th>\n",
       "    </tr>\n",
       "  </thead>\n",
       "  <tbody>\n",
       "    <tr>\n",
       "      <th>1158</th>\n",
       "      <td>s1159</td>\n",
       "      <td>Movie</td>\n",
       "      <td>UFC 252</td>\n",
       "      <td>NaN</td>\n",
       "      <td>NaN</td>\n",
       "      <td>NaN</td>\n",
       "      <td>2020-11-25</td>\n",
       "      <td>2020</td>\n",
       "      <td>TV-14</td>\n",
       "      <td>NaN</td>\n",
       "      <td>Sports</td>\n",
       "      <td>NaN</td>\n",
       "      <td>7.1</td>\n",
       "      <td>1970-01-01 00:00:00.000002020</td>\n",
       "    </tr>\n",
       "  </tbody>\n",
       "</table>\n",
       "</div>"
      ],
      "text/plain": [
       "     show_id   type    title director  cast country date_added  release_year  \\\n",
       "1158   s1159  Movie  UFC 252      NaN   NaN     NaN 2020-11-25          2020   \n",
       "\n",
       "     rating duration listed_in description  IMDB_Rating  \\\n",
       "1158  TV-14      NaN    Sports         NaN          7.1   \n",
       "\n",
       "                        year_added  \n",
       "1158 1970-01-01 00:00:00.000002020  "
      ]
     },
     "execution_count": 88,
     "metadata": {},
     "output_type": "execute_result"
    }
   ],
   "source": [
    "dfHulu1500[dfHulu1500[\"description\"].isnull()]"
   ]
  },
  {
   "cell_type": "code",
   "execution_count": 89,
   "metadata": {},
   "outputs": [
    {
     "data": {
      "text/html": [
       "<div>\n",
       "<style scoped>\n",
       "    .dataframe tbody tr th:only-of-type {\n",
       "        vertical-align: middle;\n",
       "    }\n",
       "\n",
       "    .dataframe tbody tr th {\n",
       "        vertical-align: top;\n",
       "    }\n",
       "\n",
       "    .dataframe thead th {\n",
       "        text-align: right;\n",
       "    }\n",
       "</style>\n",
       "<table border=\"1\" class=\"dataframe\">\n",
       "  <thead>\n",
       "    <tr style=\"text-align: right;\">\n",
       "      <th></th>\n",
       "      <th>rating</th>\n",
       "      <th>duration</th>\n",
       "    </tr>\n",
       "  </thead>\n",
       "  <tbody>\n",
       "    <tr>\n",
       "      <th>0</th>\n",
       "      <td>TV-MA</td>\n",
       "      <td>NaN</td>\n",
       "    </tr>\n",
       "    <tr>\n",
       "      <th>2</th>\n",
       "      <td>PG-13</td>\n",
       "      <td>108 min</td>\n",
       "    </tr>\n",
       "    <tr>\n",
       "      <th>1</th>\n",
       "      <td>NaN</td>\n",
       "      <td>94 min</td>\n",
       "    </tr>\n",
       "    <tr>\n",
       "      <th>3</th>\n",
       "      <td>R</td>\n",
       "      <td>97 min</td>\n",
       "    </tr>\n",
       "    <tr>\n",
       "      <th>4</th>\n",
       "      <td>NaN</td>\n",
       "      <td>104 min</td>\n",
       "    </tr>\n",
       "    <tr>\n",
       "      <th>...</th>\n",
       "      <td>...</td>\n",
       "      <td>...</td>\n",
       "    </tr>\n",
       "    <tr>\n",
       "      <th>1662</th>\n",
       "      <td>80 min</td>\n",
       "      <td>NaN</td>\n",
       "    </tr>\n",
       "    <tr>\n",
       "      <th>1659</th>\n",
       "      <td>NaN</td>\n",
       "      <td>81 min</td>\n",
       "    </tr>\n",
       "    <tr>\n",
       "      <th>1667</th>\n",
       "      <td>NaN</td>\n",
       "      <td>75 min</td>\n",
       "    </tr>\n",
       "    <tr>\n",
       "      <th>1661</th>\n",
       "      <td>78 min</td>\n",
       "      <td>NaN</td>\n",
       "    </tr>\n",
       "    <tr>\n",
       "      <th>1678</th>\n",
       "      <td>TV-PG</td>\n",
       "      <td>96 min</td>\n",
       "    </tr>\n",
       "  </tbody>\n",
       "</table>\n",
       "<p>1500 rows × 2 columns</p>\n",
       "</div>"
      ],
      "text/plain": [
       "      rating duration\n",
       "0      TV-MA      NaN\n",
       "2      PG-13  108 min\n",
       "1        NaN   94 min\n",
       "3          R   97 min\n",
       "4        NaN  104 min\n",
       "...      ...      ...\n",
       "1662  80 min      NaN\n",
       "1659     NaN   81 min\n",
       "1667     NaN   75 min\n",
       "1661  78 min      NaN\n",
       "1678   TV-PG   96 min\n",
       "\n",
       "[1500 rows x 2 columns]"
      ]
     },
     "execution_count": 89,
     "metadata": {},
     "output_type": "execute_result"
    }
   ],
   "source": [
    "dfHulu1500[[\"rating\",\"duration\"]] #odd --- rating contains duration "
   ]
  },
  {
   "cell_type": "code",
   "execution_count": 93,
   "metadata": {},
   "outputs": [],
   "source": [
    "condition = dfHulu1500['rating'].str.contains('min', na=False)\n",
    "dfHulu1500.loc[condition, 'duration'] = dfHulu1500.loc[condition, 'rating']"
   ]
  },
  {
   "cell_type": "code",
   "execution_count": 95,
   "metadata": {},
   "outputs": [],
   "source": [
    "dfHulu1500.loc[condition, 'rating'] = np.nan"
   ]
  },
  {
   "cell_type": "code",
   "execution_count": 96,
   "metadata": {},
   "outputs": [
    {
     "data": {
      "text/html": [
       "<div>\n",
       "<style scoped>\n",
       "    .dataframe tbody tr th:only-of-type {\n",
       "        vertical-align: middle;\n",
       "    }\n",
       "\n",
       "    .dataframe tbody tr th {\n",
       "        vertical-align: top;\n",
       "    }\n",
       "\n",
       "    .dataframe thead th {\n",
       "        text-align: right;\n",
       "    }\n",
       "</style>\n",
       "<table border=\"1\" class=\"dataframe\">\n",
       "  <thead>\n",
       "    <tr style=\"text-align: right;\">\n",
       "      <th></th>\n",
       "      <th>rating</th>\n",
       "      <th>duration</th>\n",
       "    </tr>\n",
       "  </thead>\n",
       "  <tbody>\n",
       "    <tr>\n",
       "      <th>0</th>\n",
       "      <td>TV-MA</td>\n",
       "      <td>NaN</td>\n",
       "    </tr>\n",
       "    <tr>\n",
       "      <th>2</th>\n",
       "      <td>PG-13</td>\n",
       "      <td>108 min</td>\n",
       "    </tr>\n",
       "    <tr>\n",
       "      <th>1</th>\n",
       "      <td>NaN</td>\n",
       "      <td>94 min</td>\n",
       "    </tr>\n",
       "    <tr>\n",
       "      <th>3</th>\n",
       "      <td>R</td>\n",
       "      <td>97 min</td>\n",
       "    </tr>\n",
       "    <tr>\n",
       "      <th>4</th>\n",
       "      <td>NaN</td>\n",
       "      <td>104 min</td>\n",
       "    </tr>\n",
       "    <tr>\n",
       "      <th>...</th>\n",
       "      <td>...</td>\n",
       "      <td>...</td>\n",
       "    </tr>\n",
       "    <tr>\n",
       "      <th>1662</th>\n",
       "      <td>NaN</td>\n",
       "      <td>80 min</td>\n",
       "    </tr>\n",
       "    <tr>\n",
       "      <th>1659</th>\n",
       "      <td>NaN</td>\n",
       "      <td>81 min</td>\n",
       "    </tr>\n",
       "    <tr>\n",
       "      <th>1667</th>\n",
       "      <td>NaN</td>\n",
       "      <td>75 min</td>\n",
       "    </tr>\n",
       "    <tr>\n",
       "      <th>1661</th>\n",
       "      <td>NaN</td>\n",
       "      <td>78 min</td>\n",
       "    </tr>\n",
       "    <tr>\n",
       "      <th>1678</th>\n",
       "      <td>TV-PG</td>\n",
       "      <td>96 min</td>\n",
       "    </tr>\n",
       "  </tbody>\n",
       "</table>\n",
       "<p>1500 rows × 2 columns</p>\n",
       "</div>"
      ],
      "text/plain": [
       "     rating duration\n",
       "0     TV-MA      NaN\n",
       "2     PG-13  108 min\n",
       "1       NaN   94 min\n",
       "3         R   97 min\n",
       "4       NaN  104 min\n",
       "...     ...      ...\n",
       "1662    NaN   80 min\n",
       "1659    NaN   81 min\n",
       "1667    NaN   75 min\n",
       "1661    NaN   78 min\n",
       "1678  TV-PG   96 min\n",
       "\n",
       "[1500 rows x 2 columns]"
      ]
     },
     "execution_count": 96,
     "metadata": {},
     "output_type": "execute_result"
    }
   ],
   "source": [
    "dfHulu1500[[\"rating\",\"duration\"]] #updated"
   ]
  },
  {
   "cell_type": "code",
   "execution_count": 107,
   "metadata": {},
   "outputs": [
    {
     "data": {
      "text/plain": [
       "['TV-MA', 'PG-13', NaN, 'R', 'TV-14', ..., 'TV-Y7', 'TV-Y', '3 Seasons', '1 Season', '6 Seasons']\n",
       "Length: 17\n",
       "Categories (66, object): ['1 Season', '100 min', '101 min', '102 min', ..., 'TV-MA', 'TV-PG', 'TV-Y', 'TV-Y7']"
      ]
     },
     "execution_count": 107,
     "metadata": {},
     "output_type": "execute_result"
    }
   ],
   "source": [
    "dfHulu1500[\"rating\"].unique() #rating still contains Seasons which should be in duration"
   ]
  },
  {
   "cell_type": "code",
   "execution_count": 112,
   "metadata": {},
   "outputs": [],
   "source": [
    "condition2 = dfHulu1500[\"rating\"].str.contains(\"Season\", na= False) | dfHulu1500[\"rating\"].str.contains(\"Season\", na = False)\n",
    "dfHulu1500.loc[condition2,\"duration\"] = dfHulu1500.loc[condition2,\"rating\"]"
   ]
  },
  {
   "cell_type": "code",
   "execution_count": 116,
   "metadata": {},
   "outputs": [],
   "source": [
    "dfHulu1500.loc[condition2,\"rating\"] = np.nan"
   ]
  },
  {
   "cell_type": "code",
   "execution_count": 117,
   "metadata": {},
   "outputs": [
    {
     "data": {
      "text/plain": [
       "np.int64(451)"
      ]
     },
     "execution_count": 117,
     "metadata": {},
     "output_type": "execute_result"
    }
   ],
   "source": [
    "dfHulu1500[\"rating\"].isnull().sum() #143 more null values"
   ]
  },
  {
   "cell_type": "code",
   "execution_count": 118,
   "metadata": {},
   "outputs": [
    {
     "data": {
      "text/plain": [
       "np.int64(69)"
      ]
     },
     "execution_count": 118,
     "metadata": {},
     "output_type": "execute_result"
    }
   ],
   "source": [
    "dfHulu1500[\"duration\"].isnull().sum() #143 less null values"
   ]
  },
  {
   "cell_type": "code",
   "execution_count": 123,
   "metadata": {},
   "outputs": [],
   "source": [
    "pd.Series(dfHulu1500[\"rating\"].unique()).to_clipboard()\n",
    "#unique values: [TV-MA,PG-13,R,TV-14,PG,TV-PG,NOT RATED,G,TV-G,TV-Y7,TV-Y]"
   ]
  },
  {
   "cell_type": "code",
   "execution_count": 124,
   "metadata": {},
   "outputs": [
    {
     "data": {
      "text/plain": [
       "['PG-13', 'PG', 'TV-MA', 'TV-14', 'TV-PG', 'TV-Y', 'R', 'TV-Y7', 'TV-G', 'G']\n",
       "Categories (10, object): ['G', 'PG', 'PG-13', 'R', ..., 'TV-MA', 'TV-PG', 'TV-Y', 'TV-Y7']"
      ]
     },
     "execution_count": 124,
     "metadata": {},
     "output_type": "execute_result"
    }
   ],
   "source": [
    "dfNetflix1500[\"rating\"].unique()"
   ]
  },
  {
   "cell_type": "code",
   "execution_count": 147,
   "metadata": {},
   "outputs": [],
   "source": [
    "family_friendly = ['G', 'PG', 'TV-Y', 'TV-G', 'TV-Y7']\n",
    "teens = ['PG-13', 'TV-14','TV-PG']\n",
    "adults = ['R', 'NC-17', 'TV-MA']\n",
    "\n",
    "def classify_age_group(rating):\n",
    "    if inCheck(family_friendly, rating):\n",
    "        return 'Kids'\n",
    "    elif inCheck(teens, rating):\n",
    "        return 'Teens'\n",
    "    elif inCheck(adults, rating):\n",
    "        return 'Adults'\n",
    "    else:\n",
    "        return 'Adults'\n",
    "\n",
    "\n",
    "dfHulu1500['Age_group'] = dfHulu1500['rating'].apply(classify_age_group)\n",
    "dfNetflix1500['Age_group'] = dfNetflix1500['rating'].apply(classify_age_group)"
   ]
  },
  {
   "cell_type": "code",
   "execution_count": 163,
   "metadata": {},
   "outputs": [
    {
     "data": {
      "text/plain": [
       "count     1049\n",
       "unique       3\n",
       "top       Kids\n",
       "freq       432\n",
       "Name: Age_group, dtype: object"
      ]
     },
     "execution_count": 163,
     "metadata": {},
     "output_type": "execute_result"
    }
   ],
   "source": [
    "dfHulu1500[\"Age_group\"].describe()"
   ]
  },
  {
   "cell_type": "code",
   "execution_count": 162,
   "metadata": {},
   "outputs": [
    {
     "data": {
      "text/plain": [
       "count       1500\n",
       "unique         3\n",
       "top       Adults\n",
       "freq         690\n",
       "Name: Age_group, dtype: object"
      ]
     },
     "execution_count": 162,
     "metadata": {},
     "output_type": "execute_result"
    }
   ],
   "source": [
    "dfNetflix1500['Age_group'].describe()"
   ]
  },
  {
   "cell_type": "code",
   "execution_count": 151,
   "metadata": {},
   "outputs": [
    {
     "data": {
      "text/plain": [
       "0.41182078169685415"
      ]
     },
     "execution_count": 151,
     "metadata": {},
     "output_type": "execute_result"
    }
   ],
   "source": [
    "432/1049"
   ]
  },
  {
   "cell_type": "code",
   "execution_count": 173,
   "metadata": {},
   "outputs": [
    {
     "data": {
      "text/plain": [
       "Age_group\n",
       "Adults    367\n",
       "Kids      432\n",
       "Teens     250\n",
       "Name: count, dtype: int64"
      ]
     },
     "execution_count": 173,
     "metadata": {},
     "output_type": "execute_result"
    }
   ],
   "source": [
    "hulu_age.reindex(['Adults', 'Kids', 'Teens'])"
   ]
  },
  {
   "cell_type": "code",
   "execution_count": 170,
   "metadata": {},
   "outputs": [
    {
     "data": {
      "text/plain": [
       "Age_group\n",
       "Adults    690\n",
       "Kids      492\n",
       "Teens     318\n",
       "Name: count, dtype: int64"
      ]
     },
     "execution_count": 170,
     "metadata": {},
     "output_type": "execute_result"
    }
   ],
   "source": [
    "netflix_age"
   ]
  },
  {
   "cell_type": "code",
   "execution_count": 187,
   "metadata": {},
   "outputs": [
    {
     "data": {
      "image/png": "[encoded data removed]",
      "text/plain": [
       "<Figure size 1000x500 with 2 Axes>"
      ]
     },
     "metadata": {},
     "output_type": "display_data"
    }
   ],
   "source": [
    "pie_colors = ['#919194', '#FDBB30', '#FFFFFF']\n",
    "explode = [0, 0.1, 0]\n",
    "hulu_age = dfHulu1500[\"Age_group\"].value_counts().reindex(['Adults', 'Kids', 'Teens'])\n",
    "netflix_age = dfNetflix1500['Age_group'].value_counts()\n",
    "fig, axes = plt.subplots(1, 2, figsize=(10, 5))\n",
    "\n",
    "hulu_pie, hulu_texts, hulu_autotexts = axes[1].pie(hulu_age, labels=hulu_age.index, explode=explode, autopct='%1.1f%%', startangle=140, colors=pie_colors,textprops={'color':'white','fontsize': 12}\n",
    ")\n",
    "\n",
    "axes[1].set_title('Hulu', y=-0.03, color=\"white\", font='Serif', size=14,weight = \"bold\")\n",
    "                  \n",
    "#path_effects=[plt.matplotlib.patheffects.withStroke(linewidth=2, foreground='black')])\n",
    "\n",
    "for text in hulu_autotexts:\n",
    "    text.set_color('black')\n",
    "    text.set_size(12)\n",
    "#     text.set_path_effects([path_effects.Stroke(linewidth=2, foreground='black'), path_effects.Normal()])\n",
    "\n",
    "for i, txt in enumerate(hulu_autotexts):\n",
    "    txt.set_text(f\"{hulu_age.iloc[i]}\\n({txt.get_text()})\") #txt.set_text is new text, txt.get_text is current text\n",
    "    txt.set_size(11) \n",
    "\n",
    "netflix_pie, netflix_texts, netflix_autotexts = axes[0].pie(\n",
    "    netflix_age, labels=netflix_age.index, explode=explode, autopct='%1.1f%%', startangle=140, colors=pie_colors,textprops={'color':'white','fontsize': 12}\n",
    ")\n",
    "axes[0].set_title('Netflix', y=-0.03, color=\"white\", font='Serif', size=14, weight = \"bold\")\n",
    "#path_effects=[plt.matplotlib.patheffects.withStroke(linewidth=2, foreground='black')])\n",
    "\n",
    "for text in netflix_autotexts:\n",
    "    text.set_color('black')\n",
    "    text.set_size(12)\n",
    "#     text.set_path_effects([path_effects.Stroke(linewidth=2, foreground='black'), path_effects.Normal()])\n",
    "\n",
    "for i, txt in enumerate(netflix_autotexts):\n",
    "    txt.set_text(f\"{netflix_age.iloc[i]}\\n({txt.get_text()})\")\n",
    "    txt.set_size(11) \n",
    "\n",
    "fig.suptitle('Age Group Distribution based on Ratings', color=\"white\", font='Serif', size=18, weight = \"bold\") \n",
    "#path_effects=[plt.matplotlib.patheffects.withStroke(linewidth=2, foreground='black')])\n",
    "fig.patch.set_facecolor('None')\n",
    "\n",
    "plt.tight_layout()\n",
    "plt.show()"
   ]
  },
  {
   "cell_type": "code",
   "execution_count": 92,
   "metadata": {},
   "outputs": [
    {
     "data": {
      "image/png": "[encoded data removed]",
      "text/plain": [
       "<Figure size 600x500 with 1 Axes>"
      ]
     },
     "metadata": {},
     "output_type": "display_data"
    }
   ],
   "source": [
    "n_type = dfNetflixClean[\"type\"].value_counts()\n",
    "h_type = dfHuluClean[\"type\"].value_counts()\n",
    "\n",
    "fig, ax = plt.subplots(figsize = (6,5))\n",
    "x = [\"Netflix\",\"Hulu\"]\n",
    "ylow = [n_type[\"Movie\"],h_type[\"Movie\"]]\n",
    "yhigh = [n_type[\"TV Show\"],h_type[\"TV Show\"]]\n",
    "ax.barh(x,ylow,color='#302330',label = \"movies\")\n",
    "ax.barh(x,yhigh,left = ylow,color = [\"#c91302\",\"#2ab019\"] , label = [\"TV shows\",\"TV shows\"])\n",
    "\n",
    "ax.set_title(\"Movies vs TV Shows\", size=16)\n",
    "ax.set_ylabel(\"Number of titles\",weight = \"bold\")\n",
    "\n",
    "ax.spines[\"top\"].set_visible(False)\n",
    "ax.spines[\"right\"].set_visible(False)\n",
    "\n",
    "ax.set_facecolor(\"#b2baeb\")\n",
    "fig.patch.set_facecolor(\"#b2baeb\")\n",
    "\n",
    "#fig.legend()\n"
   ]
  },
  {
   "cell_type": "code",
   "execution_count": 70,
   "metadata": {},
   "outputs": [
    {
     "data": {
      "text/plain": [
       "country\n",
       "United States                                     383\n",
       "United Kingdom                                     41\n",
       "Japan                                              17\n",
       "Canada                                             16\n",
       "Australia                                           9\n",
       "                                                 ... \n",
       "United Kingdom, United Arab Emirates                1\n",
       "Germany, Norway                                     1\n",
       "Sweden, United States, Germany, United Kingdom      1\n",
       "United States, United Kingdom, Italy                1\n",
       "United States, Hong Kong                            1\n",
       "Name: count, Length: 85, dtype: int64"
      ]
     },
     "execution_count": 70,
     "metadata": {},
     "output_type": "execute_result"
    }
   ],
   "source": [
    "dfHulu1500['country'].value_counts()"
   ]
  },
  {
   "cell_type": "code",
   "execution_count": 70,
   "metadata": {},
   "outputs": [
    {
     "data": {
      "text/plain": [
       "country\n",
       "United States                                     383\n",
       "United Kingdom                                     41\n",
       "Japan                                              17\n",
       "Canada                                             16\n",
       "Australia                                           9\n",
       "                                                 ... \n",
       "United Kingdom, United Arab Emirates                1\n",
       "Germany, Norway                                     1\n",
       "Sweden, United States, Germany, United Kingdom      1\n",
       "United States, United Kingdom, Italy                1\n",
       "United States, Hong Kong                            1\n",
       "Name: count, Length: 85, dtype: int64"
      ]
     },
     "execution_count": 70,
     "metadata": {},
     "output_type": "execute_result"
    }
   ],
   "source": [
    "dfHulu1500['country'].value_counts()"
   ]
  },
  {
   "cell_type": "code",
   "execution_count": null,
   "metadata": {},
   "outputs": [],
   "source": []
  }
 ],
 "metadata": {
  "kernelspec": {
   "display_name": "base",
   "language": "python",
   "name": "python3"
  },
  "language_info": {
   "codemirror_mode": {
    "name": "ipython",
    "version": 3
   },
   "file_extension": ".py",
   "mimetype": "text/x-python",
   "name": "python",
   "nbconvert_exporter": "python",
   "pygments_lexer": "ipython3",
   "version": "3.9.6"
  }
 },
 "nbformat": 4,
 "nbformat_minor": 2
}
