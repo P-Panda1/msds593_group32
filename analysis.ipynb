{
 "cells": [
  {
   "cell_type": "code",
   "execution_count": 63,
   "metadata": {},
   "outputs": [],
   "source": [
    "import numpy as np\n",
    "import pandas as pd\n",
    "import matplotlib.pyplot as plt"
   ]
  },
  {
   "cell_type": "code",
   "execution_count": 64,
   "metadata": {},
   "outputs": [
    {
     "name": "stdout",
     "output_type": "stream",
     "text": [
      "Current Working Directory: /Users/peeyushpatel/Desktop/group/msds593/msds593_group32\n"
     ]
    }
   ],
   "source": [
    "import os\n",
    "file_path = 'data/netflix_titles_Modified.csv'\n",
    "file_path2 = 'data/hulu_titles_modified.csv'\n",
    "print(\"Current Working Directory:\", os.getcwd())"
   ]
  },
  {
   "cell_type": "code",
   "execution_count": 65,
   "metadata": {},
   "outputs": [
    {
     "name": "stdout",
     "output_type": "stream",
     "text": [
      "CSV file loaded successfully.\n"
     ]
    }
   ],
   "source": [
    "try:\n",
    "    dfNetflix = pd.read_csv(file_path, encoding='ISO-8859-1')\n",
    "    dfHulu = pd.read_csv(file_path2, encoding='ISO-8859-1')\n",
    "    print(\"CSV file loaded successfully.\")\n",
    "except UnicodeDecodeError as e:\n",
    "    print(\"UnicodeDecodeError:\", e)\n",
    "    dfNetflix = pd.read_csv(file_path, encoding='utf-8', errors='replace')\n",
    "    dfHulu = pd.read_csv(file_path2, encoding='ISO-8859-1')\n",
    "    print(\"CSV file loaded with 'replace' option for errors.\")"
   ]
  },
  {
   "cell_type": "code",
   "execution_count": 66,
   "metadata": {},
   "outputs": [
    {
     "name": "stdout",
     "output_type": "stream",
     "text": [
      "<class 'pandas.core.frame.DataFrame'>\n",
      "RangeIndex: 8807 entries, 0 to 8806\n",
      "Data columns (total 14 columns):\n",
      " #   Column        Non-Null Count  Dtype  \n",
      "---  ------        --------------  -----  \n",
      " 0   show_id       8807 non-null   object \n",
      " 1   type          8807 non-null   object \n",
      " 2   title         8807 non-null   object \n",
      " 3   director      6173 non-null   object \n",
      " 4   cast          7982 non-null   object \n",
      " 5   country       7976 non-null   object \n",
      " 6   date_added    8797 non-null   object \n",
      " 7   release_year  8807 non-null   int64  \n",
      " 8   rating        8803 non-null   object \n",
      " 9   duration      8804 non-null   object \n",
      " 10  listed_in     8807 non-null   object \n",
      " 11  description   8807 non-null   object \n",
      " 12  Index         8807 non-null   int64  \n",
      " 13  IMDB_Rating   8425 non-null   float64\n",
      "dtypes: float64(1), int64(2), object(11)\n",
      "memory usage: 963.4+ KB\n"
     ]
    }
   ],
   "source": [
    "dfNetflix.info()"
   ]
  },
  {
   "cell_type": "code",
   "execution_count": 67,
   "metadata": {},
   "outputs": [
    {
     "data": {
      "text/html": [
       "<div>\n",
       "<style scoped>\n",
       "    .dataframe tbody tr th:only-of-type {\n",
       "        vertical-align: middle;\n",
       "    }\n",
       "\n",
       "    .dataframe tbody tr th {\n",
       "        vertical-align: top;\n",
       "    }\n",
       "\n",
       "    .dataframe thead th {\n",
       "        text-align: right;\n",
       "    }\n",
       "</style>\n",
       "<table border=\"1\" class=\"dataframe\">\n",
       "  <thead>\n",
       "    <tr style=\"text-align: right;\">\n",
       "      <th></th>\n",
       "      <th>show_id</th>\n",
       "      <th>type</th>\n",
       "      <th>title</th>\n",
       "      <th>director</th>\n",
       "      <th>cast</th>\n",
       "      <th>country</th>\n",
       "      <th>date_added</th>\n",
       "      <th>release_year</th>\n",
       "      <th>rating</th>\n",
       "      <th>duration</th>\n",
       "      <th>listed_in</th>\n",
       "      <th>description</th>\n",
       "      <th>Index</th>\n",
       "      <th>IMDB_Rating</th>\n",
       "    </tr>\n",
       "  </thead>\n",
       "  <tbody>\n",
       "    <tr>\n",
       "      <th>0</th>\n",
       "      <td>s1</td>\n",
       "      <td>Movie</td>\n",
       "      <td>Dick Johnson Is Dead</td>\n",
       "      <td>Kirsten Johnson</td>\n",
       "      <td>NaN</td>\n",
       "      <td>United States</td>\n",
       "      <td>September 25, 2021</td>\n",
       "      <td>2020</td>\n",
       "      <td>PG-13</td>\n",
       "      <td>90 min</td>\n",
       "      <td>Documentaries</td>\n",
       "      <td>As her father nears the end of his life, filmm...</td>\n",
       "      <td>0</td>\n",
       "      <td>7.4</td>\n",
       "    </tr>\n",
       "    <tr>\n",
       "      <th>1</th>\n",
       "      <td>s2</td>\n",
       "      <td>TV Show</td>\n",
       "      <td>Blood &amp; Water</td>\n",
       "      <td>NaN</td>\n",
       "      <td>Ama Qamata, Khosi Ngema, Gail Mabalane, Thaban...</td>\n",
       "      <td>South Africa</td>\n",
       "      <td>September 24, 2021</td>\n",
       "      <td>2021</td>\n",
       "      <td>TV-MA</td>\n",
       "      <td>2 Seasons</td>\n",
       "      <td>International TV Shows, TV Dramas, TV Mysteries</td>\n",
       "      <td>After crossing paths at a party, a Cape Town t...</td>\n",
       "      <td>1</td>\n",
       "      <td>6.7</td>\n",
       "    </tr>\n",
       "    <tr>\n",
       "      <th>2</th>\n",
       "      <td>s3</td>\n",
       "      <td>TV Show</td>\n",
       "      <td>Ganglands</td>\n",
       "      <td>Julien Leclercq</td>\n",
       "      <td>Sami Bouajila, Tracy Gotoas, Samuel Jouy, Nabi...</td>\n",
       "      <td>NaN</td>\n",
       "      <td>September 24, 2021</td>\n",
       "      <td>2021</td>\n",
       "      <td>TV-MA</td>\n",
       "      <td>1 Season</td>\n",
       "      <td>Crime TV Shows, International TV Shows, TV Act...</td>\n",
       "      <td>To protect his family from a powerful drug lor...</td>\n",
       "      <td>2</td>\n",
       "      <td>7.2</td>\n",
       "    </tr>\n",
       "    <tr>\n",
       "      <th>3</th>\n",
       "      <td>s4</td>\n",
       "      <td>TV Show</td>\n",
       "      <td>Jailbirds New Orleans</td>\n",
       "      <td>NaN</td>\n",
       "      <td>NaN</td>\n",
       "      <td>NaN</td>\n",
       "      <td>September 24, 2021</td>\n",
       "      <td>2021</td>\n",
       "      <td>TV-MA</td>\n",
       "      <td>1 Season</td>\n",
       "      <td>Docuseries, Reality TV</td>\n",
       "      <td>Feuds, flirtations and toilet talk go down amo...</td>\n",
       "      <td>3</td>\n",
       "      <td>6.5</td>\n",
       "    </tr>\n",
       "    <tr>\n",
       "      <th>4</th>\n",
       "      <td>s5</td>\n",
       "      <td>TV Show</td>\n",
       "      <td>Kota Factory</td>\n",
       "      <td>NaN</td>\n",
       "      <td>Mayur More, Jitendra Kumar, Ranjan Raj, Alam K...</td>\n",
       "      <td>India</td>\n",
       "      <td>September 24, 2021</td>\n",
       "      <td>2021</td>\n",
       "      <td>TV-MA</td>\n",
       "      <td>2 Seasons</td>\n",
       "      <td>International TV Shows, Romantic TV Shows, TV ...</td>\n",
       "      <td>In a city of coaching centers known to train I...</td>\n",
       "      <td>4</td>\n",
       "      <td>9.0</td>\n",
       "    </tr>\n",
       "    <tr>\n",
       "      <th>5</th>\n",
       "      <td>s6</td>\n",
       "      <td>TV Show</td>\n",
       "      <td>Midnight Mass</td>\n",
       "      <td>Mike Flanagan</td>\n",
       "      <td>Kate Siegel, Zach Gilford, Hamish Linklater, H...</td>\n",
       "      <td>NaN</td>\n",
       "      <td>September 24, 2021</td>\n",
       "      <td>2021</td>\n",
       "      <td>TV-MA</td>\n",
       "      <td>1 Season</td>\n",
       "      <td>TV Dramas, TV Horror, TV Mysteries</td>\n",
       "      <td>The arrival of a charismatic young priest brin...</td>\n",
       "      <td>5</td>\n",
       "      <td>7.7</td>\n",
       "    </tr>\n",
       "    <tr>\n",
       "      <th>6</th>\n",
       "      <td>s7</td>\n",
       "      <td>Movie</td>\n",
       "      <td>My Little Pony: A New Generation</td>\n",
       "      <td>Robert Cullen, JosÃ© Luis Ucha</td>\n",
       "      <td>Vanessa Hudgens, Kimiko Glenn, James Marsden, ...</td>\n",
       "      <td>NaN</td>\n",
       "      <td>September 24, 2021</td>\n",
       "      <td>2021</td>\n",
       "      <td>PG</td>\n",
       "      <td>91 min</td>\n",
       "      <td>Children &amp; Family Movies</td>\n",
       "      <td>Equestria's divided. But a bright-eyed hero be...</td>\n",
       "      <td>6</td>\n",
       "      <td>6.8</td>\n",
       "    </tr>\n",
       "    <tr>\n",
       "      <th>7</th>\n",
       "      <td>s8</td>\n",
       "      <td>Movie</td>\n",
       "      <td>Sankofa</td>\n",
       "      <td>Haile Gerima</td>\n",
       "      <td>Kofi Ghanaba, Oyafunmike Ogunlano, Alexandra D...</td>\n",
       "      <td>United States, Ghana, Burkina Faso, United Kin...</td>\n",
       "      <td>September 24, 2021</td>\n",
       "      <td>1993</td>\n",
       "      <td>TV-MA</td>\n",
       "      <td>125 min</td>\n",
       "      <td>Dramas, Independent Movies, International Movies</td>\n",
       "      <td>On a photo shoot in Ghana, an American model s...</td>\n",
       "      <td>7</td>\n",
       "      <td>7.0</td>\n",
       "    </tr>\n",
       "    <tr>\n",
       "      <th>8</th>\n",
       "      <td>s9</td>\n",
       "      <td>TV Show</td>\n",
       "      <td>The Great British Baking Show</td>\n",
       "      <td>Andy Devonshire</td>\n",
       "      <td>Mel Giedroyc, Sue Perkins, Mary Berry, Paul Ho...</td>\n",
       "      <td>United Kingdom</td>\n",
       "      <td>September 24, 2021</td>\n",
       "      <td>2021</td>\n",
       "      <td>TV-14</td>\n",
       "      <td>9 Seasons</td>\n",
       "      <td>British TV Shows, Reality TV</td>\n",
       "      <td>A talented batch of amateur bakers face off in...</td>\n",
       "      <td>8</td>\n",
       "      <td>8.1</td>\n",
       "    </tr>\n",
       "    <tr>\n",
       "      <th>9</th>\n",
       "      <td>s10</td>\n",
       "      <td>Movie</td>\n",
       "      <td>The Starling</td>\n",
       "      <td>Theodore Melfi</td>\n",
       "      <td>Melissa McCarthy, Chris O'Dowd, Kevin Kline, T...</td>\n",
       "      <td>United States</td>\n",
       "      <td>September 24, 2021</td>\n",
       "      <td>2021</td>\n",
       "      <td>PG-13</td>\n",
       "      <td>104 min</td>\n",
       "      <td>Comedies, Dramas</td>\n",
       "      <td>A woman adjusting to life after a loss contend...</td>\n",
       "      <td>9</td>\n",
       "      <td>6.4</td>\n",
       "    </tr>\n",
       "  </tbody>\n",
       "</table>\n",
       "</div>"
      ],
      "text/plain": [
       "  show_id     type                             title  \\\n",
       "0      s1    Movie              Dick Johnson Is Dead   \n",
       "1      s2  TV Show                     Blood & Water   \n",
       "2      s3  TV Show                         Ganglands   \n",
       "3      s4  TV Show             Jailbirds New Orleans   \n",
       "4      s5  TV Show                      Kota Factory   \n",
       "5      s6  TV Show                     Midnight Mass   \n",
       "6      s7    Movie  My Little Pony: A New Generation   \n",
       "7      s8    Movie                           Sankofa   \n",
       "8      s9  TV Show     The Great British Baking Show   \n",
       "9     s10    Movie                      The Starling   \n",
       "\n",
       "                         director  \\\n",
       "0                 Kirsten Johnson   \n",
       "1                             NaN   \n",
       "2                 Julien Leclercq   \n",
       "3                             NaN   \n",
       "4                             NaN   \n",
       "5                   Mike Flanagan   \n",
       "6  Robert Cullen, JosÃ© Luis Ucha   \n",
       "7                    Haile Gerima   \n",
       "8                 Andy Devonshire   \n",
       "9                  Theodore Melfi   \n",
       "\n",
       "                                                cast  \\\n",
       "0                                                NaN   \n",
       "1  Ama Qamata, Khosi Ngema, Gail Mabalane, Thaban...   \n",
       "2  Sami Bouajila, Tracy Gotoas, Samuel Jouy, Nabi...   \n",
       "3                                                NaN   \n",
       "4  Mayur More, Jitendra Kumar, Ranjan Raj, Alam K...   \n",
       "5  Kate Siegel, Zach Gilford, Hamish Linklater, H...   \n",
       "6  Vanessa Hudgens, Kimiko Glenn, James Marsden, ...   \n",
       "7  Kofi Ghanaba, Oyafunmike Ogunlano, Alexandra D...   \n",
       "8  Mel Giedroyc, Sue Perkins, Mary Berry, Paul Ho...   \n",
       "9  Melissa McCarthy, Chris O'Dowd, Kevin Kline, T...   \n",
       "\n",
       "                                             country          date_added  \\\n",
       "0                                      United States  September 25, 2021   \n",
       "1                                       South Africa  September 24, 2021   \n",
       "2                                                NaN  September 24, 2021   \n",
       "3                                                NaN  September 24, 2021   \n",
       "4                                              India  September 24, 2021   \n",
       "5                                                NaN  September 24, 2021   \n",
       "6                                                NaN  September 24, 2021   \n",
       "7  United States, Ghana, Burkina Faso, United Kin...  September 24, 2021   \n",
       "8                                     United Kingdom  September 24, 2021   \n",
       "9                                      United States  September 24, 2021   \n",
       "\n",
       "   release_year rating   duration  \\\n",
       "0          2020  PG-13     90 min   \n",
       "1          2021  TV-MA  2 Seasons   \n",
       "2          2021  TV-MA   1 Season   \n",
       "3          2021  TV-MA   1 Season   \n",
       "4          2021  TV-MA  2 Seasons   \n",
       "5          2021  TV-MA   1 Season   \n",
       "6          2021     PG     91 min   \n",
       "7          1993  TV-MA    125 min   \n",
       "8          2021  TV-14  9 Seasons   \n",
       "9          2021  PG-13    104 min   \n",
       "\n",
       "                                           listed_in  \\\n",
       "0                                      Documentaries   \n",
       "1    International TV Shows, TV Dramas, TV Mysteries   \n",
       "2  Crime TV Shows, International TV Shows, TV Act...   \n",
       "3                             Docuseries, Reality TV   \n",
       "4  International TV Shows, Romantic TV Shows, TV ...   \n",
       "5                 TV Dramas, TV Horror, TV Mysteries   \n",
       "6                           Children & Family Movies   \n",
       "7   Dramas, Independent Movies, International Movies   \n",
       "8                       British TV Shows, Reality TV   \n",
       "9                                   Comedies, Dramas   \n",
       "\n",
       "                                         description  Index  IMDB_Rating  \n",
       "0  As her father nears the end of his life, filmm...      0          7.4  \n",
       "1  After crossing paths at a party, a Cape Town t...      1          6.7  \n",
       "2  To protect his family from a powerful drug lor...      2          7.2  \n",
       "3  Feuds, flirtations and toilet talk go down amo...      3          6.5  \n",
       "4  In a city of coaching centers known to train I...      4          9.0  \n",
       "5  The arrival of a charismatic young priest brin...      5          7.7  \n",
       "6  Equestria's divided. But a bright-eyed hero be...      6          6.8  \n",
       "7  On a photo shoot in Ghana, an American model s...      7          7.0  \n",
       "8  A talented batch of amateur bakers face off in...      8          8.1  \n",
       "9  A woman adjusting to life after a loss contend...      9          6.4  "
      ]
     },
     "execution_count": 67,
     "metadata": {},
     "output_type": "execute_result"
    }
   ],
   "source": [
    "dfNetflix.head(10)"
   ]
  },
  {
   "cell_type": "code",
   "execution_count": 68,
   "metadata": {},
   "outputs": [
    {
     "name": "stdout",
     "output_type": "stream",
     "text": [
      "<class 'pandas.core.frame.DataFrame'>\n",
      "Index: 8415 entries, 0 to 8806\n",
      "Data columns (total 14 columns):\n",
      " #   Column        Non-Null Count  Dtype  \n",
      "---  ------        --------------  -----  \n",
      " 0   show_id       8415 non-null   object \n",
      " 1   type          8415 non-null   object \n",
      " 2   title         8415 non-null   object \n",
      " 3   director      5926 non-null   object \n",
      " 4   cast          7649 non-null   object \n",
      " 5   country       7735 non-null   object \n",
      " 6   date_added    8415 non-null   object \n",
      " 7   release_year  8415 non-null   int64  \n",
      " 8   rating        8411 non-null   object \n",
      " 9   duration      8412 non-null   object \n",
      " 10  listed_in     8415 non-null   object \n",
      " 11  description   8415 non-null   object \n",
      " 12  Index         8415 non-null   int64  \n",
      " 13  IMDB_Rating   8415 non-null   float64\n",
      "dtypes: float64(1), int64(2), object(11)\n",
      "memory usage: 986.1+ KB\n"
     ]
    },
    {
     "data": {
      "text/plain": [
       "(8415, 14)"
      ]
     },
     "execution_count": 68,
     "metadata": {},
     "output_type": "execute_result"
    }
   ],
   "source": [
    "# Filter rows where 'date_added' is not NaN\n",
    "dfNetflixClean = dfNetflix[dfNetflix['date_added'].notna()].copy()\n",
    "dfNetflixClean = dfNetflixClean[dfNetflixClean['IMDB_Rating'].notna()].copy()\n",
    "dfNetflixClean.info()\n",
    "dfNetflixClean.shape"
   ]
  },
  {
   "cell_type": "code",
   "execution_count": 69,
   "metadata": {},
   "outputs": [
    {
     "data": {
      "text/plain": [
       "array(['September 25, 2021', 'September 24, 2021', 'September 23, 2021',\n",
       "       ..., 'December 6, 2018', 'March 9, 2016', 'January 11, 2020'],\n",
       "      dtype=object)"
      ]
     },
     "execution_count": 69,
     "metadata": {},
     "output_type": "execute_result"
    }
   ],
   "source": [
    "dfNetflixClean['date_added'].unique()"
   ]
  },
  {
   "cell_type": "code",
   "execution_count": 70,
   "metadata": {},
   "outputs": [
    {
     "data": {
      "text/plain": [
       "release_year\n",
       "2018    1094\n",
       "2017     979\n",
       "2019     968\n",
       "2020     912\n",
       "2016     856\n",
       "        ... \n",
       "1942       2\n",
       "1964       2\n",
       "1966       1\n",
       "1961       1\n",
       "1947       1\n",
       "Name: count, Length: 72, dtype: int64"
      ]
     },
     "execution_count": 70,
     "metadata": {},
     "output_type": "execute_result"
    }
   ],
   "source": [
    "dfNetflixClean['release_year'].value_counts()"
   ]
  },
  {
   "cell_type": "code",
   "execution_count": 71,
   "metadata": {},
   "outputs": [],
   "source": [
    "dfNetflixClean['date_added'] = pd.to_datetime(dfNetflixClean['date_added'], errors='coerce') \n",
    "dfNetflixClean['release_year'] = pd.to_datetime(dfNetflixClean['release_year'], errors='coerce', format='%Y') "
   ]
  },
  {
   "cell_type": "code",
   "execution_count": 72,
   "metadata": {},
   "outputs": [],
   "source": [
    "# Extract the year from 'date_added' and 'release_year' columns\n",
    "dfNetflixClean['year_added'] = dfNetflixClean['date_added'].dt.year\n",
    "dfNetflixClean['release_year'] = dfNetflixClean['release_year'].dt.year"
   ]
  },
  {
   "cell_type": "code",
   "execution_count": 73,
   "metadata": {},
   "outputs": [
    {
     "name": "stdout",
     "output_type": "stream",
     "text": [
      "<class 'pandas.core.frame.DataFrame'>\n",
      "Index: 8415 entries, 0 to 8806\n",
      "Data columns (total 15 columns):\n",
      " #   Column        Non-Null Count  Dtype         \n",
      "---  ------        --------------  -----         \n",
      " 0   show_id       8415 non-null   object        \n",
      " 1   type          8415 non-null   object        \n",
      " 2   title         8415 non-null   object        \n",
      " 3   director      5926 non-null   object        \n",
      " 4   cast          7649 non-null   object        \n",
      " 5   country       7735 non-null   object        \n",
      " 6   date_added    8329 non-null   datetime64[ns]\n",
      " 7   release_year  8415 non-null   int32         \n",
      " 8   rating        8411 non-null   object        \n",
      " 9   duration      8412 non-null   object        \n",
      " 10  listed_in     8415 non-null   object        \n",
      " 11  description   8415 non-null   object        \n",
      " 12  Index         8415 non-null   int64         \n",
      " 13  IMDB_Rating   8415 non-null   float64       \n",
      " 14  year_added    8329 non-null   float64       \n",
      "dtypes: datetime64[ns](1), float64(2), int32(1), int64(1), object(10)\n",
      "memory usage: 1019.0+ KB\n"
     ]
    }
   ],
   "source": [
    "dfNetflixClean.info()"
   ]
  },
  {
   "cell_type": "code",
   "execution_count": 74,
   "metadata": {},
   "outputs": [
    {
     "data": {
      "text/plain": [
       "[2001,\n",
       " 2002,\n",
       " 2003,\n",
       " 2004,\n",
       " 2005,\n",
       " 2006,\n",
       " 2007,\n",
       " 2008,\n",
       " 2009,\n",
       " 2010,\n",
       " 2011,\n",
       " 2012,\n",
       " 2013,\n",
       " 2014,\n",
       " 2015,\n",
       " 2016,\n",
       " 2017,\n",
       " 2018,\n",
       " 2019,\n",
       " 2020,\n",
       " 2021]"
      ]
     },
     "execution_count": 74,
     "metadata": {},
     "output_type": "execute_result"
    }
   ],
   "source": [
    "sorted([i for i in dfNetflixClean['release_year'].unique() if i > 2000])"
   ]
  },
  {
   "cell_type": "code",
   "execution_count": 75,
   "metadata": {},
   "outputs": [
    {
     "data": {
      "text/plain": [
       "array([2021., 2020., 2019., 2018., 2017., 2016., 2015., 2014., 2013.,\n",
       "       2012., 2011., 2009., 2008.,   nan, 2010.])"
      ]
     },
     "execution_count": 75,
     "metadata": {},
     "output_type": "execute_result"
    }
   ],
   "source": [
    "dfNetflixClean['year_added'].unique()"
   ]
  },
  {
   "cell_type": "code",
   "execution_count": 76,
   "metadata": {},
   "outputs": [
    {
     "name": "stdout",
     "output_type": "stream",
     "text": [
      "<class 'pandas.core.frame.DataFrame'>\n",
      "RangeIndex: 3073 entries, 0 to 3072\n",
      "Data columns (total 13 columns):\n",
      " #   Column        Non-Null Count  Dtype  \n",
      "---  ------        --------------  -----  \n",
      " 0   show_id       3073 non-null   object \n",
      " 1   type          3073 non-null   object \n",
      " 2   title         3073 non-null   object \n",
      " 3   director      3 non-null      object \n",
      " 4   cast          0 non-null      float64\n",
      " 5   country       1620 non-null   object \n",
      " 6   date_added    3045 non-null   object \n",
      " 7   release_year  3073 non-null   int64  \n",
      " 8   rating        2553 non-null   object \n",
      " 9   duration      2594 non-null   object \n",
      " 10  listed_in     3073 non-null   object \n",
      " 11  description   3069 non-null   object \n",
      " 12  IMDB_Rating   2799 non-null   float64\n",
      "dtypes: float64(2), int64(1), object(10)\n",
      "memory usage: 312.2+ KB\n"
     ]
    }
   ],
   "source": [
    "dfHulu.info()"
   ]
  },
  {
   "cell_type": "code",
   "execution_count": 77,
   "metadata": {},
   "outputs": [
    {
     "name": "stdout",
     "output_type": "stream",
     "text": [
      "<class 'pandas.core.frame.DataFrame'>\n",
      "Index: 3045 entries, 0 to 3044\n",
      "Data columns (total 13 columns):\n",
      " #   Column        Non-Null Count  Dtype  \n",
      "---  ------        --------------  -----  \n",
      " 0   show_id       3045 non-null   object \n",
      " 1   type          3045 non-null   object \n",
      " 2   title         3045 non-null   object \n",
      " 3   director      3 non-null      object \n",
      " 4   cast          0 non-null      float64\n",
      " 5   country       1593 non-null   object \n",
      " 6   date_added    3045 non-null   object \n",
      " 7   release_year  3045 non-null   int64  \n",
      " 8   rating        2525 non-null   object \n",
      " 9   duration      2566 non-null   object \n",
      " 10  listed_in     3045 non-null   object \n",
      " 11  description   3041 non-null   object \n",
      " 12  IMDB_Rating   2771 non-null   float64\n",
      "dtypes: float64(2), int64(1), object(10)\n",
      "memory usage: 333.0+ KB\n"
     ]
    },
    {
     "data": {
      "text/plain": [
       "(3045, 13)"
      ]
     },
     "execution_count": 77,
     "metadata": {},
     "output_type": "execute_result"
    }
   ],
   "source": [
    "# Filter rows where 'date_added' is not NaN\n",
    "dfHuluClean = dfHulu[dfHulu['date_added'].notna()].copy()\n",
    "dfHuluClean.info()\n",
    "dfHuluClean.shape"
   ]
  },
  {
   "cell_type": "code",
   "execution_count": 78,
   "metadata": {},
   "outputs": [],
   "source": [
    "dfHuluClean['date_added'] = pd.to_datetime(dfHuluClean['date_added'], errors='coerce') \n",
    "dfHuluClean['release_year'] = pd.to_datetime(dfHuluClean['release_year'], errors='coerce', format='%Y') \n",
    "# Extract the year from 'date_added' and 'release_year' columns\n",
    "dfHuluClean['year_added'] = dfHuluClean['date_added'].dt.year\n",
    "dfHuluClean['release_year'] = dfHuluClean['release_year'].dt.year"
   ]
  },
  {
   "cell_type": "code",
   "execution_count": 79,
   "metadata": {},
   "outputs": [
    {
     "data": {
      "text/plain": [
       "(1841, 14)"
      ]
     },
     "execution_count": 79,
     "metadata": {},
     "output_type": "execute_result"
    }
   ],
   "source": [
    "dfNetflixClean[dfNetflixClean['release_year'] >2014].shape\n",
    "dfHuluClean[dfHuluClean['release_year'] >2014].shape"
   ]
  },
  {
   "cell_type": "code",
   "execution_count": 80,
   "metadata": {},
   "outputs": [],
   "source": [
    "from imdb import IMDb"
   ]
  },
  {
   "cell_type": "code",
   "execution_count": 81,
   "metadata": {},
   "outputs": [
    {
     "name": "stdout",
     "output_type": "stream",
     "text": [
      "7.4\n"
     ]
    }
   ],
   "source": [
    "ia = IMDb()\n",
    "results=ia.search_movie(dfNetflixClean['title'][0])\n",
    "movie = results[0]  # Take the first result\n",
    "ia.update(movie)\n",
    "rating = movie.get('rating')\n",
    "print(rating)"
   ]
  },
  {
   "cell_type": "code",
   "execution_count": 82,
   "metadata": {},
   "outputs": [
    {
     "name": "stdout",
     "output_type": "stream",
     "text": [
      "<class 'pandas.core.frame.DataFrame'>\n",
      "RangeIndex: 3073 entries, 0 to 3072\n",
      "Data columns (total 13 columns):\n",
      " #   Column        Non-Null Count  Dtype  \n",
      "---  ------        --------------  -----  \n",
      " 0   show_id       3073 non-null   object \n",
      " 1   type          3073 non-null   object \n",
      " 2   title         3073 non-null   object \n",
      " 3   director      3 non-null      object \n",
      " 4   cast          0 non-null      float64\n",
      " 5   country       1620 non-null   object \n",
      " 6   date_added    3045 non-null   object \n",
      " 7   release_year  3073 non-null   int64  \n",
      " 8   rating        2553 non-null   object \n",
      " 9   duration      2594 non-null   object \n",
      " 10  listed_in     3073 non-null   object \n",
      " 11  description   3069 non-null   object \n",
      " 12  IMDB_Rating   2799 non-null   float64\n",
      "dtypes: float64(2), int64(1), object(10)\n",
      "memory usage: 312.2+ KB\n"
     ]
    }
   ],
   "source": [
    "dfHulu.info()"
   ]
  },
  {
   "cell_type": "code",
   "execution_count": 83,
   "metadata": {},
   "outputs": [
    {
     "name": "stdout",
     "output_type": "stream",
     "text": [
      "2006-07-14 00:00:00\n"
     ]
    }
   ],
   "source": [
    "sorted([i for i in dfHuluClean['release_year'].unique()])\n",
    "print(min([i for i in dfHuluClean['date_added'].unique()]))"
   ]
  },
  {
   "cell_type": "code",
   "execution_count": 84,
   "metadata": {},
   "outputs": [
    {
     "data": {
      "text/plain": [
       "array(['90 min', '2 Seasons', '1 Season', '91 min', '125 min',\n",
       "       '9 Seasons', '104 min', '127 min', '4 Seasons', '67 min', '94 min',\n",
       "       '5 Seasons', '161 min', '61 min', '166 min', '147 min', '103 min',\n",
       "       '97 min', '106 min', '111 min', '3 Seasons', '110 min', '105 min',\n",
       "       '96 min', '124 min', '116 min', '98 min', '23 min', '115 min',\n",
       "       '122 min', '99 min', '88 min', '100 min', '6 Seasons', '102 min',\n",
       "       '93 min', '95 min', '85 min', '83 min', '113 min', '13 min',\n",
       "       '182 min', '48 min', '145 min', '87 min', '92 min', '80 min',\n",
       "       '117 min', '128 min', '119 min', '143 min', '114 min', '118 min',\n",
       "       '108 min', '63 min', '121 min', '142 min', '154 min', '120 min',\n",
       "       '82 min', '109 min', '101 min', '86 min', '229 min', '76 min',\n",
       "       '89 min', '156 min', '112 min', '107 min', '129 min', '135 min',\n",
       "       '136 min', '165 min', '150 min', '133 min', '70 min', '84 min',\n",
       "       '140 min', '7 Seasons', '64 min', '59 min', '139 min', '69 min',\n",
       "       '148 min', '189 min', '141 min', '130 min', '138 min', '81 min',\n",
       "       '132 min', '10 Seasons', '123 min', '65 min', '68 min', '66 min',\n",
       "       '62 min', '74 min', '131 min', '46 min', '38 min', '8 Seasons',\n",
       "       '17 Seasons', '126 min', '39 min', '155 min', '159 min', '12 min',\n",
       "       '273 min', '34 min', '36 min', '77 min', '60 min', '49 min',\n",
       "       '58 min', '72 min', '204 min', '212 min', '25 min', '73 min',\n",
       "       '29 min', '32 min', '35 min', '78 min', '71 min', '149 min',\n",
       "       '33 min', '54 min', '224 min', '162 min', '37 min', '137 min',\n",
       "       '75 min', '79 min', '55 min', '158 min', '164 min', '173 min',\n",
       "       '181 min', '185 min', '21 min', '24 min', '151 min', '42 min',\n",
       "       '22 min', '134 min', '177 min', '13 Seasons', '14 min', '53 min',\n",
       "       '8 min', '57 min', '28 min', '50 min', '26 min', '45 min',\n",
       "       '171 min', '15 min', '27 min', '51 min', '47 min', '44 min',\n",
       "       '146 min', '20 min', '157 min', '17 min', '203 min', '41 min',\n",
       "       '30 min', '52 min', '194 min', '15 Seasons', '233 min', '237 min',\n",
       "       '230 min', '195 min', '253 min', '152 min', '190 min', '160 min',\n",
       "       '208 min', '180 min', '144 min', '5 min', '174 min', '170 min',\n",
       "       '192 min', '209 min', '187 min', '172 min', '16 min', '193 min',\n",
       "       '176 min', '56 min', '169 min', '40 min', '10 min', '3 min',\n",
       "       '168 min', '312 min', '153 min', '214 min', '31 min', '163 min',\n",
       "       '19 min', '12 Seasons', nan, '179 min', '11 Seasons', '43 min',\n",
       "       '200 min', '196 min', '167 min', '178 min', '228 min', '18 min',\n",
       "       '205 min', '201 min', '191 min'], dtype=object)"
      ]
     },
     "execution_count": 84,
     "metadata": {},
     "output_type": "execute_result"
    }
   ],
   "source": [
    "dfNetflixClean['duration'].unique()"
   ]
  },
  {
   "cell_type": "code",
   "execution_count": 85,
   "metadata": {},
   "outputs": [
    {
     "data": {
      "text/plain": [
       "type         \n",
       "Movie    0.00    1942.0\n",
       "         0.25    2012.0\n",
       "         0.50    2016.0\n",
       "         0.75    2018.0\n",
       "         1.00    2021.0\n",
       "TV Show  0.00    1945.0\n",
       "         0.25    2016.0\n",
       "         0.50    2018.0\n",
       "         0.75    2020.0\n",
       "         1.00    2021.0\n",
       "Name: release_year, dtype: float64"
      ]
     },
     "execution_count": 85,
     "metadata": {},
     "output_type": "execute_result"
    }
   ],
   "source": [
    "dfNetflixClean.groupby('type')['release_year'].quantile([.0, 0.25, .5, 0.75,  1])"
   ]
  },
  {
   "cell_type": "code",
   "execution_count": 86,
   "metadata": {},
   "outputs": [
    {
     "data": {
      "text/html": [
       "<div>\n",
       "<style scoped>\n",
       "    .dataframe tbody tr th:only-of-type {\n",
       "        vertical-align: middle;\n",
       "    }\n",
       "\n",
       "    .dataframe tbody tr th {\n",
       "        vertical-align: top;\n",
       "    }\n",
       "\n",
       "    .dataframe thead th {\n",
       "        text-align: right;\n",
       "    }\n",
       "</style>\n",
       "<table border=\"1\" class=\"dataframe\">\n",
       "  <thead>\n",
       "    <tr style=\"text-align: right;\">\n",
       "      <th></th>\n",
       "      <th>show_id</th>\n",
       "      <th>title</th>\n",
       "      <th>director</th>\n",
       "      <th>cast</th>\n",
       "      <th>country</th>\n",
       "      <th>date_added</th>\n",
       "      <th>release_year</th>\n",
       "      <th>rating</th>\n",
       "      <th>duration</th>\n",
       "      <th>listed_in</th>\n",
       "      <th>description</th>\n",
       "      <th>Index</th>\n",
       "      <th>IMDB_Rating</th>\n",
       "      <th>year_added</th>\n",
       "    </tr>\n",
       "    <tr>\n",
       "      <th>type</th>\n",
       "      <th></th>\n",
       "      <th></th>\n",
       "      <th></th>\n",
       "      <th></th>\n",
       "      <th></th>\n",
       "      <th></th>\n",
       "      <th></th>\n",
       "      <th></th>\n",
       "      <th></th>\n",
       "      <th></th>\n",
       "      <th></th>\n",
       "      <th></th>\n",
       "      <th></th>\n",
       "      <th></th>\n",
       "    </tr>\n",
       "  </thead>\n",
       "  <tbody>\n",
       "    <tr>\n",
       "      <th>Movie</th>\n",
       "      <td>5861</td>\n",
       "      <td>5861</td>\n",
       "      <td>5706</td>\n",
       "      <td>5428</td>\n",
       "      <td>5510</td>\n",
       "      <td>5861</td>\n",
       "      <td>5861</td>\n",
       "      <td>5859</td>\n",
       "      <td>5858</td>\n",
       "      <td>5861</td>\n",
       "      <td>5861</td>\n",
       "      <td>5861</td>\n",
       "      <td>5861</td>\n",
       "      <td>5861</td>\n",
       "    </tr>\n",
       "    <tr>\n",
       "      <th>TV Show</th>\n",
       "      <td>2554</td>\n",
       "      <td>2554</td>\n",
       "      <td>220</td>\n",
       "      <td>2221</td>\n",
       "      <td>2225</td>\n",
       "      <td>2468</td>\n",
       "      <td>2554</td>\n",
       "      <td>2552</td>\n",
       "      <td>2554</td>\n",
       "      <td>2554</td>\n",
       "      <td>2554</td>\n",
       "      <td>2554</td>\n",
       "      <td>2554</td>\n",
       "      <td>2468</td>\n",
       "    </tr>\n",
       "  </tbody>\n",
       "</table>\n",
       "</div>"
      ],
      "text/plain": [
       "         show_id  title  director  cast  country  date_added  release_year  \\\n",
       "type                                                                         \n",
       "Movie       5861   5861      5706  5428     5510        5861          5861   \n",
       "TV Show     2554   2554       220  2221     2225        2468          2554   \n",
       "\n",
       "         rating  duration  listed_in  description  Index  IMDB_Rating  \\\n",
       "type                                                                    \n",
       "Movie      5859      5858       5861         5861   5861         5861   \n",
       "TV Show    2552      2554       2554         2554   2554         2554   \n",
       "\n",
       "         year_added  \n",
       "type                 \n",
       "Movie          5861  \n",
       "TV Show        2468  "
      ]
     },
     "execution_count": 86,
     "metadata": {},
     "output_type": "execute_result"
    }
   ],
   "source": [
    "dfNetflixClean.groupby('type').count()"
   ]
  },
  {
   "cell_type": "code",
   "execution_count": 87,
   "metadata": {},
   "outputs": [
    {
     "data": {
      "text/html": [
       "<div>\n",
       "<style scoped>\n",
       "    .dataframe tbody tr th:only-of-type {\n",
       "        vertical-align: middle;\n",
       "    }\n",
       "\n",
       "    .dataframe tbody tr th {\n",
       "        vertical-align: top;\n",
       "    }\n",
       "\n",
       "    .dataframe thead th {\n",
       "        text-align: right;\n",
       "    }\n",
       "</style>\n",
       "<table border=\"1\" class=\"dataframe\">\n",
       "  <thead>\n",
       "    <tr style=\"text-align: right;\">\n",
       "      <th></th>\n",
       "      <th>show_id</th>\n",
       "      <th>title</th>\n",
       "      <th>director</th>\n",
       "      <th>cast</th>\n",
       "      <th>country</th>\n",
       "      <th>date_added</th>\n",
       "      <th>release_year</th>\n",
       "      <th>rating</th>\n",
       "      <th>duration</th>\n",
       "      <th>listed_in</th>\n",
       "      <th>description</th>\n",
       "      <th>IMDB_Rating</th>\n",
       "      <th>year_added</th>\n",
       "    </tr>\n",
       "    <tr>\n",
       "      <th>type</th>\n",
       "      <th></th>\n",
       "      <th></th>\n",
       "      <th></th>\n",
       "      <th></th>\n",
       "      <th></th>\n",
       "      <th></th>\n",
       "      <th></th>\n",
       "      <th></th>\n",
       "      <th></th>\n",
       "      <th></th>\n",
       "      <th></th>\n",
       "      <th></th>\n",
       "      <th></th>\n",
       "    </tr>\n",
       "  </thead>\n",
       "  <tbody>\n",
       "    <tr>\n",
       "      <th>Movie</th>\n",
       "      <td>1484</td>\n",
       "      <td>1484</td>\n",
       "      <td>3</td>\n",
       "      <td>0</td>\n",
       "      <td>661</td>\n",
       "      <td>1484</td>\n",
       "      <td>1484</td>\n",
       "      <td>1194</td>\n",
       "      <td>1005</td>\n",
       "      <td>1484</td>\n",
       "      <td>1481</td>\n",
       "      <td>1360</td>\n",
       "      <td>1484</td>\n",
       "    </tr>\n",
       "    <tr>\n",
       "      <th>TV Show</th>\n",
       "      <td>1561</td>\n",
       "      <td>1561</td>\n",
       "      <td>0</td>\n",
       "      <td>0</td>\n",
       "      <td>932</td>\n",
       "      <td>1561</td>\n",
       "      <td>1561</td>\n",
       "      <td>1331</td>\n",
       "      <td>1561</td>\n",
       "      <td>1561</td>\n",
       "      <td>1560</td>\n",
       "      <td>1411</td>\n",
       "      <td>1561</td>\n",
       "    </tr>\n",
       "  </tbody>\n",
       "</table>\n",
       "</div>"
      ],
      "text/plain": [
       "         show_id  title  director  cast  country  date_added  release_year  \\\n",
       "type                                                                         \n",
       "Movie       1484   1484         3     0      661        1484          1484   \n",
       "TV Show     1561   1561         0     0      932        1561          1561   \n",
       "\n",
       "         rating  duration  listed_in  description  IMDB_Rating  year_added  \n",
       "type                                                                        \n",
       "Movie      1194      1005       1484         1481         1360        1484  \n",
       "TV Show    1331      1561       1561         1560         1411        1561  "
      ]
     },
     "execution_count": 87,
     "metadata": {},
     "output_type": "execute_result"
    }
   ],
   "source": [
    "dfHuluClean.groupby('type').count()"
   ]
  },
  {
   "cell_type": "code",
   "execution_count": 88,
   "metadata": {},
   "outputs": [
    {
     "data": {
      "text/plain": [
       "type         \n",
       "Movie    0.00    1923.0\n",
       "         0.25    2012.0\n",
       "         0.50    2017.0\n",
       "         0.75    2019.0\n",
       "         1.00    2021.0\n",
       "TV Show  0.00    1933.0\n",
       "         0.25    2010.0\n",
       "         0.50    2015.0\n",
       "         0.75    2019.0\n",
       "         1.00    2021.0\n",
       "Name: release_year, dtype: float64"
      ]
     },
     "execution_count": 88,
     "metadata": {},
     "output_type": "execute_result"
    }
   ],
   "source": [
    "dfHuluClean.groupby('type')['release_year'].quantile([.0, 0.25, .5, 0.75,  1])"
   ]
  },
  {
   "cell_type": "code",
   "execution_count": null,
   "metadata": {},
   "outputs": [],
   "source": []
  }
 ],
 "metadata": {
  "kernelspec": {
   "display_name": "base",
   "language": "python",
   "name": "python3"
  },
  "language_info": {
   "codemirror_mode": {
    "name": "ipython",
    "version": 3
   },
   "file_extension": ".py",
   "mimetype": "text/x-python",
   "name": "python",
   "nbconvert_exporter": "python",
   "pygments_lexer": "ipython3",
   "version": "3.11.8"
  }
 },
 "nbformat": 4,
 "nbformat_minor": 2
}
